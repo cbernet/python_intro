{
  "nbformat": 4,
  "nbformat_minor": 0,
  "metadata": {
    "kernelspec": {
      "display_name": "Python 3",
      "language": "python",
      "name": "python3"
    },
    "language_info": {
      "codemirror_mode": {
        "name": "ipython",
        "version": 3
      },
      "file_extension": ".py",
      "mimetype": "text/x-python",
      "name": "python",
      "nbconvert_exporter": "python",
      "pygments_lexer": "ipython3",
      "version": "3.7.6"
    },
    "colab": {
      "name": "01_python_crash_course_for_machine_learning.ipynb",
      "provenance": [],
      "include_colab_link": true
    }
  },
  "cells": [
    {
      "cell_type": "markdown",
      "metadata": {
        "id": "view-in-github",
        "colab_type": "text"
      },
      "source": [
        "<a href=\"https://colab.research.google.com/github/cbernet/introduction_machine_learning/blob/master/notebooks/python_crash_course/01_python_crash_course_for_machine_learning_solution.ipynb\" target=\"_parent\"><img src=\"https://colab.research.google.com/assets/colab-badge.svg\" alt=\"Open In Colab\"/></a>"
      ]
    },
    {
      "cell_type": "markdown",
      "metadata": {
        "id": "VgG042TGNHc9"
      },
      "source": [
        "At the moment, python is ruling the fields of data science and machine learning, after a long period of domination by R. So we think that you need to know this language to be able to use machine learning efficiently. \n",
        "\n",
        "But what if you've never used python? \n",
        "\n",
        "In this tutorial, we'll assume you're not a professional software developer, and we'll give you the basics that are necessary for machine learning. \n",
        "\n",
        "We hope that we'll give you a starting point and the motivation to learn more about this wonderful language. We can assure you that you won't regret it. \n",
        "\n",
        "Here's the outline: \n"
      ]
    },
    {
      "cell_type": "markdown",
      "metadata": {
        "id": "MElYKoVINHc_"
      },
      "source": [
        "* [Getting help](#Getting-help)\n",
        "* [variables and objects](#Variables-and-objects)\n",
        "* [Conditions](#Conditions)\n",
        "* [About code indentation](#About-code-indentation)\n",
        "* [Loops](#Loops)\n",
        "* [Basic input and output](#Basic-input-and-output)\n",
        "* [Functions](#Functions)\n",
        "* [Python data structures:](#Python-data-structures)\n",
        "  * lists\n",
        "  * tuples \n",
        "  * dictionaries \n",
        "  * lists or dictionaries?   \n",
        "* [The zen of python](#The-zen-of-python)\n",
        "  "
      ]
    },
    {
      "cell_type": "markdown",
      "metadata": {
        "id": "oIgu9xLsNHdB"
      },
      "source": [
        "## Getting help\n",
        "\n",
        "It's impossible to cover the entirety of python in this short course, and there are many subjects that won't be covered. For example, we will explain you what is a list, but will not explain you how to sort a list. \n",
        "\n",
        "And, after a few days, you will probably have forgotten some of the concepts or specific commands explained here. \n",
        "That's completely normal, and not a problem. Don't worry about this! \n",
        "\n",
        "But it's essential for you to know how to find more information about python when you need it. \n",
        "\n",
        "The python community is extremely large, so the fastest source of information is Google. If you just type **python doc sort list** on Google, you'll get your answer in a couple seconds. \n",
        "\n",
        "Generally speaking, the [python documentation](https://docs.python.org/3.8/) is extremely good, so make sure to use it. \n",
        "\n",
        "And if you want to dig further after this crash course, you could start with the [python tutorial](https://docs.python.org/3.8/tutorial/index.html). It will take you a day or so, but it's definitely worth it. \n",
        "\n"
      ]
    },
    {
      "cell_type": "markdown",
      "metadata": {
        "id": "5unYTFTCNHdD"
      },
      "source": [
        "## Variables and objects\n",
        "\n",
        "You've probably heard about about object-oriented programming, and it might sound complicated to you. \n",
        "\n",
        "Don't worry, we're not going to do any object-oriented programming in this course. But we'll use objects all the time, because in python, everything is an object. An integer, a string, a list of values, and even a function: all of these things are objects. \n",
        "\n",
        "Let's start by looking at an integer. With the `id` built-in function, we can get the unique identifier associated with this integer object: \n"
      ]
    },
    {
      "cell_type": "code",
      "metadata": {
        "id": "Nt5TqQEWNHdF",
        "outputId": "a19e8e0c-a2a7-49f5-cc37-bda9819e42bb",
        "colab": {
          "base_uri": "https://localhost:8080/",
          "height": 34
        }
      },
      "source": [
        "id(1)"
      ],
      "execution_count": 69,
      "outputs": [
        {
          "output_type": "execute_result",
          "data": {
            "text/plain": [
              "10914496"
            ]
          },
          "metadata": {
            "tags": []
          },
          "execution_count": 69
        }
      ]
    },
    {
      "cell_type": "markdown",
      "metadata": {
        "id": "y-J--BjZNHdT"
      },
      "source": [
        "And with the `type` function, we can get the type of the object: "
      ]
    },
    {
      "cell_type": "code",
      "metadata": {
        "id": "mqhW5p1wNHdU",
        "outputId": "b9b6a87c-ff5c-4856-a96d-f372161abc0b",
        "colab": {
          "base_uri": "https://localhost:8080/",
          "height": 34
        }
      },
      "source": [
        "type(1)"
      ],
      "execution_count": 70,
      "outputs": [
        {
          "output_type": "execute_result",
          "data": {
            "text/plain": [
              "int"
            ]
          },
          "metadata": {
            "tags": []
          },
          "execution_count": 70
        }
      ]
    },
    {
      "cell_type": "markdown",
      "metadata": {
        "id": "L88CtZQTNHdb"
      },
      "source": [
        "Now let's define a variable `a`, set it to 1, and print it: "
      ]
    },
    {
      "cell_type": "code",
      "metadata": {
        "id": "SDpCdZhmNHdd",
        "outputId": "72acb800-e88d-4309-c600-d92eebd7fa99",
        "colab": {
          "base_uri": "https://localhost:8080/",
          "height": 34
        }
      },
      "source": [
        "a = 1\n",
        "print(a)"
      ],
      "execution_count": 71,
      "outputs": [
        {
          "output_type": "stream",
          "text": [
            "1\n"
          ],
          "name": "stdout"
        }
      ]
    },
    {
      "cell_type": "markdown",
      "metadata": {
        "id": "AKEt5XwXNHdj"
      },
      "source": [
        "In the notebook, as we have done before, calling print is not always necessary to print the value of an object. At the end of a cell, it's enough to evaluate the object like this: "
      ]
    },
    {
      "cell_type": "code",
      "metadata": {
        "id": "uPS5-SDJNHdk",
        "outputId": "516eb411-f75a-4cc0-df65-c7d3dfa10280",
        "colab": {
          "base_uri": "https://localhost:8080/",
          "height": 34
        }
      },
      "source": [
        "b = 2\n",
        "b\n",
        "a"
      ],
      "execution_count": 72,
      "outputs": [
        {
          "output_type": "execute_result",
          "data": {
            "text/plain": [
              "1"
            ]
          },
          "metadata": {
            "tags": []
          },
          "execution_count": 72
        }
      ]
    },
    {
      "cell_type": "markdown",
      "metadata": {
        "id": "GPoNk5QLNHdr"
      },
      "source": [
        "But in a python script, or if you're not at the end of a cell in the notebook, you will need to use `print`. \n",
        "\n",
        "You might have noticed a big difference with respect to other languages, when we defined variable `a`: We didn't have to declare the type of the variable. In C++, for example, you would do `int a = 1;`\n",
        "\n",
        "In python, the type of a variable is inferred from the type of the object that is assigned to the variable, here an integer. So `a` is of type `int`: "
      ]
    },
    {
      "cell_type": "code",
      "metadata": {
        "id": "X9MTZzhMNHds",
        "outputId": "cba836c2-422c-48ea-990b-2e178911e682",
        "colab": {
          "base_uri": "https://localhost:8080/",
          "height": 34
        }
      },
      "source": [
        "type(a)"
      ],
      "execution_count": 73,
      "outputs": [
        {
          "output_type": "execute_result",
          "data": {
            "text/plain": [
              "int"
            ]
          },
          "metadata": {
            "tags": []
          },
          "execution_count": 73
        }
      ]
    },
    {
      "cell_type": "markdown",
      "metadata": {
        "id": "3dPUZusQNHd0"
      },
      "source": [
        "Now let's check the unique identifier of a: "
      ]
    },
    {
      "cell_type": "code",
      "metadata": {
        "id": "11pov8AkNHd0",
        "outputId": "78b4f861-602f-48b4-b66b-69e088b764a0",
        "colab": {
          "base_uri": "https://localhost:8080/",
          "height": 34
        }
      },
      "source": [
        "id(a)"
      ],
      "execution_count": 74,
      "outputs": [
        {
          "output_type": "execute_result",
          "data": {
            "text/plain": [
              "10914496"
            ]
          },
          "metadata": {
            "tags": []
          },
          "execution_count": 74
        }
      ]
    },
    {
      "cell_type": "markdown",
      "metadata": {
        "id": "xJ7xWBDrNHd6"
      },
      "source": [
        "That's the identifier of 1! And it's because `a` and `1` correspond to the exact same object in memory. \n",
        "\n",
        "----\n",
        "\n",
        "*Exercise:*\n",
        "\n",
        "Consider this code:\n",
        "\n",
        "```\n",
        "b = 1 \n",
        "c = b\n",
        "```\n",
        "\n",
        "Can you guess what the ids of `b` and `c` will be? \n",
        "Check your hypothesis in the cell below:"
      ]
    },
    {
      "cell_type": "code",
      "metadata": {
        "id": "L5wby0s9NHd7",
        "outputId": "262800d5-e4b1-45f8-a7e7-1671566cb8ae",
        "colab": {
          "base_uri": "https://localhost:8080/",
          "height": 34
        }
      },
      "source": [
        "# answer : \n",
        "print( id(b), id(c) )"
      ],
      "execution_count": 75,
      "outputs": [
        {
          "output_type": "stream",
          "text": [
            "10914528 10306432\n"
          ],
          "name": "stdout"
        }
      ]
    },
    {
      "cell_type": "markdown",
      "metadata": {
        "id": "l0Gav1vcNHeB"
      },
      "source": [
        "----"
      ]
    },
    {
      "cell_type": "markdown",
      "metadata": {
        "id": "yCzI7SyeNHeC"
      },
      "source": [
        "**Important:**\n",
        "\n",
        "In python, variables are called \"names\". And the process of assigning a value to a variable is called \"name binding\". In other words, you can see a variable as a label that is attached to an object. \n",
        "\n",
        "When we do `a=1`, we attach label `a` to integer `1`. If you attach another label to `1`, the same object now carries two labels. When we do the following, we just move label `a` from `1` to `2`:"
      ]
    },
    {
      "cell_type": "code",
      "metadata": {
        "id": "-05ih5XFNHeD"
      },
      "source": [
        "a = 1 \n",
        "a = 2"
      ],
      "execution_count": null,
      "outputs": []
    },
    {
      "cell_type": "markdown",
      "metadata": {
        "id": "MY1muCp4NHeI"
      },
      "source": [
        "**This might sound obvious, but please remember this, as it can lead to many misunderstandings, as we will later, in the section about loops.**  "
      ]
    },
    {
      "cell_type": "markdown",
      "metadata": {
        "id": "RWH3PO1HNHeJ"
      },
      "source": [
        "## Conditions\n",
        "\n",
        "Very often, you'll need to take decisions in your programs, depending on the current situation. Here's an example. Execute the following cell by selecting it and pressing shift+Enter. "
      ]
    },
    {
      "cell_type": "code",
      "metadata": {
        "id": "vnJh1I7LNHeL",
        "outputId": "1f9ed0b2-a28c-4557-e0fd-70a78c7804f2",
        "colab": {
          "base_uri": "https://localhost:8080/",
          "height": 34
        }
      },
      "source": [
        "do_great_the_world = True\n",
        "if do_great_the_world: \n",
        "    print('hello_world')\n",
        "else: \n",
        "    print('get lost')"
      ],
      "execution_count": null,
      "outputs": [
        {
          "output_type": "stream",
          "text": [
            "hello_world\n"
          ],
          "name": "stdout"
        }
      ]
    },
    {
      "cell_type": "markdown",
      "metadata": {
        "id": "608NF_GHNHeR"
      },
      "source": [
        "Now turn `do_great_the_world` to `False`, and re-execute the cell. That's it, you know how to do conditional execution. "
      ]
    },
    {
      "cell_type": "markdown",
      "metadata": {
        "id": "N5GCnxPvNHeS"
      },
      "source": [
        "## About code indentation\n",
        "\n",
        "In python, indentations are important, and are not only here to make the code readable and pretty. When you indent the code (just use tab for that), you specify that you are creating a nested context. For example, in the code above, the line `print('hello_world')` is \"under' the if condition, and will be executed only if `do_great_the_world` is true. \n",
        "\n",
        "In most other languages, however, contexts are surrounded by separators, like '{}' in C++. People coming from these other languages often do not like to be forced to indent. But if you get going with python, you will realize that: \n",
        "\n",
        "* no separators means faster and easier typing\n",
        "* if people don't indent, the code won't work, so you won't have to waste time trying to review unindented code from other people anymore.\n",
        "* Text editors and especially IDEs make it very easy and natural to indent properly: often, the editor will indent automatically, and otherwise you just need to press tab (or shift+tab to back-indent). "
      ]
    },
    {
      "cell_type": "markdown",
      "metadata": {
        "id": "Lfodf-39NHeT"
      },
      "source": [
        "## Loops \n",
        "\n",
        "Loops make it possible to repeat an operation many times. That's typically what programs are for, so we need to learn how to do this. \n",
        "\n",
        "First, we need to define something that we can loop upon. And things that can be looped upon are called *iterables*. A *list* is an iterable, and here's one: \n",
        "\n"
      ]
    },
    {
      "cell_type": "code",
      "metadata": {
        "id": "TCcamyG4NHeU",
        "outputId": "b27acd32-a7cc-4eb3-e749-da7aff917f46",
        "colab": {
          "base_uri": "https://localhost:8080/",
          "height": 34
        }
      },
      "source": [
        "a = [1, 2, 3, 4]\n",
        "print(a)"
      ],
      "execution_count": null,
      "outputs": [
        {
          "output_type": "stream",
          "text": [
            "[1, 2, 3, 4]\n"
          ],
          "name": "stdout"
        }
      ]
    },
    {
      "cell_type": "markdown",
      "metadata": {
        "id": "XU4347GoNHeb"
      },
      "source": [
        "Note how the print function adapts to the object being printed. You can try it on any kind of object, and you will usually get meaningful results. \n",
        "\n",
        "Now, let's write a loop to compute the squares of all values in the list, and to sum up those squares: "
      ]
    },
    {
      "cell_type": "code",
      "metadata": {
        "id": "lpHzJhcxNHec",
        "outputId": "0eedc648-899a-4acf-bfdd-d225e6950c31",
        "colab": {
          "base_uri": "https://localhost:8080/",
          "height": 52
        }
      },
      "source": [
        "squares = []\n",
        "sumsq = 0\n",
        "for x in a: \n",
        "    x2 = x**2\n",
        "    squares.append(x2)\n",
        "    sumsq += x2\n",
        "print(squares)\n",
        "print(sumsq)"
      ],
      "execution_count": null,
      "outputs": [
        {
          "output_type": "stream",
          "text": [
            "[1, 4, 9, 16]\n",
            "30\n"
          ],
          "name": "stdout"
        }
      ]
    },
    {
      "cell_type": "markdown",
      "metadata": {
        "id": "yv8RxiSCNHeh"
      },
      "source": [
        "What you know at this point about loops is probably enough in most programs, but we're going to have a look at a few syntactic shortcuts. \n",
        "\n",
        "You can loop in a very compact way by using *list comprehensions*: "
      ]
    },
    {
      "cell_type": "code",
      "metadata": {
        "id": "SyG5Bc8SNHei",
        "outputId": "de6233ed-21f8-461c-b404-e1ba84a930e2",
        "colab": {
          "base_uri": "https://localhost:8080/",
          "height": 34
        }
      },
      "source": [
        "squares = [x**2 for x in a]\n",
        "squares"
      ],
      "execution_count": null,
      "outputs": [
        {
          "output_type": "execute_result",
          "data": {
            "text/plain": [
              "[1, 4, 9, 16]"
            ]
          },
          "metadata": {
            "tags": []
          },
          "execution_count": 14
        }
      ]
    },
    {
      "cell_type": "markdown",
      "metadata": {
        "id": "pTsap3BzNHem"
      },
      "source": [
        "That can be handy, and you will encounter this kind of constructs very often. But don't overuse it. Beginners often tend to use several list comprehensions to compute different values from the same iterable, for example: "
      ]
    },
    {
      "cell_type": "code",
      "metadata": {
        "id": "ZHZmCfHmNHen",
        "outputId": "eb909de8-5e88-4ae1-d1f3-ac643705a205",
        "colab": {
          "base_uri": "https://localhost:8080/",
          "height": 52
        }
      },
      "source": [
        "squares = [x**2 for x in a]\n",
        "cubes = [x**3 for x in a]\n",
        "print(squares)\n",
        "print(cubes)"
      ],
      "execution_count": null,
      "outputs": [
        {
          "output_type": "stream",
          "text": [
            "[1, 4, 9, 16]\n",
            "[1, 8, 27, 64]\n"
          ],
          "name": "stdout"
        }
      ]
    },
    {
      "cell_type": "markdown",
      "metadata": {
        "id": "iLagCovONHer"
      },
      "source": [
        "**But this is neither elegant nor efficient. If you need to compute several things from the same iterable, use a standard loop construct to save CPU time and look like a pro.**"
      ]
    },
    {
      "cell_type": "markdown",
      "metadata": {
        "id": "oPfDiX96NHev"
      },
      "source": [
        "Often, you need to get the values from the iterable, and also the index at which the value is stored. For this, use `enumerate`: "
      ]
    },
    {
      "cell_type": "code",
      "metadata": {
        "id": "7fHdSJf9NHew",
        "outputId": "2e365372-46ee-4af5-94b0-e3f92177d0d9",
        "colab": {
          "base_uri": "https://localhost:8080/",
          "height": 86
        }
      },
      "source": [
        "for i, x in enumerate(a): \n",
        "    print(i, x)"
      ],
      "execution_count": null,
      "outputs": [
        {
          "output_type": "stream",
          "text": [
            "0 1\n",
            "1 2\n",
            "2 3\n",
            "3 4\n"
          ],
          "name": "stdout"
        }
      ]
    },
    {
      "cell_type": "markdown",
      "metadata": {
        "id": "1-lEQVLrNHe0"
      },
      "source": [
        "--- \n",
        "\n",
        "**Exercise**\n",
        "\n",
        "Let's come back to name binding in the context of loops. In the code below, we loop on a list, and try to add 1 to all elements in the list, but it does not work... do you understand why? "
      ]
    },
    {
      "cell_type": "code",
      "metadata": {
        "id": "_F58RAq6NHe1",
        "outputId": "cec17214-2c68-4dd9-9743-5e2ed9fb796b",
        "colab": {
          "base_uri": "https://localhost:8080/",
          "height": 52
        }
      },
      "source": [
        "lst = list(range(5))\n",
        "print(lst)\n",
        "for x in lst:\n",
        "    x = x+1\n",
        "print(lst)"
      ],
      "execution_count": 76,
      "outputs": [
        {
          "output_type": "stream",
          "text": [
            "[0, 1, 2, 3, 4]\n",
            "[0, 1, 2, 3, 4]\n"
          ],
          "name": "stdout"
        }
      ]
    },
    {
      "cell_type": "markdown",
      "metadata": {
        "id": "vjKnalC2WN6V"
      },
      "source": [
        "**Answer** : \n",
        "\n",
        "Because when we do the loop, we attach the label `x` to each element of `lst` sequentially. Then we compute `x+1`, and this works, we'll check that below. But when we assign the result of `x+1` to x, we're actually moving the label `x` to the value of `x+1`, thus detaching it from the value in lst. "
      ]
    },
    {
      "cell_type": "markdown",
      "metadata": {
        "id": "WSE_fl3HNHe5"
      },
      "source": [
        "---"
      ]
    },
    {
      "cell_type": "markdown",
      "metadata": {
        "id": "MjjLzSz2NHe6"
      },
      "source": [
        "## Basic input and output\n",
        "\n",
        "For data science, and especially if the data starts getting large, we will use specific libraries to read data files, and you will see that later when you start using data science libraries such as `numpy` or `pandas`. \n",
        "\n",
        "Here, you will just learn how to read and write basic text files.\n",
        "\n",
        "Write to a text file by doing: "
      ]
    },
    {
      "cell_type": "code",
      "metadata": {
        "id": "-9m5PRsgNHe7"
      },
      "source": [
        "a = [1, 2, 3, 4]\n",
        "fname = 'myfile.txt'\n",
        "# 'w' means that the file is opened in write mode\n",
        "with open(fname, 'w') as out_file: \n",
        "    for i in a: \n",
        "        # we convert our integers to strings, \n",
        "        # and we write one integer per line\n",
        "        # note that we need to add a newline \n",
        "        # character manually to the string,\n",
        "        # which just contains the number\n",
        "        out_file.write(str(i) + '\\n')"
      ],
      "execution_count": null,
      "outputs": []
    },
    {
      "cell_type": "markdown",
      "metadata": {
        "id": "TcHEm2w0NHe_"
      },
      "source": [
        "You can check the contents of the file with a shell function (the `!` notifies the jupyter notebook that this is a shell function):"
      ]
    },
    {
      "cell_type": "code",
      "metadata": {
        "id": "BWx6T9A6NHe_",
        "outputId": "d4ce6745-bde6-482d-9097-421e9945645b",
        "colab": {
          "base_uri": "https://localhost:8080/",
          "height": 86
        }
      },
      "source": [
        "! cat myfile.txt"
      ],
      "execution_count": null,
      "outputs": [
        {
          "output_type": "stream",
          "text": [
            "1\n",
            "2\n",
            "3\n",
            "4\n"
          ],
          "name": "stdout"
        }
      ]
    },
    {
      "cell_type": "markdown",
      "metadata": {
        "id": "e9lcfJRhNHfD"
      },
      "source": [
        "And now you can read the file back: "
      ]
    },
    {
      "cell_type": "code",
      "metadata": {
        "id": "4SyslknQNHfE",
        "outputId": "3d5dfdd5-8a5b-4b4c-ce41-336025fbaa09",
        "colab": {
          "base_uri": "https://localhost:8080/",
          "height": 86
        }
      },
      "source": [
        "with open(fname) as in_file: \n",
        "    for line in in_file: \n",
        "        # we remove the trailing '\\n':\n",
        "        line = line.strip()\n",
        "        print(line)"
      ],
      "execution_count": null,
      "outputs": [
        {
          "output_type": "stream",
          "text": [
            "1\n",
            "2\n",
            "3\n",
            "4\n"
          ],
          "name": "stdout"
        }
      ]
    },
    {
      "cell_type": "markdown",
      "metadata": {
        "id": "T7PFZrlONHfI"
      },
      "source": [
        "In both the writing and reading case, we have used the `with` statement. This statement makes sure that the file is live only within the context of the `with`. When the program goes out of the context, the file is closed automatically. \n",
        "\n",
        "It's important to make sure that files are closed when they're not needed anymore, so: \n",
        "\n",
        "**Always use the with statement to open files!**"
      ]
    },
    {
      "cell_type": "markdown",
      "metadata": {
        "id": "hIMAfQYQNHfJ"
      },
      "source": [
        "## Functions\n",
        "\n",
        "Here is a basic function, that does not take any argument (it has no parameters): "
      ]
    },
    {
      "cell_type": "code",
      "metadata": {
        "id": "UmgbQY6GNHfK",
        "outputId": "091c2c10-1c9d-4f33-9de4-5dc45d2dd9b4",
        "colab": {
          "base_uri": "https://localhost:8080/",
          "height": 34
        }
      },
      "source": [
        "def say_hello():\n",
        "    print('hello world!')\n",
        "    \n",
        "say_hello()"
      ],
      "execution_count": null,
      "outputs": [
        {
          "output_type": "stream",
          "text": [
            "hello world!\n"
          ],
          "name": "stdout"
        }
      ]
    },
    {
      "cell_type": "markdown",
      "metadata": {
        "id": "pI9GWTJfNHfO"
      },
      "source": [
        "To add parameters, just specify them in the function definition: "
      ]
    },
    {
      "cell_type": "code",
      "metadata": {
        "id": "-MZHHOqONHfP",
        "outputId": "b31a70a6-e567-4a58-9f22-2e04ba5b8da7",
        "colab": {
          "base_uri": "https://localhost:8080/",
          "height": 52
        }
      },
      "source": [
        "def say_hello(somebody):\n",
        "    print('hello {}'.format(somebody))\n",
        "    \n",
        "say_hello('world')\n",
        "say_hello('colin')"
      ],
      "execution_count": null,
      "outputs": [
        {
          "output_type": "stream",
          "text": [
            "hello world\n",
            "hello colin\n"
          ],
          "name": "stdout"
        }
      ]
    },
    {
      "cell_type": "markdown",
      "metadata": {
        "id": "znZZtI--NHfT"
      },
      "source": [
        "You can add any parameter you need, separating them with commas: "
      ]
    },
    {
      "cell_type": "code",
      "metadata": {
        "id": "2MVC4dw6NHfU",
        "outputId": "87114281-a1a4-42c7-80cc-399f36fcc0b1",
        "colab": {
          "base_uri": "https://localhost:8080/",
          "height": 34
        }
      },
      "source": [
        "def say_hello(a, b): \n",
        "    all_people = ' and '.join([a, b])\n",
        "    print('hello {}'.format(all_people))\n",
        "    \n",
        "say_hello('asterix', 'obelix')"
      ],
      "execution_count": null,
      "outputs": [
        {
          "output_type": "stream",
          "text": [
            "hello asterix and obelix\n"
          ],
          "name": "stdout"
        }
      ]
    },
    {
      "cell_type": "markdown",
      "metadata": {
        "id": "go1RawcTNHfX"
      },
      "source": [
        "Functions also can return objects. Often a single object (maybe a list), or a tuple of objects. To do this, use the return statement: "
      ]
    },
    {
      "cell_type": "code",
      "metadata": {
        "id": "dzn5uMXtNHfY",
        "outputId": "84ed145e-90cb-4d51-c409-093ce7d2ca90",
        "colab": {
          "base_uri": "https://localhost:8080/",
          "height": 34
        }
      },
      "source": [
        "def square(x):\n",
        "    return x**2\n",
        "\n",
        "square(2)"
      ],
      "execution_count": null,
      "outputs": [
        {
          "output_type": "execute_result",
          "data": {
            "text/plain": [
              "4"
            ]
          },
          "metadata": {
            "tags": []
          },
          "execution_count": 24
        }
      ]
    },
    {
      "cell_type": "code",
      "metadata": {
        "id": "KtSOJu_KNHfc",
        "outputId": "fa3b5208-f41b-43be-a422-dddd128d5883",
        "colab": {
          "base_uri": "https://localhost:8080/",
          "height": 34
        }
      },
      "source": [
        "import random\n",
        "\n",
        "def random_point():\n",
        "    return random.random(), random.random()\n",
        "\n",
        "random_point()"
      ],
      "execution_count": null,
      "outputs": [
        {
          "output_type": "execute_result",
          "data": {
            "text/plain": [
              "(0.5916910005762294, 0.9463409680654058)"
            ]
          },
          "metadata": {
            "tags": []
          },
          "execution_count": 25
        }
      ]
    },
    {
      "cell_type": "markdown",
      "metadata": {
        "id": "FIqIrpMsNHfg"
      },
      "source": [
        "You can define default values for the arguments, like this: "
      ]
    },
    {
      "cell_type": "code",
      "metadata": {
        "id": "z7pLuBq7NHfg",
        "outputId": "28a8c210-bcec-4bfb-9b41-13b97ea69b68",
        "colab": {
          "base_uri": "https://localhost:8080/",
          "height": 52
        }
      },
      "source": [
        "def say_hello(a='world'):\n",
        "    print('hello {}'.format(a))\n",
        "\n",
        "say_hello('colin')\n",
        "say_hello()"
      ],
      "execution_count": null,
      "outputs": [
        {
          "output_type": "stream",
          "text": [
            "hello colin\n",
            "hello world\n"
          ],
          "name": "stdout"
        }
      ]
    },
    {
      "cell_type": "markdown",
      "metadata": {
        "id": "RpBjMJLSNHfj"
      },
      "source": [
        "Finally, functions can either take unnamed positional arguments, or keyword arguments. Named arguments must be provided after all positional arguments. For example:"
      ]
    },
    {
      "cell_type": "code",
      "metadata": {
        "id": "jfuhp476NHfk",
        "outputId": "c753fb6f-123f-4b7e-c317-1d831cbcef3d",
        "colab": {
          "base_uri": "https://localhost:8080/",
          "height": 34
        }
      },
      "source": [
        "def say_hello(greeting, person='laurel', another_person='hardy'):\n",
        "    print('{greeting} {person} and {another}'.format(\n",
        "        greeting=greeting,\n",
        "        person=person,\n",
        "        another=another_person\n",
        "        )\n",
        "    )\n",
        "    \n",
        "say_hello('hi', another_person='colin')"
      ],
      "execution_count": null,
      "outputs": [
        {
          "output_type": "stream",
          "text": [
            "hi laurel and colin\n"
          ],
          "name": "stdout"
        }
      ]
    },
    {
      "cell_type": "markdown",
      "metadata": {
        "id": "l47uq1pKNHfn"
      },
      "source": [
        "In this example, `hi` is a positional argument, and person is a keyword argument. Of course, positional arguments are to be given in the right order! Keyword arguments are interesting because they make it obvious from outside the function what the argument is for. They also allow to specify only some of the arguments that have a default value. "
      ]
    },
    {
      "cell_type": "markdown",
      "metadata": {
        "id": "qwE0kufRNHfn"
      },
      "source": [
        "## Python data structures"
      ]
    },
    {
      "cell_type": "markdown",
      "metadata": {
        "id": "6vzhCLIcNHfo"
      },
      "source": [
        "### Lists \n",
        "\n",
        "The most widely used data structure in python is certainly the list. \n",
        "\n",
        "In the following example, we illustrate a few very common list operations: "
      ]
    },
    {
      "cell_type": "code",
      "metadata": {
        "id": "k-q6Q-jMNHfp",
        "outputId": "30cba502-c30d-48dc-a31f-57589cf7513b",
        "colab": {
          "base_uri": "https://localhost:8080/",
          "height": 156
        }
      },
      "source": [
        "# create the list, using square brackets\n",
        "data = ['a', 0, 1, 'b']\n",
        "# append a single element at the end\n",
        "data.append('c')\n",
        "# extend the list with the contents of another list \n",
        "data.extend([2, 3])\n",
        "# print the list length\n",
        "print('data size', len(data))\n",
        "# iterate on the list\n",
        "for elem in data: \n",
        "    print(elem)"
      ],
      "execution_count": null,
      "outputs": [
        {
          "output_type": "stream",
          "text": [
            "data size 7\n",
            "a\n",
            "0\n",
            "1\n",
            "b\n",
            "c\n",
            "2\n",
            "3\n"
          ],
          "name": "stdout"
        }
      ]
    },
    {
      "cell_type": "markdown",
      "metadata": {
        "id": "ExQjOKxgNHfs"
      },
      "source": [
        "### Tuples\n",
        "\n",
        "Tuples are very similar to lists. The difference between the two is that lists are **mutable**, while tuples are **immutable**. This means that we can change a list (as we have done when we added elements to our `data` list above), but we can't change a tuple. \n",
        "\n",
        "In the following example, we create a tuple, print it, and try to add elements to the tuple: "
      ]
    },
    {
      "cell_type": "code",
      "metadata": {
        "id": "LWgBR2TrNHfs",
        "outputId": "ba596b2a-2826-4357-c98d-163ee479e060",
        "colab": {
          "base_uri": "https://localhost:8080/",
          "height": 217
        }
      },
      "source": [
        "# create a tuple, using parentheses\n",
        "tup = (0, 1)\n",
        "print('length:', len(tup), 'elements:', tup)\n",
        "tup.append(2)"
      ],
      "execution_count": null,
      "outputs": [
        {
          "output_type": "stream",
          "text": [
            "length: 2 elements: (0, 1)\n"
          ],
          "name": "stdout"
        },
        {
          "output_type": "error",
          "ename": "AttributeError",
          "evalue": "ignored",
          "traceback": [
            "\u001b[0;31m---------------------------------------------------------------------------\u001b[0m",
            "\u001b[0;31mAttributeError\u001b[0m                            Traceback (most recent call last)",
            "\u001b[0;32m<ipython-input-29-c72b34954c76>\u001b[0m in \u001b[0;36m<module>\u001b[0;34m()\u001b[0m\n\u001b[1;32m      2\u001b[0m \u001b[0mtup\u001b[0m \u001b[0;34m=\u001b[0m \u001b[0;34m(\u001b[0m\u001b[0;36m0\u001b[0m\u001b[0;34m,\u001b[0m \u001b[0;36m1\u001b[0m\u001b[0;34m)\u001b[0m\u001b[0;34m\u001b[0m\u001b[0;34m\u001b[0m\u001b[0m\n\u001b[1;32m      3\u001b[0m \u001b[0mprint\u001b[0m\u001b[0;34m(\u001b[0m\u001b[0;34m'length:'\u001b[0m\u001b[0;34m,\u001b[0m \u001b[0mlen\u001b[0m\u001b[0;34m(\u001b[0m\u001b[0mtup\u001b[0m\u001b[0;34m)\u001b[0m\u001b[0;34m,\u001b[0m \u001b[0;34m'elements:'\u001b[0m\u001b[0;34m,\u001b[0m \u001b[0mtup\u001b[0m\u001b[0;34m)\u001b[0m\u001b[0;34m\u001b[0m\u001b[0;34m\u001b[0m\u001b[0m\n\u001b[0;32m----> 4\u001b[0;31m \u001b[0mtup\u001b[0m\u001b[0;34m.\u001b[0m\u001b[0mappend\u001b[0m\u001b[0;34m(\u001b[0m\u001b[0;36m2\u001b[0m\u001b[0;34m)\u001b[0m\u001b[0;34m\u001b[0m\u001b[0;34m\u001b[0m\u001b[0m\n\u001b[0m",
            "\u001b[0;31mAttributeError\u001b[0m: 'tuple' object has no attribute 'append'"
          ]
        }
      ]
    },
    {
      "cell_type": "markdown",
      "metadata": {
        "id": "FQYpdkzONHfw"
      },
      "source": [
        "Of course, this fails because the tuple is immutable. This might seem like a big drawback of tuples. But it's not! We're not going to enter a long debate about why this is the case, and only give you one recommendation: \n",
        "\n",
        "**if you need to define a sequence that shouldn't or won't be modified, use a tuple.**\n",
        "\n",
        "This will make it easier for you to debug your code, and make it more memory efficient. \n",
        "\n",
        "Finally, a word about tuple assignment. It's possible to create a tuple by **packing** values as we have done above. And actually we can omit the parentheses: "
      ]
    },
    {
      "cell_type": "code",
      "metadata": {
        "id": "hkGYWttFNHfx",
        "outputId": "947a58aa-6b15-4aca-d2be-598e68fa99d2",
        "colab": {
          "base_uri": "https://localhost:8080/",
          "height": 34
        }
      },
      "source": [
        "tup = 0, 1\n",
        "tup"
      ],
      "execution_count": null,
      "outputs": [
        {
          "output_type": "execute_result",
          "data": {
            "text/plain": [
              "(0, 1)"
            ]
          },
          "metadata": {
            "tags": []
          },
          "execution_count": 30
        }
      ]
    },
    {
      "cell_type": "markdown",
      "metadata": {
        "id": "kcOe51b2NHf0"
      },
      "source": [
        "And we can also **unpack**: "
      ]
    },
    {
      "cell_type": "code",
      "metadata": {
        "id": "i9uQdc2NNHf1",
        "outputId": "5751772b-d53e-4293-873b-68758c856cc1",
        "colab": {
          "base_uri": "https://localhost:8080/",
          "height": 34
        }
      },
      "source": [
        "x, y = tup\n",
        "print(x, y)"
      ],
      "execution_count": null,
      "outputs": [
        {
          "output_type": "stream",
          "text": [
            "0 1\n"
          ],
          "name": "stdout"
        }
      ]
    },
    {
      "cell_type": "markdown",
      "metadata": {
        "id": "N47r_W10NHf3"
      },
      "source": [
        "Doing packing and unpacking at the same time, we can **initialize several variables in one command**:"
      ]
    },
    {
      "cell_type": "code",
      "metadata": {
        "id": "iHDD22AINHf4",
        "outputId": "95f040ef-3c9f-4cd9-a286-22f2fda4e3f4",
        "colab": {
          "base_uri": "https://localhost:8080/",
          "height": 34
        }
      },
      "source": [
        "x, y = 0, 1\n",
        "print(x, y)"
      ],
      "execution_count": null,
      "outputs": [
        {
          "output_type": "stream",
          "text": [
            "0 1\n"
          ],
          "name": "stdout"
        }
      ]
    },
    {
      "cell_type": "markdown",
      "metadata": {
        "id": "qrsO4qRINHf6"
      },
      "source": [
        "### Dictionaries \n",
        "\n",
        "Dictionaries are very different from lists and tuples. They are **mutable**, **mapping** data structures. This means that dictionaries contain elements that are made of a **key** mapping to a **value**, and that we can modify existing dictionaries. Here's your first one: \n"
      ]
    },
    {
      "cell_type": "code",
      "metadata": {
        "id": "rJW31I6aNHf7",
        "outputId": "0c2b70b3-c984-4f0d-c242-ff8978e1827c",
        "colab": {
          "base_uri": "https://localhost:8080/",
          "height": 34
        }
      },
      "source": [
        "data = {\n",
        "    'x': 1,\n",
        "    'y': 2\n",
        "}\n",
        "\n",
        "data"
      ],
      "execution_count": null,
      "outputs": [
        {
          "output_type": "execute_result",
          "data": {
            "text/plain": [
              "{'x': 1, 'y': 2}"
            ]
          },
          "metadata": {
            "tags": []
          },
          "execution_count": 33
        }
      ]
    },
    {
      "cell_type": "markdown",
      "metadata": {
        "id": "3NaUkxLgNHf-"
      },
      "source": [
        "One can add items (or change the value of existing keys!) like this: "
      ]
    },
    {
      "cell_type": "code",
      "metadata": {
        "id": "-oRmFoXONHf-",
        "outputId": "12595ba3-e968-4eed-dea5-cd0aac2c2ab6",
        "colab": {
          "base_uri": "https://localhost:8080/",
          "height": 34
        }
      },
      "source": [
        "data['x'] = 0\n",
        "data['z'] = 3\n",
        "data"
      ],
      "execution_count": null,
      "outputs": [
        {
          "output_type": "execute_result",
          "data": {
            "text/plain": [
              "{'x': 0, 'y': 2, 'z': 3}"
            ]
          },
          "metadata": {
            "tags": []
          },
          "execution_count": 34
        }
      ]
    },
    {
      "cell_type": "markdown",
      "metadata": {
        "id": "65Cex1vBNHgA"
      },
      "source": [
        "And we can access the value of a key like this: "
      ]
    },
    {
      "cell_type": "code",
      "metadata": {
        "id": "FRjFgYyDNHgA",
        "outputId": "8f0d789d-8969-42c6-b49c-e3678d24f4da",
        "colab": {
          "base_uri": "https://localhost:8080/",
          "height": 34
        }
      },
      "source": [
        "data['x']"
      ],
      "execution_count": null,
      "outputs": [
        {
          "output_type": "execute_result",
          "data": {
            "text/plain": [
              "0"
            ]
          },
          "metadata": {
            "tags": []
          },
          "execution_count": 35
        }
      ]
    },
    {
      "cell_type": "markdown",
      "metadata": {
        "id": "6H5JLjZtNHgE"
      },
      "source": [
        "Python programmers often use dictionaries (or lists of dictionaries) to keep track of information. For example, for a phone book: "
      ]
    },
    {
      "cell_type": "code",
      "metadata": {
        "id": "_WzxTE_PNHgE",
        "outputId": "ca5a7616-593c-4eb4-feed-cdd2a64b660c",
        "colab": {
          "base_uri": "https://localhost:8080/",
          "height": 69
        }
      },
      "source": [
        "[\n",
        "    {'first_name':'john',\n",
        "     'last_name':'smith',\n",
        "     'phone': 1234567 \n",
        "    },\n",
        "    {'first_name':'john',\n",
        "     'last_name':'goodman',\n",
        "     'phone': 7654321    \n",
        "    },\n",
        "    {'first_name':'will',\n",
        "     'last_name':'smith',\n",
        "     'phone': 1234851,     \n",
        "    } \n",
        "]"
      ],
      "execution_count": null,
      "outputs": [
        {
          "output_type": "execute_result",
          "data": {
            "text/plain": [
              "[{'first_name': 'john', 'last_name': 'smith', 'phone': 1234567},\n",
              " {'first_name': 'john', 'last_name': 'goodman', 'phone': 7654321},\n",
              " {'first_name': 'will', 'last_name': 'smith', 'phone': 1234851}]"
            ]
          },
          "metadata": {
            "tags": []
          },
          "execution_count": 36
        }
      ]
    },
    {
      "cell_type": "markdown",
      "metadata": {
        "id": "_6Psh7-qNHgU"
      },
      "source": [
        "### List or dictionary? "
      ]
    },
    {
      "cell_type": "markdown",
      "metadata": {
        "id": "kHcLCHjtNHgV"
      },
      "source": [
        "At first, deciding which container to use might not be easy. So keep in mind the following facts: \n",
        "\n",
        "**Lists:**\n",
        "\n",
        "* sequential, meaning that the elements are arranged in a given order;\n",
        "* can be sorted;\n",
        "* provide very fast access to an element when its index is known, with O(1) complexity\n",
        "* checking whether an item is in a list is of complexity O(n), so the time needed scales linearly with the number of elements in the list\n",
        "\n",
        "**Dictionaries:**\n",
        "\n",
        "* provide very fast access to an element when its key is known, with O(1) complexity\n",
        "* checking whether a key is in the dictionary is of complexity O(1).\n",
        "* for python < 3.6, dictionaries are inherently unsorted. For python 3.6, the order of element insertion is preserved in *some* implementations of python. For python >= 3.7, the insertion order is always preserved. \n",
        "---\n",
        "\n",
        "*Exercise*\n",
        "\n",
        "In the following cases, would you use a list, a dictionary, a list of tuples? If you use a list, which elements would you store? If you use a dictionary, which key and value would you store? \n",
        "\n",
        "* plotting (x,y) data points. In which data structure would you store your points before plotting? \n",
        "* a detector has 32 channels, and measures one value in each channel when the measurement is triggered. Which data structure would you use to store the measurements? \n",
        "* some channels are bad and need to be masked out. Where would you store the bad channels? \n",
        "* each value should be calibrated by a factor that depends on the channel. Where would you store the calibration factors? \n",
        "* consider the phone book given above. What would be the complexity for finding the information for a given person? How would you improve the phonebook to make the search very fast? \n",
        "\n",
        "---"
      ]
    },
    {
      "cell_type": "markdown",
      "metadata": {
        "id": "2Q7pcgDoZCPp"
      },
      "source": [
        "**Answers:**"
      ]
    },
    {
      "cell_type": "code",
      "metadata": {
        "id": "tXjaJhc1YVSQ",
        "outputId": "db73ed43-6f6d-48b5-92e7-032b9c7c10a1",
        "colab": {
          "base_uri": "https://localhost:8080/",
          "height": 52
        }
      },
      "source": [
        "# detector with 3 channels. We use a list \n",
        "# to store the measured values in each channel\n",
        "channels = [2.5, 1.2, 3.]\n",
        "\n",
        "# we can then access directly the value measured \n",
        "# in chan 0 : \n",
        "print(channels[0])\n",
        "\n",
        "# channel 0 is bad. \n",
        "# we could store this in a list\n",
        "is_bad = [True, False, False]\n",
        "\n",
        "# or as a dictionary: \n",
        "bad = {0: 'dead channel since 13/10'}\n",
        "\n",
        "# this solution is more efficient: it's as fast to know if a channel is good \n",
        "# or bad, and if you have many channels, you only have to store the bad\n",
        "# ones in the dictionary. We have 100 millions in the CMS experiment ;-) \n",
        "\n",
        "# calibration: I would probably use a list: \n",
        "calib = [1.1, 1.05, 1.03]\n",
        "\n",
        "# phonebook : we currently store the data in a list of dictionaries, with \n",
        "# one dictionary per person. Looking for a given person is O(n) where \n",
        "# n is the number of people in the phonebook. Very inefficient. \n",
        "# to improve this, use a dictionary with name, lastname as a key: \n",
        "\n",
        "phonebook = {\n",
        "    ('john', 'smith'): {'first_name':'john',\n",
        "        'last_name':'smith',\n",
        "        'phone': 1234567 \n",
        "      },\n",
        "    ('john', 'goodman'): {'first_name':'john',\n",
        "        'last_name':'goodman',\n",
        "        'phone': 7654321    \n",
        "      },\n",
        "    ('will', 'smith'): {'first_name':'will',\n",
        "        'last_name':'smith',\n",
        "        'phone': 1234851,     \n",
        "      } \n",
        "}\n",
        "\n",
        "phonebook[('will', 'smith')]"
      ],
      "execution_count": 82,
      "outputs": [
        {
          "output_type": "stream",
          "text": [
            "2.5\n"
          ],
          "name": "stdout"
        },
        {
          "output_type": "execute_result",
          "data": {
            "text/plain": [
              "{'first_name': 'will', 'last_name': 'smith', 'phone': 1234851}"
            ]
          },
          "metadata": {
            "tags": []
          },
          "execution_count": 82
        }
      ]
    },
    {
      "cell_type": "markdown",
      "metadata": {
        "id": "GHI6zBrPNHgW"
      },
      "source": [
        "## The zen of python\n",
        "\n",
        "Python is an extremely flexible language. \n",
        "\n",
        "For instance, you can go for object-oriented or fully functional programming, or go for an hybrid approach. And if you decide to do object-oriented programming, for example, there are several ways to do so...\n",
        "\n",
        "In fact, when you need to do something with python, you will certainly find that the most difficult is to choose how to do it.  \n",
        "\n",
        "When in doubt, follow the Zen of Python ([PEP20](https://www.python.org/dev/peps/pep-0020/)):\n",
        "\n",
        "* Beautiful is better than ugly.\n",
        "* Explicit is better than implicit.\n",
        "* Simple is better than complex.\n",
        "* Complex is better than complicated.\n",
        "* Flat is better than nested.\n",
        "* Sparse is better than dense.\n",
        "* Readability counts.\n",
        "* Special cases aren't special enough to break the rules.\n",
        "* Although practicality beats purity.\n",
        "* Errors should never pass silently.\n",
        "* Unless explicitly silenced.\n",
        "* In the face of ambiguity, refuse the temptation to guess.\n",
        "* There should be one-- and preferably only one --obvious way to do it.\n",
        "* Although that way may not be obvious at first unless you're Dutch.\n",
        "* Now is better than never.\n",
        "* Although never is often better than *right* now.\n",
        "* If the implementation is hard to explain, it's a bad idea.\n",
        "* If the implementation is easy to explain, it may be a good idea.\n",
        "* Namespaces are one honking great idea -- let's do more of those!\n",
        "\n",
        "And as style goes, follow [PEP8!](https://www.python.org/dev/peps/pep-0008/). "
      ]
    }
  ]
}