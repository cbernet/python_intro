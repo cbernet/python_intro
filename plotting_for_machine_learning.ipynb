{
  "nbformat": 4,
  "nbformat_minor": 0,
  "metadata": {
    "kernelspec": {
      "display_name": "Python 3",
      "language": "python",
      "name": "python3"
    },
    "language_info": {
      "codemirror_mode": {
        "name": "ipython",
        "version": 3
      },
      "file_extension": ".py",
      "mimetype": "text/x-python",
      "name": "python",
      "nbconvert_exporter": "python",
      "pygments_lexer": "ipython3",
      "version": "3.7.6"
    },
    "colab": {
      "name": "plotting_for_machine_learning.ipynb",
      "provenance": []
    }
  },
  "cells": [
    {
      "cell_type": "markdown",
      "metadata": {
        "id": "V86SYqSycI_F"
      },
      "source": [
        "## The Normal Distribution / Plotting a Function\n",
        "\n",
        "First, we're going to learn how to plot a function $f(x)$. \n",
        "\n",
        "For $f$, we'll choose a **probability density function** (pdf) that we're going to use it later to generate a dataset. \n",
        "\n",
        "First, a short introduction to probability density functions. \n",
        "\n",
        "Let's assume that $x$ is a continuous random variable distributed between minus infinity and plus infinity.\n",
        "\n",
        "If we randomly draw values from $x$, the distribution of these values along $x$ is described by the pdf of $x$. The higher the pdf at a given $x$, the larger the probability to get values here. More precisely, the probability that a value lands between $x=a$ and $x=a + da$, where $da$ is an infinitesimal interval, is $f(a) da$. \n",
        "\n",
        "The probability for a value to land between $-\\infty$ and $+\\infty$ is 1, so a pdf is always normalized to 1: \n",
        "\n",
        "$$\\int_{-\\infty}^{\\infty} f(x) dx = 1.$$\n",
        "\n",
        "In fact, the integral simply sums up the probabilities for the value to end up in all infinitesimal intervals. "
      ]
    },
    {
      "cell_type": "markdown",
      "metadata": {
        "id": "2rVJDXi1cI_F"
      },
      "source": [
        "Any function can be a pdf as long as it is normalized to 1 and always positive (a probability cannot be negative). For example, the uniform distribution is perfectly flat on the full $x$ range. \n",
        "\n",
        "Here, we're going to choose the most famous pdf, the [normal distribution](https://en.wikipedia.org/wiki/Normal_distribution), also known as the Gaussian distribution.\n",
        "\n",
        "The normal distribution is available in [scipy.stats](https://docs.scipy.org/doc/scipy/reference/tutorial/stats.html). We could also use the lower-level [numpy.random.normal](https://docs.**scipy**.org/doc/numpy-1.15.0/reference/generated/numpy.random.normal.html)."
      ]
    },
    {
      "cell_type": "code",
      "metadata": {
        "id": "M5rKEnQscI_F"
      },
      "source": [
        "from scipy.stats import norm"
      ],
      "execution_count": 6,
      "outputs": []
    },
    {
      "cell_type": "markdown",
      "metadata": {
        "id": "pznuMWdOcI_G"
      },
      "source": [
        "To plot this function, we first need to define a range of values of $x$ for which we will evaluate the function.\n",
        "\n",
        "With numpy, it is easy to create a numpy array with evenly spaced values in a given range:\n",
        "\n"
      ]
    },
    {
      "cell_type": "code",
      "metadata": {
        "colab": {
          "base_uri": "https://localhost:8080/"
        },
        "id": "cu2SbX9zcI_G",
        "outputId": "bb3801d6-7330-4d71-a56e-488a5fd20fc4"
      },
      "source": [
        "import numpy as np\n",
        "np.set_printoptions(suppress=True, threshold=20)\n",
        "x = np.linspace(-5,5,100)\n",
        "x"
      ],
      "execution_count": 1,
      "outputs": [
        {
          "output_type": "execute_result",
          "data": {
            "text/plain": [
              "array([-5.       , -4.8989899, -4.7979798, ...,  4.7979798,  4.8989899,\n",
              "        5.       ])"
            ]
          },
          "metadata": {
            "tags": []
          },
          "execution_count": 1
        }
      ]
    },
    {
      "cell_type": "markdown",
      "metadata": {
        "id": "aikJIiPJoVnZ"
      },
      "source": [
        "For the 100 values to be evenly positioned between -5 and 5, we get these weird decimal numbers. To avoid this, we need a value at zero, and so we need to generate an odd number of values: "
      ]
    },
    {
      "cell_type": "code",
      "metadata": {
        "id": "-cs4u0J2oowi",
        "outputId": "2b2df789-112e-4351-845a-496505d1156f",
        "colab": {
          "base_uri": "https://localhost:8080/"
        }
      },
      "source": [
        "import numpy as np\n",
        "np.set_printoptions(suppress=True, threshold=20)\n",
        "x = np.linspace(-5,5,101)\n",
        "x"
      ],
      "execution_count": 4,
      "outputs": [
        {
          "output_type": "execute_result",
          "data": {
            "text/plain": [
              "array([-5. , -4.9, -4.8, ...,  4.8,  4.9,  5. ])"
            ]
          },
          "metadata": {
            "tags": []
          },
          "execution_count": 4
        }
      ]
    },
    {
      "cell_type": "markdown",
      "metadata": {
        "id": "Ub_BkwHqcI_I"
      },
      "source": [
        "Then, we evaluate the function for all x values in one go, again thanks to numpy:"
      ]
    },
    {
      "cell_type": "code",
      "metadata": {
        "colab": {
          "base_uri": "https://localhost:8080/"
        },
        "id": "C1Mv5z3RcI_I",
        "outputId": "b4dbadcd-5e9c-4725-8ecc-89c84d074cad"
      },
      "source": [
        "# we choose mean=0, sigma=1\n",
        "# for our gaussian pdf\n",
        "y = norm.pdf(x, 0., 1.)\n",
        "y"
      ],
      "execution_count": 7,
      "outputs": [
        {
          "output_type": "execute_result",
          "data": {
            "text/plain": [
              "array([0.00000149, 0.00000244, 0.00000396, ..., 0.00000396, 0.00000244,\n",
              "       0.00000149])"
            ]
          },
          "metadata": {
            "tags": []
          },
          "execution_count": 7
        }
      ]
    },
    {
      "cell_type": "markdown",
      "metadata": {
        "id": "syR9YgpGcI_I"
      },
      "source": [
        "Finally we can plot y vs x: "
      ]
    },
    {
      "cell_type": "code",
      "metadata": {
        "colab": {
          "base_uri": "https://localhost:8080/",
          "height": 282
        },
        "id": "Bb7DtP5DcI_J",
        "outputId": "c3d93259-7396-4141-dd17-2c29019848ba"
      },
      "source": [
        "import matplotlib.pyplot as plt\n",
        "plt.plot(x, y)"
      ],
      "execution_count": 8,
      "outputs": [
        {
          "output_type": "execute_result",
          "data": {
            "text/plain": [
              "[<matplotlib.lines.Line2D at 0x7f117d98a4d0>]"
            ]
          },
          "metadata": {
            "tags": []
          },
          "execution_count": 8
        },
        {
          "output_type": "display_data",
          "data": {
            "image/png": "[encoded data removed]",
            "text/plain": [
              "<Figure size 432x288 with 1 Axes>"
            ]
          },
          "metadata": {
            "tags": [],
            "needs_background": "light"
          }
        }
      ]
    },
    {
      "cell_type": "markdown",
      "metadata": {
        "id": "boHNu4VkcI_J"
      },
      "source": [
        "Matplotlib automatically linked the data in the y and x arrays (which must have the same length), plotted the 101 points, and connected the points with straight lines. This is not visible in the picture given the fairly large number of points. \n",
        "\n",
        "Note the bell shape of the normal distribution. There is a maximum probability to get x values around zero, with some uncertainty. This distribution is typical of experimental measurements. \n",
        "\n",
        "For example, if you measure the room temperature several times, you might get: 19.7, 19.6, 19.7, 19.5, ... These values are distributed according to the normal distribution due to underlying statistical processes affecting the measurement. The average of your measurements is a good estimate of the actual room temperature, and the spread gives you the uncertainty in your measurement. "
      ]
    },
    {
      "cell_type": "markdown",
      "metadata": {
        "id": "OiasAxewcI_J"
      },
      "source": [
        "We did the plot step-by-step this time, but often, we define y (and sometimes x as well) on the fly: "
      ]
    },
    {
      "cell_type": "code",
      "metadata": {
        "colab": {
          "base_uri": "https://localhost:8080/",
          "height": 282
        },
        "id": "7p1VATGjcI_J",
        "outputId": "577cd6ca-2d81-41cd-ec46-2b9f35ef924d"
      },
      "source": [
        "plt.plot(x, norm.pdf(x, 0, 1))\n",
        "plt.plot(x, norm.pdf(x, 2, 0.5))"
      ],
      "execution_count": 9,
      "outputs": [
        {
          "output_type": "execute_result",
          "data": {
            "text/plain": [
              "[<matplotlib.lines.Line2D at 0x7f117d47a2d0>]"
            ]
          },
          "metadata": {
            "tags": []
          },
          "execution_count": 9
        },
        {
          "output_type": "display_data",
          "data": {
            "image/png": "[encoded data removed]",
            "text/plain": [
              "<Figure size 432x288 with 1 Axes>"
            ]
          },
          "metadata": {
            "tags": [],
            "needs_background": "light"
          }
        }
      ]
    },
    {
      "cell_type": "markdown",
      "metadata": {
        "id": "Q1wj9zMncI_K"
      },
      "source": [
        "This time, we added a second normal distribution centred at 2, with a smaller spread. \n",
        "\n",
        "This distribution could represent the measurement of a value that is higher, with better precision. \n",
        "\n",
        "Note that matplotlib is clever enough to change the color automatically for the different plots, and to adapt the range of the y axis so that the whole information is visible. \n",
        "\n",
        "If you're a particle physicist, you know ROOT. I'm not going comment further. "
      ]
    },
    {
      "cell_type": "markdown",
      "metadata": {
        "id": "rrOrswvUcI_K"
      },
      "source": [
        "## Cosmetics: Titles, Legend, Log Scale"
      ]
    },
    {
      "cell_type": "markdown",
      "metadata": {
        "id": "tXBtS-Z_cI_K"
      },
      "source": [
        "Scientific plots must be crystal clear, so we need to name our axes, and to add a legend. We can also give a title to the plot. Finally, it's often better to use a log scale on the y axis. Let's do all that: "
      ]
    },
    {
      "cell_type": "code",
      "metadata": {
        "id": "jvqTU9O1cI_K",
        "outputId": "68170c31-8137-4cf2-d894-054ce21af193"
      },
      "source": [
        "plot = plt.plot(x, norm.pdf(x, 0, 1), label='wide')\n",
        "plt.plot(x, norm.pdf(x, 2, 0.5), label='narrow')\n",
        "plt.title('Two Gaussian PDFs')\n",
        "plt.ylabel('p.d.f.')\n",
        "plt.xlabel('x')\n",
        "plt.yscale('log')\n",
        "# limiting the y axis, or the y axis \n",
        "# would go down to 10^(- a lot) and \n",
        "# the lines would be compressed at the top \n",
        "# of the plot\n",
        "plt.ylim(0.02, 1)\n",
        "plt.legend()"
      ],
      "execution_count": null,
      "outputs": [
        {
          "output_type": "execute_result",
          "data": {
            "text/plain": [
              "<matplotlib.legend.Legend at 0x1a14f3f3d0>"
            ]
          },
          "metadata": {
            "tags": []
          },
          "execution_count": 6
        },
        {
          "output_type": "display_data",
          "data": {
            "image/png": "[encoded data removed]",
            "text/plain": [
              "<Figure size 432x288 with 1 Axes>"
            ]
          },
          "metadata": {
            "tags": [],
            "needs_background": "light"
          }
        }
      ]
    },
    {
      "cell_type": "markdown",
      "metadata": {
        "id": "nKrZH5pqcI_K"
      },
      "source": [
        "## Machine Learning Dataset / Scatter Plot and Histograms"
      ]
    },
    {
      "cell_type": "markdown",
      "metadata": {
        "id": "ntm2S5YgcI_L"
      },
      "source": [
        "Now that we know what's a normal distribution, we can use it to draw a sample of random values to create a toy dataset. \n",
        "\n",
        "Our goal is to construct a numpy array with shape (N, 1) for the whole input data, which is a columnar array with a single value for each example, drawn from a gaussian pdf. The examples will come from two categories denoted 0 and 1, corresponding to two different gaussian pdfs. \n",
        "\n",
        "We also need an array of shape (N,) for the targets, which identify the true category of each example. \n",
        "\n",
        "We use numpy to draw 100 values from each gaussian pdf: "
      ]
    },
    {
      "cell_type": "code",
      "metadata": {
        "id": "X5qGrwpgcI_L",
        "outputId": "0b076916-c7ae-4d58-ce7b-adb97c0d212f"
      },
      "source": [
        "sigma = 1.\n",
        "x0 = np.random.normal(-1.5, sigma, 100)\n",
        "x1 = np.random.normal(1.5, sigma, 100)\n",
        "x0.shape"
      ],
      "execution_count": null,
      "outputs": [
        {
          "output_type": "execute_result",
          "data": {
            "text/plain": [
              "(100,)"
            ]
          },
          "metadata": {
            "tags": []
          },
          "execution_count": 7
        }
      ]
    },
    {
      "cell_type": "markdown",
      "metadata": {
        "id": "7rKWH4PzcI_L"
      },
      "source": [
        "For now, these arrays don't have the right shape. We have 1D arrays of shape (100,), and we need columnar arrays of shape (100,1). Also, we will need to mix these arrays together to get a complete input data array of shape (200,1). \n",
        "\n",
        "Before we do this, we create the target arrays for the two categories: "
      ]
    },
    {
      "cell_type": "code",
      "metadata": {
        "id": "H26-4bKFcI_L"
      },
      "source": [
        "y0 = np.zeros_like(x0)\n",
        "y1 = np.ones_like(x1)"
      ],
      "execution_count": null,
      "outputs": []
    },
    {
      "cell_type": "markdown",
      "metadata": {
        "id": "dm02VTBNcI_M"
      },
      "source": [
        "The two samples can be visualized as a scatter plot, with the category on the y axis: "
      ]
    },
    {
      "cell_type": "code",
      "metadata": {
        "id": "8J9bua9qcI_M",
        "outputId": "9fef1dc2-82df-44c5-c576-6ceac650a45a"
      },
      "source": [
        "plt.plot(x0, y0,'o')\n",
        "plt.plot(x1, y1,'o')\n",
        "plt.xlabel('x')\n",
        "plt.ylabel('category')"
      ],
      "execution_count": null,
      "outputs": [
        {
          "output_type": "execute_result",
          "data": {
            "text/plain": [
              "Text(0, 0.5, 'category')"
            ]
          },
          "metadata": {
            "tags": []
          },
          "execution_count": 9
        },
        {
          "output_type": "display_data",
          "data": {
            "image/png": "[encoded data removed]",
            "text/plain": [
              "<Figure size 432x288 with 1 Axes>"
            ]
          },
          "metadata": {
            "tags": [],
            "needs_background": "light"
          }
        }
      ]
    },
    {
      "cell_type": "markdown",
      "metadata": {
        "id": "lMiMKnSjcI_M"
      },
      "source": [
        "And we can also show histograms. For each category, the histogram has 50 bins, that count the number of examples with a value falling in the bin:"
      ]
    },
    {
      "cell_type": "code",
      "metadata": {
        "id": "qzEMvuK8cI_M",
        "outputId": "c8b6fb57-6217-4b34-9989-a37f1e0c5083"
      },
      "source": [
        "# alpha is the transparency\n",
        "plt.hist(x0,bins=50, range=(-5,5), alpha=0.5)\n",
        "plt.hist(x1,bins=50, range=(-5,5), alpha=0.5)\n",
        "plt.xlabel('x')\n",
        "plt.ylabel('counts')"
      ],
      "execution_count": null,
      "outputs": [
        {
          "output_type": "execute_result",
          "data": {
            "text/plain": [
              "Text(0, 0.5, 'counts')"
            ]
          },
          "metadata": {
            "tags": []
          },
          "execution_count": 10
        },
        {
          "output_type": "display_data",
          "data": {
            "image/png": "[encoded data removed]",
            "text/plain": [
              "<Figure size 432x288 with 1 Axes>"
            ]
          },
          "metadata": {
            "tags": [],
            "needs_background": "light"
          }
        }
      ]
    },
    {
      "cell_type": "markdown",
      "metadata": {
        "id": "U5G7_VI4cI_M"
      },
      "source": [
        "Finally, we merge the two samples (both the input data and the targets). For this, we use the handy [np.r_](https://docs.scipy.org/doc/numpy/reference/generated/numpy.r_.html#numpy.r_) : "
      ]
    },
    {
      "cell_type": "code",
      "metadata": {
        "id": "oNoD8rdXcI_M",
        "outputId": "9aed9f13-3e26-49fa-f32c-422266f22b8e"
      },
      "source": [
        "x = np.r_['0,2,0', x0, x1]\n",
        "y = np.concatenate([y0, y1])\n",
        "print(x)\n",
        "print(y)"
      ],
      "execution_count": null,
      "outputs": [
        {
          "output_type": "stream",
          "text": [
            "[[-0.56925595]\n",
            " [-0.95526849]\n",
            " [-1.17954965]\n",
            " ...\n",
            " [ 2.25636484]\n",
            " [-0.54557023]\n",
            " [ 1.6207853 ]]\n",
            "[0. 0. 0. ... 1. 1. 1.]\n"
          ],
          "name": "stdout"
        }
      ]
    },
    {
      "cell_type": "markdown",
      "metadata": {
        "id": "uzINRR87cI_N"
      },
      "source": [
        "## Showing the model performance\n",
        "\n",
        "In this tutorial, our focus is on plotting, not on machine learning. So we're just going to train a model fast, without trying to understand what we're doing. We'll come back to machine learning in a future tutorial, of course. \n",
        "\n",
        "To classify our examples, we will use a \"logistic regression\", as implemented in scikit-learn."
      ]
    },
    {
      "cell_type": "code",
      "metadata": {
        "id": "Z3p_0lzZcI_N"
      },
      "source": [
        "from sklearn.linear_model import LogisticRegression\n",
        "clf = LogisticRegression(solver='lbfgs').fit(x,y)"
      ],
      "execution_count": null,
      "outputs": []
    },
    {
      "cell_type": "markdown",
      "metadata": {
        "id": "KEKZgTWmcI_N"
      },
      "source": [
        "That's it! our model has been trained already. We can now evaluate the model for a given x value: "
      ]
    },
    {
      "cell_type": "code",
      "metadata": {
        "id": "ldjqaZDwcI_N",
        "outputId": "658af0e1-1de3-4f61-ea76-028415ec40a5"
      },
      "source": [
        "clf.predict_proba([[-3], [3]])"
      ],
      "execution_count": null,
      "outputs": [
        {
          "output_type": "execute_result",
          "data": {
            "text/plain": [
              "array([[0.99963338, 0.00036662],\n",
              "       [0.00026032, 0.99973968]])"
            ]
          },
          "metadata": {
            "tags": []
          },
          "execution_count": 13
        }
      ]
    },
    {
      "cell_type": "markdown",
      "metadata": {
        "id": "z2Qey-mJcI_N"
      },
      "source": [
        "The trained model gives a probability of almost 100% to category 0 if x=-3, and roughly the same probability to category 1 if x=3. It seems to work! \n",
        "\n",
        "Now, we want to plot the probability for the whole x range, overlayed to the scatter plot of the examples. We know how to do the scatter plot already, so let's focus on plotting the probability. \n",
        "\n",
        "The model can be seen as a function of x. So we need to define a linspace for x, and to calculate the corresponding probabilities: "
      ]
    },
    {
      "cell_type": "code",
      "metadata": {
        "id": "xZ1mH7CycI_N",
        "outputId": "ddb7fa4e-8b6e-448d-b418-a21e6206f8e8"
      },
      "source": [
        "xs = np.linspace(-5, 5, 101)\n",
        "# xs is a 1D vector, and predict_proba \n",
        "# takes a columnar array\n",
        "# as we have seen. So we turn it to a \n",
        "# columnar array: \n",
        "cxs = np.c_[xs]\n",
        "probs = clf.predict_proba(cxs)\n",
        "probs"
      ],
      "execution_count": null,
      "outputs": [
        {
          "output_type": "execute_result",
          "data": {
            "text/plain": [
              "array([[0.99999832, 0.00000168],\n",
              "       [0.99999781, 0.00000219],\n",
              "       [0.99999713, 0.00000287],\n",
              "       ...,\n",
              "       [0.00000204, 0.99999796],\n",
              "       [0.00000156, 0.99999844],\n",
              "       [0.00000119, 0.99999881]])"
            ]
          },
          "metadata": {
            "tags": []
          },
          "execution_count": 15
        }
      ]
    },
    {
      "cell_type": "markdown",
      "metadata": {
        "id": "cX5TZ20OcI_N"
      },
      "source": [
        "Finally we can do our plot: "
      ]
    },
    {
      "cell_type": "code",
      "metadata": {
        "id": "6S9yg6OFcI_N",
        "outputId": "8d51e6b9-3834-4e4f-8d2c-a8357123f2f3"
      },
      "source": [
        "plt.figure(figsize=(10,5), dpi=120)\n",
        "plt.plot(x0, y0,'o')\n",
        "plt.plot(x1, y1,'o')\n",
        "# we select the probability for category 1\n",
        "plt.plot(xs, probs[:, 1], color='blue')\n",
        "plt.xlabel('x')\n",
        "plt.ylabel('probability')"
      ],
      "execution_count": null,
      "outputs": [
        {
          "output_type": "execute_result",
          "data": {
            "text/plain": [
              "Text(0, 0.5, 'probability')"
            ]
          },
          "metadata": {
            "tags": []
          },
          "execution_count": 17
        },
        {
          "output_type": "display_data",
          "data": {
            "image/png": "[encoded data removed]",
            "text/plain": [
              "<Figure size 1200x600 with 1 Axes>"
            ]
          },
          "metadata": {
            "tags": [],
            "needs_background": "light"
          }
        }
      ]
    },
    {
      "cell_type": "markdown",
      "metadata": {
        "id": "F-CO7aHAcI_O"
      },
      "source": [
        "--- \n",
        "\n",
        "*Exercise*\n",
        "\n",
        "For each category, plot the histogram of predicted probability for category 1. You should get a peak at 0 for category 0, and a peak at 1 for category 1. \n",
        "\n",
        "Hints: use a numpy boolean mask built with the y array to select entries of a given category in x. \n",
        "\n",
        "---"
      ]
    },
    {
      "cell_type": "code",
      "metadata": {
        "id": "XDcOJPk1cI_O"
      },
      "source": [
        ""
      ],
      "execution_count": null,
      "outputs": []
    }
  ]
}