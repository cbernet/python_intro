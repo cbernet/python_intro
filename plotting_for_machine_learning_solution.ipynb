{
  "nbformat": 4,
  "nbformat_minor": 0,
  "metadata": {
    "kernelspec": {
      "display_name": "Python 3",
      "language": "python",
      "name": "python3"
    },
    "language_info": {
      "codemirror_mode": {
        "name": "ipython",
        "version": 3
      },
      "file_extension": ".py",
      "mimetype": "text/x-python",
      "name": "python",
      "nbconvert_exporter": "python",
      "pygments_lexer": "ipython3",
      "version": "3.7.6"
    },
    "colab": {
      "name": "03_plotting_for_machine_learning.ipynb",
      "provenance": [],
      "include_colab_link": true
    }
  },
  "cells": [
    {
      "cell_type": "markdown",
      "metadata": {
        "id": "view-in-github",
        "colab_type": "text"
      },
      "source": [
        "<a href=\"https://colab.research.google.com/github/cbernet/introduction_machine_learning/blob/master/notebooks/python_crash_course/03_plotting_for_machine_learning_solution.ipynb\" target=\"_parent\"><img src=\"https://colab.research.google.com/assets/colab-badge.svg\" alt=\"Open In Colab\"/></a>"
      ]
    },
    {
      "cell_type": "markdown",
      "metadata": {
        "id": "1m1aRFPMdjff"
      },
      "source": [
        "## Introduction\n",
        "\n",
        "Python features a large number of visualization libraries.\n",
        "\n",
        "The most recent ones, like bokeh and holoviews, are very powerful. They allow us to easily create interactive plots that can be displayed in the browser. And the datashader extension makes it possible to show big data without killing the client browser. \n",
        "\n",
        "Matplotlib, on the other hand, has been around for quite a while and might seem a bit limited with respect to more recent libraries. But most people are still using it (if only at times) and it excels at producing plots of publication quality for articles. \n",
        "\n",
        "Clearly, you need to know matplotlib if you are to use scientific python at all, in particular for machine learning. So this tutorial will focus on this tool. \n",
        "\n",
        "To illustrate the basic functionalities of matplotlib, we will work on a toy machine learning problem, and make plots that are actually useful in real life. \n",
        "\n",
        "The toy problem will be the classification of examples with a single input variable x in two categories, 0 and 1, depending on the value of x. \n",
        "\n",
        "For each category, the samples will follow the [normal distribution](https://en.wikipedia.org/wiki/Normal_distribution). This means that they will be distributed according to a Gaussian probability density function (pdf).\n",
        "\n",
        "Here is the outline: \n",
        "\n",
        "* [The normal distribution / plotting a function](#The-Normal-Distribution-/-Plotting-a-Function)\n",
        "* [Cosmetics: title, legend, log scale](#Cosmetics:-Titles,-Legend,-Log-Scale)\n",
        "* [Machine learning dataset: scatter plot and histograms](#Machine-Learning-Dataset-/-Scatter-Plot-and-Histograms)\n",
        "* [Showing the model performance](#Showing-the-model-performance)"
      ]
    },
    {
      "cell_type": "markdown",
      "metadata": {
        "id": "buleSnJWdjfi"
      },
      "source": [
        "## The Normal Distribution / Plotting a Function"
      ]
    },
    {
      "cell_type": "markdown",
      "metadata": {
        "id": "2Xdnpfsbdjfk"
      },
      "source": [
        "The normal distribution is available in [scipy.stats](https://docs.scipy.org/doc/scipy/reference/tutorial/stats.html) (we could also use the lower-level [numpy.random.normal](https://docs.scipy.org/doc/numpy-1.15.0/reference/generated/numpy.random.normal.html)) :"
      ]
    },
    {
      "cell_type": "code",
      "metadata": {
        "id": "6hHmLJgQdjfm"
      },
      "source": [
        "from scipy.stats import norm"
      ],
      "execution_count": 30,
      "outputs": []
    },
    {
      "cell_type": "markdown",
      "metadata": {
        "id": "8Y-nnejvdjfy"
      },
      "source": [
        "Like most scientific python tools, [norm](https://docs.scipy.org/doc/scipy/reference/generated/scipy.stats.norm.html) is designed to work with numpy arrays. \n",
        "\n",
        "The first thing we want to do is to plot the pdf of the normal distribution with matplotlib. \n",
        "\n",
        "To plot a function f(x), we need to define a number of x values for which the function will be evaluated. With numpy, it is easy to create a numpy array with evenly spaced values in a given range: \n",
        "\n"
      ]
    },
    {
      "cell_type": "code",
      "metadata": {
        "id": "Usqf3Tzudjf0",
        "outputId": "d506c691-dc4f-4be6-b83c-84cd2fa548e2",
        "colab": {
          "base_uri": "https://localhost:8080/",
          "height": 34
        }
      },
      "source": [
        "import numpy as np\n",
        "np.set_printoptions(suppress=True, threshold=20)\n",
        "x = np.linspace(-5,5,101)\n",
        "x"
      ],
      "execution_count": 31,
      "outputs": [
        {
          "output_type": "execute_result",
          "data": {
            "text/plain": [
              "array([-5. , -4.9, -4.8, ...,  4.8,  4.9,  5. ])"
            ]
          },
          "metadata": {
            "tags": []
          },
          "execution_count": 31
        }
      ]
    },
    {
      "cell_type": "markdown",
      "metadata": {
        "id": "1LArBvRvdjf8"
      },
      "source": [
        "We use 101 values instead of 100 so that the values precisely land where we want them to be (there must be a value at zero). "
      ]
    },
    {
      "cell_type": "markdown",
      "metadata": {
        "id": "4St6UK4Hdjf-"
      },
      "source": [
        "Then, we evaluate the function for all x values in one go, again thanks to numpy:"
      ]
    },
    {
      "cell_type": "code",
      "metadata": {
        "id": "GgnwF23Edjf-",
        "outputId": "38f36bf5-da56-4522-bdf0-2cf9d7c0cbcd",
        "colab": {
          "base_uri": "https://localhost:8080/",
          "height": 52
        }
      },
      "source": [
        "# we choose mean=0, sigma=1\n",
        "# for our gaussian pdf\n",
        "y = norm.pdf(x, 0., 1.)\n",
        "y"
      ],
      "execution_count": 32,
      "outputs": [
        {
          "output_type": "execute_result",
          "data": {
            "text/plain": [
              "array([0.00000149, 0.00000244, 0.00000396, ..., 0.00000396, 0.00000244,\n",
              "       0.00000149])"
            ]
          },
          "metadata": {
            "tags": []
          },
          "execution_count": 32
        }
      ]
    },
    {
      "cell_type": "markdown",
      "metadata": {
        "id": "foxZmiU4djgG"
      },
      "source": [
        "Finally we can plot y vs x: "
      ]
    },
    {
      "cell_type": "code",
      "metadata": {
        "id": "RC8yfML3djgH",
        "outputId": "1fe8492e-04a5-45bb-b8ca-2bc7799954fc",
        "colab": {
          "base_uri": "https://localhost:8080/",
          "height": 282
        }
      },
      "source": [
        "import matplotlib.pyplot as plt\n",
        "plt.plot(x, y)"
      ],
      "execution_count": 33,
      "outputs": [
        {
          "output_type": "execute_result",
          "data": {
            "text/plain": [
              "[<matplotlib.lines.Line2D at 0x7f686157a550>]"
            ]
          },
          "metadata": {
            "tags": []
          },
          "execution_count": 33
        },
        {
          "output_type": "display_data",
          "data": {
            "image/png": "[encoded data removed]",
            "text/plain": [
              "<Figure size 432x288 with 1 Axes>"
            ]
          },
          "metadata": {
            "tags": [],
            "needs_background": "light"
          }
        }
      ]
    },
    {
      "cell_type": "markdown",
      "metadata": {
        "id": "QZdoq9OhdjgO"
      },
      "source": [
        "Matplotlib automatically linked the data in the y and x arrays (which must have the same length), plotted the 101 points, and connected the points with straight lines. This is not visible in the picture given the fairly large number of points. "
      ]
    },
    {
      "cell_type": "markdown",
      "metadata": {
        "id": "7mjPYsHLdjgP"
      },
      "source": [
        "We did it step-by-step this time, but often, we define y (and sometimes x as well) on the fly: "
      ]
    },
    {
      "cell_type": "code",
      "metadata": {
        "id": "m1fx5e9CdjgQ",
        "outputId": "8c5ecb6c-55f8-450b-f653-ffd691f0e9e9",
        "colab": {
          "base_uri": "https://localhost:8080/",
          "height": 282
        }
      },
      "source": [
        "plt.plot(x, norm.pdf(x, 0, 1))\n",
        "plt.plot(x, norm.pdf(x, 2, 0.5))"
      ],
      "execution_count": 34,
      "outputs": [
        {
          "output_type": "execute_result",
          "data": {
            "text/plain": [
              "[<matplotlib.lines.Line2D at 0x7f6861535668>]"
            ]
          },
          "metadata": {
            "tags": []
          },
          "execution_count": 34
        },
        {
          "output_type": "display_data",
          "data": {
            "image/png": "[encoded data removed]",
            "text/plain": [
              "<Figure size 432x288 with 1 Axes>"
            ]
          },
          "metadata": {
            "tags": [],
            "needs_background": "light"
          }
        }
      ]
    },
    {
      "cell_type": "markdown",
      "metadata": {
        "id": "MlTjsdhddjgX"
      },
      "source": [
        "Note that matplotlib is clever enough to change the color automatically for the different plots, and to adapt the range of the y axis so that the whole information is visible. \n",
        "\n",
        "If you're a particle physicist, you know ROOT. I'm not going comment further ;-) "
      ]
    },
    {
      "cell_type": "markdown",
      "metadata": {
        "id": "lDca9quLdjgY"
      },
      "source": [
        "## Cosmetics: Titles, Legend, Log Scale"
      ]
    },
    {
      "cell_type": "markdown",
      "metadata": {
        "id": "TuRIAzvsdjgZ"
      },
      "source": [
        "Scientific plots must be crystal clear, so we need to name our axes, and to add a legend. We can also give a title to the plot. Finally, it's often better to use a log scale on the y axis. Let's do all that: "
      ]
    },
    {
      "cell_type": "code",
      "metadata": {
        "id": "5l8yPNn-djga",
        "outputId": "e485e079-0b7b-4639-8dc1-7e4c760f2be7",
        "colab": {
          "base_uri": "https://localhost:8080/",
          "height": 312
        }
      },
      "source": [
        "plot = plt.plot(x, norm.pdf(x, 0, 1), label='wide')\n",
        "plt.plot(x, norm.pdf(x, 2, 0.5), label='narrow')\n",
        "plt.title('Two Gaussian PDFs')\n",
        "plt.ylabel('p.d.f.')\n",
        "plt.xlabel('x')\n",
        "plt.yscale('log')\n",
        "# limiting the y axis, or the y axis \n",
        "# would go down to 10^(- a lot) and \n",
        "# the lines would be compressed at the top \n",
        "# of the plot\n",
        "plt.ylim(0.02, 1)\n",
        "plt.legend()"
      ],
      "execution_count": 35,
      "outputs": [
        {
          "output_type": "execute_result",
          "data": {
            "text/plain": [
              "<matplotlib.legend.Legend at 0x7f68614bde48>"
            ]
          },
          "metadata": {
            "tags": []
          },
          "execution_count": 35
        },
        {
          "output_type": "display_data",
          "data": {
            "image/png": "[encoded data removed]",
            "text/plain": [
              "<Figure size 432x288 with 1 Axes>"
            ]
          },
          "metadata": {
            "tags": [],
            "needs_background": "light"
          }
        }
      ]
    },
    {
      "cell_type": "markdown",
      "metadata": {
        "id": "iyOgms15djgg"
      },
      "source": [
        "## Machine Learning Dataset / Scatter Plot and Histograms"
      ]
    },
    {
      "cell_type": "markdown",
      "metadata": {
        "id": "Q5UGj6Bjdjgg"
      },
      "source": [
        "Now that we know what's a normal distribution, we can use it to draw a sample of random values to create a toy dataset. \n",
        "\n",
        "Our goal is to construct a numpy array with shape (N, 1) for the whole input data, which is a columnar array with a single value for each example, drawn from a gaussian pdf. The examples will come from two categories denoted 0 and 1, corresponding to two different gaussian pdfs. \n",
        "\n",
        "We also need an array of shape (N,) for the targets, which identify the true category of each example. \n",
        "\n",
        "We use numpy to draw 100 values from each gaussian pdf: "
      ]
    },
    {
      "cell_type": "code",
      "metadata": {
        "id": "yqX3c-dpdjgi",
        "outputId": "c156514b-f7a7-4096-e70b-18e35cac17ba",
        "colab": {
          "base_uri": "https://localhost:8080/",
          "height": 34
        }
      },
      "source": [
        "sigma = 1.\n",
        "x0 = np.random.normal(-1.5, sigma, 100)\n",
        "x1 = np.random.normal(1.5, sigma, 100)\n",
        "x0.shape"
      ],
      "execution_count": 36,
      "outputs": [
        {
          "output_type": "execute_result",
          "data": {
            "text/plain": [
              "(100,)"
            ]
          },
          "metadata": {
            "tags": []
          },
          "execution_count": 36
        }
      ]
    },
    {
      "cell_type": "markdown",
      "metadata": {
        "id": "irDmbPgqdjgo"
      },
      "source": [
        "For now, these arrays don't have the right shape. We have 1D arrays of shape (100,), and we need columnar arrays of shape (100,1). Also, we will need to mix these arrays together to get a complete input data array of shape (200,1). \n",
        "\n",
        "Before we do this, we create the target arrays for the two categories: "
      ]
    },
    {
      "cell_type": "code",
      "metadata": {
        "id": "sg5Epaogdjgp"
      },
      "source": [
        "y0 = np.zeros_like(x0)\n",
        "y1 = np.ones_like(x1)"
      ],
      "execution_count": 37,
      "outputs": []
    },
    {
      "cell_type": "markdown",
      "metadata": {
        "id": "-LzoZ1x0djgt"
      },
      "source": [
        "The two samples can be visualized as a scatter plot, with the category on the y axis: "
      ]
    },
    {
      "cell_type": "code",
      "metadata": {
        "id": "BF3myW22djgv",
        "outputId": "e3e14c2e-70c6-4081-a697-6b5fe68bc405",
        "colab": {
          "base_uri": "https://localhost:8080/",
          "height": 296
        }
      },
      "source": [
        "plt.plot(x0, y0,'o')\n",
        "plt.plot(x1, y1,'o')\n",
        "plt.xlabel('x')\n",
        "plt.ylabel('category')"
      ],
      "execution_count": 38,
      "outputs": [
        {
          "output_type": "execute_result",
          "data": {
            "text/plain": [
              "Text(0, 0.5, 'category')"
            ]
          },
          "metadata": {
            "tags": []
          },
          "execution_count": 38
        },
        {
          "output_type": "display_data",
          "data": {
            "image/png": "[encoded data removed]",
            "text/plain": [
              "<Figure size 432x288 with 1 Axes>"
            ]
          },
          "metadata": {
            "tags": [],
            "needs_background": "light"
          }
        }
      ]
    },
    {
      "cell_type": "markdown",
      "metadata": {
        "id": "fxfOwefrdjg0"
      },
      "source": [
        "And we can also show histograms. For each category, the histogram has 50 bins, that count the number of examples with a value falling in the bin:"
      ]
    },
    {
      "cell_type": "code",
      "metadata": {
        "id": "ft14OIRldjg1",
        "outputId": "0d0ddc25-2b1c-4d01-d854-0ac5ef8a670c",
        "colab": {
          "base_uri": "https://localhost:8080/",
          "height": 296
        }
      },
      "source": [
        "# alpha is the transparency\n",
        "plt.hist(x0,bins=50, range=(-5,5), alpha=0.5)\n",
        "plt.hist(x1,bins=50, range=(-5,5), alpha=0.5)\n",
        "plt.xlabel('x')\n",
        "plt.ylabel('counts')"
      ],
      "execution_count": 39,
      "outputs": [
        {
          "output_type": "execute_result",
          "data": {
            "text/plain": [
              "Text(0, 0.5, 'counts')"
            ]
          },
          "metadata": {
            "tags": []
          },
          "execution_count": 39
        },
        {
          "output_type": "display_data",
          "data": {
            "image/png": "[encoded data removed]",
            "text/plain": [
              "<Figure size 432x288 with 1 Axes>"
            ]
          },
          "metadata": {
            "tags": [],
            "needs_background": "light"
          }
        }
      ]
    },
    {
      "cell_type": "markdown",
      "metadata": {
        "id": "86ZZWwDjdjg7"
      },
      "source": [
        "Finally, we merge the two samples (both the input data and the targets). For this, we use the handy [np.r_](https://docs.scipy.org/doc/numpy/reference/generated/numpy.r_.html#numpy.r_) : "
      ]
    },
    {
      "cell_type": "code",
      "metadata": {
        "id": "JeECd6wqdjg9",
        "outputId": "bb0971fb-13c6-45de-f875-b6af7f6386cd",
        "colab": {
          "base_uri": "https://localhost:8080/",
          "height": 156
        }
      },
      "source": [
        "x = np.r_['0,2,0', x0, x1]\n",
        "y = np.concatenate([y0, y1])\n",
        "print(x)\n",
        "print(y)"
      ],
      "execution_count": 40,
      "outputs": [
        {
          "output_type": "stream",
          "text": [
            "[[-1.48989437]\n",
            " [-0.87237254]\n",
            " [-2.03353894]\n",
            " ...\n",
            " [ 1.82768889]\n",
            " [ 0.87485977]\n",
            " [ 2.60755767]]\n",
            "[0. 0. 0. ... 1. 1. 1.]\n"
          ],
          "name": "stdout"
        }
      ]
    },
    {
      "cell_type": "markdown",
      "metadata": {
        "id": "d0CqHTLzdjhC"
      },
      "source": [
        "## Showing the model performance\n",
        "\n",
        "In this tutorial, our focus is on plotting, not on machine learning. So we're just going to train a model fast, without trying to understand what we're doing. We'll come back to machine learning in a future tutorial, of course. \n",
        "\n",
        "To classify our examples, we will use a \"logistic regression\", as implemented in scikit-learn."
      ]
    },
    {
      "cell_type": "code",
      "metadata": {
        "id": "9lAsSUNTdjhD"
      },
      "source": [
        "from sklearn.linear_model import LogisticRegression\n",
        "clf = LogisticRegression(solver='lbfgs').fit(x,y)"
      ],
      "execution_count": 41,
      "outputs": []
    },
    {
      "cell_type": "markdown",
      "metadata": {
        "id": "7a3d0s6DdjhI"
      },
      "source": [
        "That's it! our model has been trained already. We can now evaluate the model for a given x value: "
      ]
    },
    {
      "cell_type": "code",
      "metadata": {
        "id": "xtfyeTjldjhI",
        "outputId": "b6991e4a-b4ec-48ff-9600-b1c191a6409a",
        "colab": {
          "base_uri": "https://localhost:8080/",
          "height": 52
        }
      },
      "source": [
        "clf.predict_proba([[-3], [3]])"
      ],
      "execution_count": 42,
      "outputs": [
        {
          "output_type": "execute_result",
          "data": {
            "text/plain": [
              "array([[0.99951142, 0.00048858],\n",
              "       [0.00099096, 0.99900904]])"
            ]
          },
          "metadata": {
            "tags": []
          },
          "execution_count": 42
        }
      ]
    },
    {
      "cell_type": "markdown",
      "metadata": {
        "id": "4K9UKZBbdjhN"
      },
      "source": [
        "The trained model gives a probability of almost 100% to category 0 if x=-3, and roughly the same probability to category 1 if x=3. It seems to work! \n",
        "\n",
        "Now, we want to plot the probability for the whole x range, overlayed to the scatter plot of the examples. We know how to do the scatter plot already, so let's focus on plotting the probability. \n",
        "\n",
        "The model can be seen as a function of x. So we need to define a linspace for x, and to calculate the corresponding probabilities: "
      ]
    },
    {
      "cell_type": "code",
      "metadata": {
        "id": "SXPVEMYHdjhQ",
        "outputId": "fdd9de66-870a-4cc2-81eb-660446e5811b",
        "colab": {
          "base_uri": "https://localhost:8080/",
          "height": 156
        }
      },
      "source": [
        "xs = np.linspace(-5, 5, 101)\n",
        "# xs is a 1D vector, and predict_proba \n",
        "# takes a columnar array\n",
        "# as we have seen. So we turn it to a \n",
        "# columnar array: \n",
        "cxs = np.c_[xs]\n",
        "probs = clf.predict_proba(cxs)\n",
        "print(probs.shape)\n",
        "probs"
      ],
      "execution_count": 53,
      "outputs": [
        {
          "output_type": "stream",
          "text": [
            "(101, 2)\n"
          ],
          "name": "stdout"
        },
        {
          "output_type": "execute_result",
          "data": {
            "text/plain": [
              "array([[0.99999616, 0.00000384],\n",
              "       [0.99999511, 0.00000489],\n",
              "       [0.99999377, 0.00000623],\n",
              "       ...,\n",
              "       [0.00001265, 0.99998735],\n",
              "       [0.00000993, 0.99999007],\n",
              "       [0.00000779, 0.99999221]])"
            ]
          },
          "metadata": {
            "tags": []
          },
          "execution_count": 53
        }
      ]
    },
    {
      "cell_type": "markdown",
      "metadata": {
        "id": "Y0EFY8kQdjhV"
      },
      "source": [
        "Finally we can do our plot: "
      ]
    },
    {
      "cell_type": "code",
      "metadata": {
        "id": "wvQz9UwIdjhW",
        "outputId": "f36692bd-d38d-40d6-9ca7-977e2f2319ca",
        "colab": {
          "base_uri": "https://localhost:8080/",
          "height": 565
        }
      },
      "source": [
        "plt.figure(figsize=(10,5), dpi=120)\n",
        "plt.plot(x0, y0,'o')\n",
        "plt.plot(x1, y1,'o')\n",
        "# we select the probability for category 1\n",
        "plt.plot(xs, probs[:, 1], color='blue')\n",
        "plt.xlabel('x')\n",
        "plt.ylabel('probability')"
      ],
      "execution_count": 50,
      "outputs": [
        {
          "output_type": "execute_result",
          "data": {
            "text/plain": [
              "Text(0, 0.5, 'probability')"
            ]
          },
          "metadata": {
            "tags": []
          },
          "execution_count": 50
        },
        {
          "output_type": "display_data",
          "data": {
            "image/png": "[encoded data removed]",
            "text/plain": [
              "<Figure size 1200x600 with 1 Axes>"
            ]
          },
          "metadata": {
            "tags": [],
            "needs_background": "light"
          }
        }
      ]
    },
    {
      "cell_type": "markdown",
      "metadata": {
        "id": "0kgoH6JYdjha"
      },
      "source": [
        "--- \n",
        "\n",
        "*Exercise*\n",
        "\n",
        "For each category, plot the histogram of predicted probability for category 1. You should get a peak at 0 for category 0, and a peak at 1 for category 1. \n",
        "\n",
        "Hints: use a numpy boolean mask built with the y array to select entries of a given category in x. \n",
        "\n",
        "---"
      ]
    },
    {
      "cell_type": "markdown",
      "metadata": {
        "id": "aBzqcolKpmq-"
      },
      "source": [
        "**Answers** :"
      ]
    },
    {
      "cell_type": "code",
      "metadata": {
        "id": "uocwjcv6q5pg",
        "outputId": "5718c0d9-9951-4f7f-a086-25dac5dff406",
        "colab": {
          "base_uri": "https://localhost:8080/",
          "height": 139
        }
      },
      "source": [
        "# prediction for each example: \n",
        "preds = clf.predict_proba(x)\n",
        "preds"
      ],
      "execution_count": 54,
      "outputs": [
        {
          "output_type": "execute_result",
          "data": {
            "text/plain": [
              "array([[0.98137036, 0.01862964],\n",
              "       [0.92185335, 0.07814665],\n",
              "       [0.99494128, 0.00505872],\n",
              "       ...,\n",
              "       [0.01670719, 0.98329281],\n",
              "       [0.1460224 , 0.8539776 ],\n",
              "       [0.00256081, 0.99743919]])"
            ]
          },
          "metadata": {
            "tags": []
          },
          "execution_count": 54
        }
      ]
    },
    {
      "cell_type": "code",
      "metadata": {
        "id": "iGeWA9uPpnq9",
        "outputId": "138966b4-3061-4a0d-b589-8817f588f41a",
        "colab": {
          "base_uri": "https://localhost:8080/",
          "height": 34
        }
      },
      "source": [
        "# mask of categories\n",
        "categ_0 = y==0\n",
        "categ_0"
      ],
      "execution_count": 55,
      "outputs": [
        {
          "output_type": "execute_result",
          "data": {
            "text/plain": [
              "array([ True,  True,  True, ..., False, False, False])"
            ]
          },
          "metadata": {
            "tags": []
          },
          "execution_count": 55
        }
      ]
    },
    {
      "cell_type": "code",
      "metadata": {
        "id": "J0THrVhXpqhn",
        "outputId": "5b32efec-9507-499c-9927-541575f0f4c1",
        "colab": {
          "base_uri": "https://localhost:8080/",
          "height": 34
        }
      },
      "source": [
        "# estimated probability to be in category 1 (for both categories)\n",
        "preds1 = preds[:,1]\n",
        "print(prob1.shape)"
      ],
      "execution_count": 57,
      "outputs": [
        {
          "output_type": "stream",
          "text": [
            "(101,)\n"
          ],
          "name": "stdout"
        }
      ]
    },
    {
      "cell_type": "code",
      "metadata": {
        "id": "3HtrK1gmp98h",
        "outputId": "676789b6-681f-44d6-b129-c31182ce6785",
        "colab": {
          "base_uri": "https://localhost:8080/",
          "height": 354
        }
      },
      "source": [
        "plt.hist(preds1[categ_0], alpha=0.5)\n",
        "plt.hist(preds1[~categ_0], alpha=0.5)"
      ],
      "execution_count": 61,
      "outputs": [
        {
          "output_type": "execute_result",
          "data": {
            "text/plain": [
              "(array([ 1.,  0.,  0.,  1.,  4.,  5.,  3.,  7., 11., 68.]),\n",
              " array([0.08344641, 0.17509453, 0.26674264, 0.35839076, 0.45003888,\n",
              "        0.54168699, 0.63333511, 0.72498322, 0.81663134, 0.90827945,\n",
              "        0.99992757]),\n",
              " <a list of 10 Patch objects>)"
            ]
          },
          "metadata": {
            "tags": []
          },
          "execution_count": 61
        },
        {
          "output_type": "display_data",
          "data": {
            "image/png": "[encoded data removed]",
            "text/plain": [
              "<Figure size 432x288 with 1 Axes>"
            ]
          },
          "metadata": {
            "tags": [],
            "needs_background": "light"
          }
        }
      ]
    }
  ]
}