{
    "nbformat": 4,
    "nbformat_minor": 0,
    "metadata": {
        "kernelspec": {
            "display_name": "Python 3",
            "language": "python",
            "name": "python3"
        },
        "language_info": {
            "codemirror_mode": {
                "name": "ipython",
                "version": 3
            },
            "file_extension": ".py",
            "mimetype": "text/x-python",
            "name": "python",
            "nbconvert_exporter": "python",
            "pygments_lexer": "ipython3",
            "version": "3.7.6"
        },
        "colab": {
            "name": "01_python_crash_course_for_machine_learning.ipynb",
            "provenance": [],
            "include_colab_link": true
        }
    },
    "cells": [
        {
            "cell_type": "markdown",
            "metadata": {
                "id": "view-in-github",
                "colab_type": "text"
            },
            "source": [
                "<a href=\"https://colab.research.google.com/github/cbernet/introduction_machine_learning/blob/master/notebooks/python_crash_course/01_python_crash_course_for_machine_learning.ipynb\" target=\"_parent\"><img src=\"https://colab.research.google.com/assets/colab-badge.svg\" alt=\"Ouvrir dans Colab\"/></a>\n"
            ]
        },
        {
            "cell_type": "markdown",
            "metadata": {
                "id": "VgG042TGNHc9"
            },
            "source": [
                "En ce moment, python domine les domaines de la science des donn\u00e9es et du machine learning, apr\u00e8s une longue p\u00e9riode de domination par R. Nous pensons donc qu&#39;il faut conna\u00eetre ce langage pour pouvoir utiliser efficacement le machine learning.\n",
                "\n",
                "Mais que faire si vous n&#39;avez jamais utilis\u00e9 python ?\n",
                "\n",
                "Dans ce didacticiel, nous supposerons que vous n&#39;\u00eates pas un d\u00e9veloppeur de logiciels professionnel et nous vous donnerons les bases n\u00e9cessaires \u00e0 l&#39;apprentissage automatique.\n",
                "\n",
                "Nous esp\u00e9rons que nous vous donnerons un point de d\u00e9part et la motivation pour en savoir plus sur cette merveilleuse langue. Nous pouvons vous assurer que vous ne le regretterez pas.\n",
                "\n",
                "Voici le contour :\n"
            ]
        },
        {
            "cell_type": "markdown",
            "metadata": {
                "id": "MElYKoVINHc_"
            },
            "source": [
                "* [Obtenir de l&#39;aide](#Getting-help)\n",
                "* [variables et objets](#Variables-and-objects)\n",
                "* [Conditions](#Conditions)\n",
                "* [\u00c0 propos de l&#39;indentation du code](#About-code-indentation)\n",
                "* [Boucles](#Boucles)\n",
                "* [Entr\u00e9e et sortie de base](#Basic-input-and-output)\n",
                "* [Fonctions](#Fonctions)\n",
                "* [Structures de donn\u00e9es Python\u00a0:](#Python-data-structures)\n",
                "* listes\n",
                "* tuples\n",
                "* dictionnaires\n",
                "* listes ou dictionnaires ?\n",
                "* [Le zen de python](#Le-zen-de-python)\n",
                "\n"
            ]
        },
        {
            "cell_type": "markdown",
            "metadata": {
                "id": "oIgu9xLsNHdB"
            },
            "source": [
                "## Obtenir de l&#39;aide\n",
                "\n",
                "Il est impossible de couvrir l&#39;int\u00e9gralit\u00e9 du python dans ce cours court, et il y a beaucoup de sujets qui ne seront pas couverts. Par exemple, nous vous expliquerons ce qu&#39;est une liste, mais ne vous expliquerons pas comment trier une liste.\n",
                "\n",
                "Et, au bout de quelques jours, vous aurez probablement oubli\u00e9 certains concepts ou commandes sp\u00e9cifiques expliqu\u00e9s ici.\n",
                "C&#39;est tout \u00e0 fait normal, et ce n&#39;est pas un probl\u00e8me. Ne vous inqui\u00e9tez pas pour \u00e7a !\n",
                "\n",
                "Mais il est essentiel que vous sachiez comment trouver plus d&#39;informations sur python lorsque vous en avez besoin.\n",
                "\n",
                "La communaut\u00e9 python est extr\u00eamement vaste, la source d&#39;information la plus rapide est donc Google. Si vous tapez simplement **python doc sort list** sur Google, vous obtiendrez votre r\u00e9ponse en quelques secondes.\n",
                "\n",
                "De mani\u00e8re g\u00e9n\u00e9rale, la [documentation python](https://docs.python.org/3.8/) est extr\u00eamement bonne, alors assurez-vous de l&#39;utiliser.\n",
                "\n",
                "Et si vous voulez aller plus loin apr\u00e8s ce cours acc\u00e9l\u00e9r\u00e9, vous pouvez commencer par le [tutoriel python] (https://docs.python.org/3.8/tutorial/index.html). Cela vous prendra un jour ou deux, mais cela en vaut vraiment la peine.\n",
                "\n"
            ]
        },
        {
            "cell_type": "markdown",
            "metadata": {
                "id": "5unYTFTCNHdD"
            },
            "source": [
                "## Variables et objets\n",
                "\n",
                "Vous avez probablement entendu parler de la programmation orient\u00e9e objet, et cela peut vous sembler compliqu\u00e9.\n",
                "\n",
                "Ne vous inqui\u00e9tez pas, nous n&#39;allons pas faire de programmation orient\u00e9e objet dans ce cours. Mais nous utiliserons des objets tout le temps, car en python, tout est objet. Un entier, une cha\u00eene, une liste de valeurs et m\u00eame une fonction : toutes ces choses sont des objets.\n",
                "\n",
                "Commen\u00e7ons par regarder un entier. Avec la fonction int\u00e9gr\u00e9e `id`, nous pouvons obtenir l&#39;identifiant unique associ\u00e9 \u00e0 cet objet entier\u00a0:\n"
            ]
        },
        {
            "cell_type": "code",
            "metadata": {
                "id": "Nt5TqQEWNHdF",
                "outputId": "c56b7661-f9a1-4680-89d4-1cd060e85a7f",
                "colab": {
                    "base_uri": "https://localhost:8080/",
                    "height": 34
                }
            },
            "source": [
                "id(1)"
            ],
            "execution_count": 1,
            "outputs": [
                {
                    "output_type": "execute_result",
                    "data": {
                        "text/plain": [
                            "10914496"
                        ]
                    },
                    "metadata": {
                        "tags": []
                    },
                    "execution_count": 1
                }
            ]
        },
        {
            "cell_type": "markdown",
            "metadata": {
                "id": "y-J--BjZNHdT"
            },
            "source": [
                "Et avec la fonction `type`, nous pouvons obtenir le type de l&#39;objet\u00a0:\n"
            ]
        },
        {
            "cell_type": "code",
            "metadata": {
                "id": "mqhW5p1wNHdU",
                "outputId": "747bd7cc-3819-4595-b542-bbae9d07537d",
                "colab": {
                    "base_uri": "https://localhost:8080/",
                    "height": 34
                }
            },
            "source": [
                "type(1)"
            ],
            "execution_count": 2,
            "outputs": [
                {
                    "output_type": "execute_result",
                    "data": {
                        "text/plain": [
                            "int"
                        ]
                    },
                    "metadata": {
                        "tags": []
                    },
                    "execution_count": 2
                }
            ]
        },
        {
            "cell_type": "markdown",
            "metadata": {
                "id": "L88CtZQTNHdb"
            },
            "source": [
                "D\u00e9finissons maintenant une variable `a`, affectons-lui la valeur 1, et affichons-la\u00a0:\n"
            ]
        },
        {
            "cell_type": "code",
            "metadata": {
                "id": "SDpCdZhmNHdd",
                "outputId": "0dc37333-7a8d-4953-d4bb-74dc2a6954f6",
                "colab": {
                    "base_uri": "https://localhost:8080/",
                    "height": 34
                }
            },
            "source": [
                "a = 1\n",
                "print(a)"
            ],
            "execution_count": 3,
            "outputs": [
                {
                    "output_type": "stream",
                    "text": [
                        "1\n"
                    ],
                    "name": "stdout"
                }
            ]
        },
        {
            "cell_type": "markdown",
            "metadata": {
                "id": "AKEt5XwXNHdj"
            },
            "source": [
                "Dans le cahier, comme nous l&#39;avons fait auparavant, appeler print n&#39;est pas toujours n\u00e9cessaire pour imprimer la valeur d&#39;un objet. A la fin d&#39;une cellule, il suffit d&#39;\u00e9valuer l&#39;objet comme ceci :\n"
            ]
        },
        {
            "cell_type": "code",
            "metadata": {
                "id": "uPS5-SDJNHdk",
                "outputId": "756245ee-fe6f-4c61-c4bb-c77e7f8178b9",
                "colab": {
                    "base_uri": "https://localhost:8080/",
                    "height": 34
                }
            },
            "source": [
                "b = 2\n",
                "b\n",
                "a"
            ],
            "execution_count": 4,
            "outputs": [
                {
                    "output_type": "execute_result",
                    "data": {
                        "text/plain": [
                            "1"
                        ]
                    },
                    "metadata": {
                        "tags": []
                    },
                    "execution_count": 4
                }
            ]
        },
        {
            "cell_type": "markdown",
            "metadata": {
                "id": "GPoNk5QLNHdr"
            },
            "source": [
                "Mais dans un script python, ou si vous n&#39;\u00eates pas \u00e0 la fin d&#39;une cellule du cahier, vous devrez utiliser `print`.\n",
                "\n",
                "Vous avez peut-\u00eatre remarqu\u00e9 une grande diff\u00e9rence par rapport aux autres langages, lorsque nous avons d\u00e9fini la variable \u00ab\u00a0a\u00a0\u00bb\u00a0: nous n&#39;avons pas eu \u00e0 d\u00e9clarer le type de la variable. En C++, par exemple, vous feriez `int a = 1;`\n",
                "\n",
                "En python, le type d&#39;une variable se d\u00e9duit du type de l&#39;objet qui lui est affect\u00e9, ici un entier. Donc `a` est de type `int`\u00a0:\n"
            ]
        },
        {
            "cell_type": "code",
            "metadata": {
                "id": "X9MTZzhMNHds",
                "outputId": "32bcc2a6-79b9-4f6f-efda-02f4ba97ad95",
                "colab": {
                    "base_uri": "https://localhost:8080/",
                    "height": 34
                }
            },
            "source": [
                "type(a)"
            ],
            "execution_count": 5,
            "outputs": [
                {
                    "output_type": "execute_result",
                    "data": {
                        "text/plain": [
                            "int"
                        ]
                    },
                    "metadata": {
                        "tags": []
                    },
                    "execution_count": 5
                }
            ]
        },
        {
            "cell_type": "markdown",
            "metadata": {
                "id": "3dPUZusQNHd0"
            },
            "source": [
                "V\u00e9rifions maintenant l&#39;identifiant unique d&#39;un :\n"
            ]
        },
        {
            "cell_type": "code",
            "metadata": {
                "id": "11pov8AkNHd0",
                "outputId": "c0a03862-abe5-45c6-dc52-1f199ced2931",
                "colab": {
                    "base_uri": "https://localhost:8080/",
                    "height": 34
                }
            },
            "source": [
                "id(a)"
            ],
            "execution_count": 6,
            "outputs": [
                {
                    "output_type": "execute_result",
                    "data": {
                        "text/plain": [
                            "10914496"
                        ]
                    },
                    "metadata": {
                        "tags": []
                    },
                    "execution_count": 6
                }
            ]
        },
        {
            "cell_type": "markdown",
            "metadata": {
                "id": "xJ7xWBDrNHd6"
            },
            "source": [
                "C&#39;est l&#39;identifiant de 1 ! Et c&#39;est parce que `a` et `1` correspondent exactement au m\u00eame objet en m\u00e9moire.\n",
                "\n",
                "----\n",
                "\n",
                "*Exercer:*\n",
                "\n",
                "Consid\u00e9rez ce code\u00a0:\n",
                "\n",
                "```\n",
                "b = 1\n",
                "c = b\n",
                "```\n",
                "\n",
                "Pouvez-vous deviner quels seront les identifiants de \u00ab\u00a0b\u00a0\u00bb et \u00ab\u00a0c\u00a0\u00bb\u00a0?\n",
                "V\u00e9rifiez votre hypoth\u00e8se dans la cellule ci-dessous\u00a0:\n"
            ]
        },
        {
            "cell_type": "code",
            "metadata": {
                "id": "L5wby0s9NHd7"
            },
            "source": [
                "# write your code, and execute the cell with shift+enter"
            ],
            "execution_count": 7,
            "outputs": []
        },
        {
            "cell_type": "markdown",
            "metadata": {
                "id": "l0Gav1vcNHeB"
            },
            "source": [
                "----\n"
            ]
        },
        {
            "cell_type": "markdown",
            "metadata": {
                "id": "yCzI7SyeNHeC"
            },
            "source": [
                "**Important:**\n",
                "\n",
                "En python, les variables sont appel\u00e9es &quot;noms&quot;. Et le processus d&#39;attribution d&#39;une valeur \u00e0 une variable est appel\u00e9 \u00ab\u00a0liaison de nom\u00a0\u00bb. En d&#39;autres termes, vous pouvez voir une variable comme une \u00e9tiquette attach\u00e9e \u00e0 un objet.\n",
                "\n",
                "Lorsque nous faisons `a=1`, nous attachons l&#39;\u00e9tiquette `a` \u00e0 l&#39;entier `1`. Si vous attachez une autre \u00e9tiquette \u00e0 \u00ab\u00a01\u00a0\u00bb, le m\u00eame objet porte maintenant deux \u00e9tiquettes. Lorsque nous proc\u00e9dons comme suit, nous d\u00e9pla\u00e7ons simplement l&#39;\u00e9tiquette \u00ab\u00a0a\u00a0\u00bb de \u00ab\u00a01\u00a0\u00bb \u00e0 \u00ab\u00a02\u00a0\u00bb\u00a0:\n"
            ]
        },
        {
            "cell_type": "code",
            "metadata": {
                "id": "-05ih5XFNHeD"
            },
            "source": [
                "a = 1 \n",
                "a = 2"
            ],
            "execution_count": 8,
            "outputs": []
        },
        {
            "cell_type": "markdown",
            "metadata": {
                "id": "MY1muCp4NHeI"
            },
            "source": [
                "**Cela peut sembler \u00e9vident, mais n&#39;oubliez pas ceci, car cela peut conduire \u00e0 de nombreux malentendus, comme nous le verrons plus tard, dans la section sur les boucles.**\n"
            ]
        },
        {
            "cell_type": "markdown",
            "metadata": {
                "id": "RWH3PO1HNHeJ"
            },
            "source": [
                "## Conditions\n",
                "\n",
                "Tr\u00e8s souvent, vous devrez prendre des d\u00e9cisions dans vos programmes, en fonction de la situation actuelle. Voici un exemple. Ex\u00e9cutez la cellule suivante en la s\u00e9lectionnant et en appuyant sur Maj+Entr\u00e9e.\n"
            ]
        },
        {
            "cell_type": "code",
            "metadata": {
                "id": "vnJh1I7LNHeL",
                "outputId": "1f9ed0b2-a28c-4557-e0fd-70a78c7804f2",
                "colab": {
                    "base_uri": "https://localhost:8080/",
                    "height": 34
                }
            },
            "source": [
                "do_great_the_world = True\n",
                "if do_great_the_world: \n",
                "    print('hello_world')\n",
                "else: \n",
                "    print('get lost')"
            ],
            "execution_count": 11,
            "outputs": [
                {
                    "output_type": "stream",
                    "text": [
                        "hello_world\n"
                    ],
                    "name": "stdout"
                }
            ]
        },
        {
            "cell_type": "markdown",
            "metadata": {
                "id": "608NF_GHNHeR"
            },
            "source": [
                "Transformez maintenant `do_great_the_world` en `False` et r\u00e9ex\u00e9cutez la cellule. \u00c7a y est, vous savez faire l&#39;ex\u00e9cution conditionnelle.\n"
            ]
        },
        {
            "cell_type": "markdown",
            "metadata": {
                "id": "N5GCnxPvNHeS"
            },
            "source": [
                "## \u00c0 propos de l&#39;indentation du code\n",
                "\n",
                "En python, les indentations sont importantes, et ne sont pas seulement l\u00e0 pour rendre le code lisible et joli. Lorsque vous indentez le code (utilisez simplement la tabulation pour cela), vous sp\u00e9cifiez que vous cr\u00e9ez un contexte imbriqu\u00e9. Par exemple, dans le code ci-dessus, la ligne `print(&#39;hello_world&#39;)` est &quot;sous&quot; la condition if et ne sera ex\u00e9cut\u00e9e que si `do_great_the_world` est vrai.\n",
                "\n",
                "Dans la plupart des autres langages, cependant, les contextes sont entour\u00e9s de s\u00e9parateurs, comme &#39;{}&#39; en C++. Les personnes venant de ces autres langues n&#39;aiment souvent pas \u00eatre oblig\u00e9es de mettre en retrait. Mais si vous vous lancez dans python, vous vous rendrez compte que :\n",
                "\n",
                "* aucun s\u00e9parateur signifie une saisie plus rapide et plus facile\n",
                "* si les gens n&#39;indentent pas, le code ne fonctionnera pas, vous n&#39;aurez donc plus \u00e0 perdre de temps \u00e0 essayer de revoir le code non indent\u00e9 d&#39;autres personnes.\n",
                "* Les \u00e9diteurs de texte et en particulier les IDE rendent tr\u00e8s facile et naturel l&#39;indentation correcte : souvent, l&#39;\u00e9diteur indentera automatiquement, et sinon il vous suffit d&#39;appuyer sur la tabulation (ou sur shift+tab pour revenir en arri\u00e8re).\n"
            ]
        },
        {
            "cell_type": "markdown",
            "metadata": {
                "id": "Lfodf-39NHeT"
            },
            "source": [
                "## Boucles\n",
                "\n",
                "Les boucles permettent de r\u00e9p\u00e9ter plusieurs fois une op\u00e9ration. C&#39;est g\u00e9n\u00e9ralement \u00e0 cela que servent les programmes, nous devons donc apprendre \u00e0 le faire.\n",
                "\n",
                "Tout d&#39;abord, nous devons d\u00e9finir quelque chose sur lequel nous pouvons boucler. Et les choses qui peuvent \u00eatre boucl\u00e9es sont appel\u00e9es *iterables*. Une *liste* est un it\u00e9rable, et en voici un\u00a0:\n",
                "\n"
            ]
        },
        {
            "cell_type": "code",
            "metadata": {
                "id": "TCcamyG4NHeU",
                "outputId": "b27acd32-a7cc-4eb3-e749-da7aff917f46",
                "colab": {
                    "base_uri": "https://localhost:8080/",
                    "height": 34
                }
            },
            "source": [
                "a = [1, 2, 3, 4]\n",
                "print(a)"
            ],
            "execution_count": 12,
            "outputs": [
                {
                    "output_type": "stream",
                    "text": [
                        "[1, 2, 3, 4]\n"
                    ],
                    "name": "stdout"
                }
            ]
        },
        {
            "cell_type": "markdown",
            "metadata": {
                "id": "XU4347GoNHeb"
            },
            "source": [
                "Notez comment la fonction d&#39;impression s&#39;adapte \u00e0 l&#39;objet imprim\u00e9. Vous pouvez l&#39;essayer sur n&#39;importe quel type d&#39;objet, et vous obtiendrez g\u00e9n\u00e9ralement des r\u00e9sultats significatifs.\n",
                "\n",
                "Maintenant, \u00e9crivons une boucle pour calculer les carr\u00e9s de toutes les valeurs de la liste, et pour r\u00e9sumer ces carr\u00e9s\u00a0:\n"
            ]
        },
        {
            "cell_type": "code",
            "metadata": {
                "id": "lpHzJhcxNHec",
                "outputId": "0eedc648-899a-4acf-bfdd-d225e6950c31",
                "colab": {
                    "base_uri": "https://localhost:8080/",
                    "height": 52
                }
            },
            "source": [
                "squares = []\n",
                "sumsq = 0\n",
                "for x in a: \n",
                "    x2 = x**2\n",
                "    squares.append(x2)\n",
                "    sumsq += x2\n",
                "print(squares)\n",
                "print(sumsq)"
            ],
            "execution_count": 13,
            "outputs": [
                {
                    "output_type": "stream",
                    "text": [
                        "[1, 4, 9, 16]\n",
                        "30\n"
                    ],
                    "name": "stdout"
                }
            ]
        },
        {
            "cell_type": "markdown",
            "metadata": {
                "id": "yv8RxiSCNHeh"
            },
            "source": [
                "Ce que vous savez \u00e0 ce stade sur les boucles est probablement suffisant dans la plupart des programmes, mais nous allons jeter un \u0153il \u00e0 quelques raccourcis syntaxiques.\n",
                "\n",
                "Vous pouvez boucler de mani\u00e8re tr\u00e8s compacte en utilisant *list comprehensions*\u00a0:\n"
            ]
        },
        {
            "cell_type": "code",
            "metadata": {
                "id": "SyG5Bc8SNHei",
                "outputId": "de6233ed-21f8-461c-b404-e1ba84a930e2",
                "colab": {
                    "base_uri": "https://localhost:8080/",
                    "height": 34
                }
            },
            "source": [
                "squares = [x**2 for x in a]\n",
                "squares"
            ],
            "execution_count": 14,
            "outputs": [
                {
                    "output_type": "execute_result",
                    "data": {
                        "text/plain": [
                            "[1, 4, 9, 16]"
                        ]
                    },
                    "metadata": {
                        "tags": []
                    },
                    "execution_count": 14
                }
            ]
        },
        {
            "cell_type": "markdown",
            "metadata": {
                "id": "pTsap3BzNHem"
            },
            "source": [
                "Cela peut \u00eatre pratique, et vous rencontrerez tr\u00e8s souvent ce genre de constructions. Mais n&#39;en abusez pas. Les d\u00e9butants ont souvent tendance \u00e0 utiliser plusieurs compr\u00e9hensions de liste pour calculer diff\u00e9rentes valeurs \u00e0 partir du m\u00eame it\u00e9rable, par exemple\u00a0:\n"
            ]
        },
        {
            "cell_type": "code",
            "metadata": {
                "id": "ZHZmCfHmNHen",
                "outputId": "eb909de8-5e88-4ae1-d1f3-ac643705a205",
                "colab": {
                    "base_uri": "https://localhost:8080/",
                    "height": 52
                }
            },
            "source": [
                "squares = [x**2 for x in a]\n",
                "cubes = [x**3 for x in a]\n",
                "print(squares)\n",
                "print(cubes)"
            ],
            "execution_count": 15,
            "outputs": [
                {
                    "output_type": "stream",
                    "text": [
                        "[1, 4, 9, 16]\n",
                        "[1, 8, 27, 64]\n"
                    ],
                    "name": "stdout"
                }
            ]
        },
        {
            "cell_type": "markdown",
            "metadata": {
                "id": "iLagCovONHer"
            },
            "source": [
                "**Mais ce n&#39;est ni \u00e9l\u00e9gant ni efficace. Si vous devez calculer plusieurs choses \u00e0 partir du m\u00eame it\u00e9rable, utilisez une construction de boucle standard pour \u00e9conomiser du temps CPU et ressembler \u00e0 un pro.**\n"
            ]
        },
        {
            "cell_type": "markdown",
            "metadata": {
                "id": "oPfDiX96NHev"
            },
            "source": [
                "Souvent, vous devez obtenir les valeurs de l&#39;it\u00e9rable, ainsi que l&#39;index auquel la valeur est stock\u00e9e. Pour cela, utilisez \u00ab\u00a0\u00e9num\u00e9rer\u00a0\u00bb\u00a0:\n"
            ]
        },
        {
            "cell_type": "code",
            "metadata": {
                "id": "7fHdSJf9NHew",
                "outputId": "2e365372-46ee-4af5-94b0-e3f92177d0d9",
                "colab": {
                    "base_uri": "https://localhost:8080/",
                    "height": 86
                }
            },
            "source": [
                "for i, x in enumerate(a): \n",
                "    print(i, x)"
            ],
            "execution_count": 16,
            "outputs": [
                {
                    "output_type": "stream",
                    "text": [
                        "0 1\n",
                        "1 2\n",
                        "2 3\n",
                        "3 4\n"
                    ],
                    "name": "stdout"
                }
            ]
        },
        {
            "cell_type": "markdown",
            "metadata": {
                "id": "1-lEQVLrNHe0"
            },
            "source": [
                "---\n",
                "\n",
                "**Exercer**\n",
                "\n",
                "Revenons \u00e0 la liaison de noms dans le contexte des boucles. Dans le code ci-dessous, on boucle sur une liste, et on essaie d&#39;ajouter 1 \u00e0 tous les \u00e9l\u00e9ments de la liste, mais \u00e7a ne marche pas... tu comprends pourquoi ?\n"
            ]
        },
        {
            "cell_type": "code",
            "metadata": {
                "id": "_F58RAq6NHe1",
                "outputId": "31141ea0-2938-4e53-8227-1ebcc17edd6c",
                "colab": {
                    "base_uri": "https://localhost:8080/",
                    "height": 52
                }
            },
            "source": [
                "lst = list(range(5))\n",
                "print(lst)\n",
                "for x in lst:\n",
                "    x += 1\n",
                "print(lst)"
            ],
            "execution_count": 17,
            "outputs": [
                {
                    "output_type": "stream",
                    "text": [
                        "[0, 1, 2, 3, 4]\n",
                        "[0, 1, 2, 3, 4]\n"
                    ],
                    "name": "stdout"
                }
            ]
        },
        {
            "cell_type": "markdown",
            "metadata": {
                "id": "WSE_fl3HNHe5"
            },
            "source": [
                "---\n"
            ]
        },
        {
            "cell_type": "markdown",
            "metadata": {
                "id": "MjjLzSz2NHe6"
            },
            "source": [
                "## Entr\u00e9e et sortie de base\n",
                "\n",
                "Pour la science des donn\u00e9es, et surtout si les donn\u00e9es commencent \u00e0 devenir volumineuses, nous utiliserons des biblioth\u00e8ques sp\u00e9cifiques pour lire les fichiers de donn\u00e9es, et vous le verrez plus tard lorsque vous commencerez \u00e0 utiliser des biblioth\u00e8ques de science des donn\u00e9es telles que `numpy` ou `pandas`.\n",
                "\n",
                "Ici, vous apprendrez simplement \u00e0 lire et \u00e0 \u00e9crire des fichiers texte de base.\n",
                "\n",
                "\u00c9crivez dans un fichier texte en faisant :\n"
            ]
        },
        {
            "cell_type": "code",
            "metadata": {
                "id": "-9m5PRsgNHe7"
            },
            "source": [
                "a = [1, 2, 3, 4]\n",
                "fname = 'myfile.txt'\n",
                "# 'w' means that the file is opened in write mode\n",
                "with open(fname, 'w') as out_file: \n",
                "    for i in a: \n",
                "        # we convert our integers to strings, \n",
                "        # and we write one integer per line\n",
                "        # note that we need to add a newline \n",
                "        # character manually to the string,\n",
                "        # which just contains the number\n",
                "        out_file.write(str(i) + '\\n')"
            ],
            "execution_count": 18,
            "outputs": []
        },
        {
            "cell_type": "markdown",
            "metadata": {
                "id": "TcHEm2w0NHe_"
            },
            "source": [
                "Vous pouvez v\u00e9rifier le contenu du fichier avec une fonction shell (le `!` informe le notebook jupyter qu&#39;il s&#39;agit d&#39;une fonction shell)\u00a0:\n"
            ]
        },
        {
            "cell_type": "code",
            "metadata": {
                "id": "BWx6T9A6NHe_",
                "outputId": "d4ce6745-bde6-482d-9097-421e9945645b",
                "colab": {
                    "base_uri": "https://localhost:8080/",
                    "height": 86
                }
            },
            "source": [
                "! cat myfile.txt"
            ],
            "execution_count": 19,
            "outputs": [
                {
                    "output_type": "stream",
                    "text": [
                        "1\n",
                        "2\n",
                        "3\n",
                        "4\n"
                    ],
                    "name": "stdout"
                }
            ]
        },
        {
            "cell_type": "markdown",
            "metadata": {
                "id": "e9lcfJRhNHfD"
            },
            "source": [
                "Et maintenant vous pouvez relire le fichier\u00a0:\n"
            ]
        },
        {
            "cell_type": "code",
            "metadata": {
                "id": "4SyslknQNHfE",
                "outputId": "3d5dfdd5-8a5b-4b4c-ce41-336025fbaa09",
                "colab": {
                    "base_uri": "https://localhost:8080/",
                    "height": 86
                }
            },
            "source": [
                "with open(fname) as in_file: \n",
                "    for line in in_file: \n",
                "        # we remove the trailing '\\n':\n",
                "        line = line.strip()\n",
                "        print(line)"
            ],
            "execution_count": 20,
            "outputs": [
                {
                    "output_type": "stream",
                    "text": [
                        "1\n",
                        "2\n",
                        "3\n",
                        "4\n"
                    ],
                    "name": "stdout"
                }
            ]
        },
        {
            "cell_type": "markdown",
            "metadata": {
                "id": "T7PFZrlONHfI"
            },
            "source": [
                "Dans le cas de l&#39;\u00e9criture et de la lecture, nous avons utilis\u00e9 l&#39;instruction \u00ab\u00a0with\u00a0\u00bb. Cette instruction garantit que le fichier n&#39;est actif que dans le contexte de `with`. Lorsque le programme sort du contexte, le fichier se ferme automatiquement.\n",
                "\n",
                "Il est important de s&#39;assurer que les fichiers sont ferm\u00e9s lorsqu&#39;ils ne sont plus n\u00e9cessaires, donc\u00a0:\n",
                "\n",
                "**Toujours utiliser l&#39;instruction with pour ouvrir les fichiers !**\n"
            ]
        },
        {
            "cell_type": "markdown",
            "metadata": {
                "id": "hIMAfQYQNHfJ"
            },
            "source": [
                "## Les fonctions\n",
                "\n",
                "Voici une fonction basique, qui ne prend aucun argument (elle n&#39;a pas de param\u00e8tres) :\n"
            ]
        },
        {
            "cell_type": "code",
            "metadata": {
                "id": "UmgbQY6GNHfK",
                "outputId": "091c2c10-1c9d-4f33-9de4-5dc45d2dd9b4",
                "colab": {
                    "base_uri": "https://localhost:8080/",
                    "height": 34
                }
            },
            "source": [
                "def say_hello():\n",
                "    print('hello world!')\n",
                "    \n",
                "say_hello()"
            ],
            "execution_count": 21,
            "outputs": [
                {
                    "output_type": "stream",
                    "text": [
                        "hello world!\n"
                    ],
                    "name": "stdout"
                }
            ]
        },
        {
            "cell_type": "markdown",
            "metadata": {
                "id": "pI9GWTJfNHfO"
            },
            "source": [
                "Pour ajouter des param\u00e8tres, il suffit de les sp\u00e9cifier dans la d\u00e9finition de la fonction\u00a0:\n"
            ]
        },
        {
            "cell_type": "code",
            "metadata": {
                "id": "-MZHHOqONHfP",
                "outputId": "b31a70a6-e567-4a58-9f22-2e04ba5b8da7",
                "colab": {
                    "base_uri": "https://localhost:8080/",
                    "height": 52
                }
            },
            "source": [
                "def say_hello(somebody):\n",
                "    print('hello {}'.format(somebody))\n",
                "    \n",
                "say_hello('world')\n",
                "say_hello('colin')"
            ],
            "execution_count": 22,
            "outputs": [
                {
                    "output_type": "stream",
                    "text": [
                        "hello world\n",
                        "hello colin\n"
                    ],
                    "name": "stdout"
                }
            ]
        },
        {
            "cell_type": "markdown",
            "metadata": {
                "id": "znZZtI--NHfT"
            },
            "source": [
                "Vous pouvez ajouter n&#39;importe quel param\u00e8tre dont vous avez besoin, en les s\u00e9parant par des virgules\u00a0:\n"
            ]
        },
        {
            "cell_type": "code",
            "metadata": {
                "id": "2MVC4dw6NHfU",
                "outputId": "87114281-a1a4-42c7-80cc-399f36fcc0b1",
                "colab": {
                    "base_uri": "https://localhost:8080/",
                    "height": 34
                }
            },
            "source": [
                "def say_hello(a, b): \n",
                "    all_people = ' and '.join([a, b])\n",
                "    print('hello {}'.format(all_people))\n",
                "    \n",
                "say_hello('asterix', 'obelix')"
            ],
            "execution_count": 23,
            "outputs": [
                {
                    "output_type": "stream",
                    "text": [
                        "hello asterix and obelix\n"
                    ],
                    "name": "stdout"
                }
            ]
        },
        {
            "cell_type": "markdown",
            "metadata": {
                "id": "go1RawcTNHfX"
            },
            "source": [
                "Les fonctions peuvent \u00e9galement renvoyer des objets. Souvent un seul objet (peut-\u00eatre une liste) ou un tuple d&#39;objets. Pour ce faire, utilisez l&#39;instruction return\u00a0:\n"
            ]
        },
        {
            "cell_type": "code",
            "metadata": {
                "id": "dzn5uMXtNHfY",
                "outputId": "84ed145e-90cb-4d51-c409-093ce7d2ca90",
                "colab": {
                    "base_uri": "https://localhost:8080/",
                    "height": 34
                }
            },
            "source": [
                "def square(x):\n",
                "    return x**2\n",
                "\n",
                "square(2)"
            ],
            "execution_count": 24,
            "outputs": [
                {
                    "output_type": "execute_result",
                    "data": {
                        "text/plain": [
                            "4"
                        ]
                    },
                    "metadata": {
                        "tags": []
                    },
                    "execution_count": 24
                }
            ]
        },
        {
            "cell_type": "code",
            "metadata": {
                "id": "KtSOJu_KNHfc",
                "outputId": "fa3b5208-f41b-43be-a422-dddd128d5883",
                "colab": {
                    "base_uri": "https://localhost:8080/",
                    "height": 34
                }
            },
            "source": [
                "import random\n",
                "\n",
                "def random_point():\n",
                "    return random.random(), random.random()\n",
                "\n",
                "random_point()"
            ],
            "execution_count": 25,
            "outputs": [
                {
                    "output_type": "execute_result",
                    "data": {
                        "text/plain": [
                            "(0.5916910005762294, 0.9463409680654058)"
                        ]
                    },
                    "metadata": {
                        "tags": []
                    },
                    "execution_count": 25
                }
            ]
        },
        {
            "cell_type": "markdown",
            "metadata": {
                "id": "FIqIrpMsNHfg"
            },
            "source": [
                "Vous pouvez d\u00e9finir des valeurs par d\u00e9faut pour les arguments, comme ceci\u00a0:\n"
            ]
        },
        {
            "cell_type": "code",
            "metadata": {
                "id": "z7pLuBq7NHfg",
                "outputId": "28a8c210-bcec-4bfb-9b41-13b97ea69b68",
                "colab": {
                    "base_uri": "https://localhost:8080/",
                    "height": 52
                }
            },
            "source": [
                "def say_hello(a='world'):\n",
                "    print('hello {}'.format(a))\n",
                "\n",
                "say_hello('colin')\n",
                "say_hello()"
            ],
            "execution_count": 26,
            "outputs": [
                {
                    "output_type": "stream",
                    "text": [
                        "hello colin\n",
                        "hello world\n"
                    ],
                    "name": "stdout"
                }
            ]
        },
        {
            "cell_type": "markdown",
            "metadata": {
                "id": "RpBjMJLSNHfj"
            },
            "source": [
                "Enfin, les fonctions peuvent soit prendre des arguments de position sans nom, soit des arguments de mot-cl\u00e9. Les arguments nomm\u00e9s doivent \u00eatre fournis apr\u00e8s tous les arguments positionnels. Par example:\n"
            ]
        },
        {
            "cell_type": "code",
            "metadata": {
                "id": "jfuhp476NHfk",
                "outputId": "c753fb6f-123f-4b7e-c317-1d831cbcef3d",
                "colab": {
                    "base_uri": "https://localhost:8080/",
                    "height": 34
                }
            },
            "source": [
                "def say_hello(greeting, person='laurel', another_person='hardy'):\n",
                "    print('{greeting} {person} and {another}'.format(\n",
                "        greeting=greeting,\n",
                "        person=person,\n",
                "        another=another_person\n",
                "        )\n",
                "    )\n",
                "    \n",
                "say_hello('hi', another_person='colin')"
            ],
            "execution_count": 27,
            "outputs": [
                {
                    "output_type": "stream",
                    "text": [
                        "hi laurel and colin\n"
                    ],
                    "name": "stdout"
                }
            ]
        },
        {
            "cell_type": "markdown",
            "metadata": {
                "id": "l47uq1pKNHfn"
            },
            "source": [
                "Dans cet exemple, `hi` est un argument positionnel et person est un argument mot-cl\u00e9. Bien entendu, les arguments positionnels sont \u00e0 donner dans le bon ordre ! Les arguments de mots-cl\u00e9s sont int\u00e9ressants car ils rendent \u00e9vident de l&#39;ext\u00e9rieur de la fonction \u00e0 quoi sert l&#39;argument. Ils permettent \u00e9galement de sp\u00e9cifier uniquement certains des arguments qui ont une valeur par d\u00e9faut.\n"
            ]
        },
        {
            "cell_type": "markdown",
            "metadata": {
                "id": "qwE0kufRNHfn"
            },
            "source": [
                "## Structures de donn\u00e9es Python\n"
            ]
        },
        {
            "cell_type": "markdown",
            "metadata": {
                "id": "6vzhCLIcNHfo"
            },
            "source": [
                "### Listes\n",
                "\n",
                "La structure de donn\u00e9es la plus utilis\u00e9e en python est certainement la liste.\n",
                "\n",
                "Dans l&#39;exemple suivant, nous illustrons quelques op\u00e9rations de liste tr\u00e8s courantes\u00a0:\n"
            ]
        },
        {
            "cell_type": "code",
            "metadata": {
                "id": "k-q6Q-jMNHfp",
                "outputId": "30cba502-c30d-48dc-a31f-57589cf7513b",
                "colab": {
                    "base_uri": "https://localhost:8080/",
                    "height": 156
                }
            },
            "source": [
                "# create the list, using square brackets\n",
                "data = ['a', 0, 1, 'b']\n",
                "# append a single element at the end\n",
                "data.append('c')\n",
                "# extend the list with the contents of another list \n",
                "data.extend([2, 3])\n",
                "# print the list length\n",
                "print('data size', len(data))\n",
                "# iterate on the list\n",
                "for elem in data: \n",
                "    print(elem)"
            ],
            "execution_count": 28,
            "outputs": [
                {
                    "output_type": "stream",
                    "text": [
                        "data size 7\n",
                        "a\n",
                        "0\n",
                        "1\n",
                        "b\n",
                        "c\n",
                        "2\n",
                        "3\n"
                    ],
                    "name": "stdout"
                }
            ]
        },
        {
            "cell_type": "markdown",
            "metadata": {
                "id": "ExQjOKxgNHfs"
            },
            "source": [
                "### Tuples\n",
                "\n",
                "Les tuples sont tr\u00e8s similaires aux listes. La diff\u00e9rence entre les deux est que les listes sont **mutables**, tandis que les tuples sont **immuables**. Cela signifie que nous pouvons modifier une liste (comme nous l&#39;avons fait lorsque nous avons ajout\u00e9 des \u00e9l\u00e9ments \u00e0 notre liste de donn\u00e9es ci-dessus), mais nous ne pouvons pas modifier un tuple.\n",
                "\n",
                "Dans l&#39;exemple suivant, nous cr\u00e9ons un tuple, l&#39;imprimons et essayons d&#39;ajouter des \u00e9l\u00e9ments au tuple\u00a0:\n"
            ]
        },
        {
            "cell_type": "code",
            "metadata": {
                "id": "LWgBR2TrNHfs",
                "outputId": "ba596b2a-2826-4357-c98d-163ee479e060",
                "colab": {
                    "base_uri": "https://localhost:8080/",
                    "height": 217
                }
            },
            "source": [
                "# create a tuple, using parentheses\n",
                "tup = (0, 1)\n",
                "print('length:', len(tup), 'elements:', tup)\n",
                "tup.append(2)"
            ],
            "execution_count": 29,
            "outputs": [
                {
                    "output_type": "stream",
                    "text": [
                        "length: 2 elements: (0, 1)\n"
                    ],
                    "name": "stdout"
                },
                {
                    "output_type": "error",
                    "ename": "AttributeError",
                    "evalue": "ignored",
                    "traceback": [
                        "\u001b[0;31m---------------------------------------------------------------------------\u001b[0m",
                        "\u001b[0;31mAttributeError\u001b[0m                            Traceback (most recent call last)",
                        "\u001b[0;32m<ipython-input-29-c72b34954c76>\u001b[0m in \u001b[0;36m<module>\u001b[0;34m()\u001b[0m\n\u001b[1;32m      2\u001b[0m \u001b[0mtup\u001b[0m \u001b[0;34m=\u001b[0m \u001b[0;34m(\u001b[0m\u001b[0;36m0\u001b[0m\u001b[0;34m,\u001b[0m \u001b[0;36m1\u001b[0m\u001b[0;34m)\u001b[0m\u001b[0;34m\u001b[0m\u001b[0;34m\u001b[0m\u001b[0m\n\u001b[1;32m      3\u001b[0m \u001b[0mprint\u001b[0m\u001b[0;34m(\u001b[0m\u001b[0;34m'length:'\u001b[0m\u001b[0;34m,\u001b[0m \u001b[0mlen\u001b[0m\u001b[0;34m(\u001b[0m\u001b[0mtup\u001b[0m\u001b[0;34m)\u001b[0m\u001b[0;34m,\u001b[0m \u001b[0;34m'elements:'\u001b[0m\u001b[0;34m,\u001b[0m \u001b[0mtup\u001b[0m\u001b[0;34m)\u001b[0m\u001b[0;34m\u001b[0m\u001b[0;34m\u001b[0m\u001b[0m\n\u001b[0;32m----> 4\u001b[0;31m \u001b[0mtup\u001b[0m\u001b[0;34m.\u001b[0m\u001b[0mappend\u001b[0m\u001b[0;34m(\u001b[0m\u001b[0;36m2\u001b[0m\u001b[0;34m)\u001b[0m\u001b[0;34m\u001b[0m\u001b[0;34m\u001b[0m\u001b[0m\n\u001b[0m",
                        "\u001b[0;31mAttributeError\u001b[0m: 'tuple' object has no attribute 'append'"
                    ]
                }
            ]
        },
        {
            "cell_type": "markdown",
            "metadata": {
                "id": "FQYpdkzONHfw"
            },
            "source": [
                "Bien s\u00fbr, cela \u00e9choue car le tuple est immuable. Cela peut sembler \u00eatre un gros inconv\u00e9nient des tuples. Mais ce n&#39;est pas! Nous n&#39;allons pas entrer dans un long d\u00e9bat sur les raisons pour lesquelles c&#39;est le cas, et ne vous donnerons qu&#39;une seule recommandation\u00a0:\n",
                "\n",
                "**si vous devez d\u00e9finir une s\u00e9quence qui ne doit pas ou ne sera pas modifi\u00e9e, utilisez un tuple.**\n",
                "\n",
                "Cela vous facilitera le d\u00e9bogage de votre code et le rendra plus efficace en termes de m\u00e9moire.\n",
                "\n",
                "Enfin, un mot sur l&#39;affectation des tuples. Il est possible de cr\u00e9er un tuple en **packing** les valeurs comme nous l&#39;avons fait ci-dessus. Et en fait on peut omettre les parenth\u00e8ses :\n"
            ]
        },
        {
            "cell_type": "code",
            "metadata": {
                "id": "hkGYWttFNHfx",
                "outputId": "947a58aa-6b15-4aca-d2be-598e68fa99d2",
                "colab": {
                    "base_uri": "https://localhost:8080/",
                    "height": 34
                }
            },
            "source": [
                "tup = 0, 1\n",
                "tup"
            ],
            "execution_count": 30,
            "outputs": [
                {
                    "output_type": "execute_result",
                    "data": {
                        "text/plain": [
                            "(0, 1)"
                        ]
                    },
                    "metadata": {
                        "tags": []
                    },
                    "execution_count": 30
                }
            ]
        },
        {
            "cell_type": "markdown",
            "metadata": {
                "id": "kcOe51b2NHf0"
            },
            "source": [
                "Et nous pouvons aussi **d\u00e9compresser**\u00a0:\n"
            ]
        },
        {
            "cell_type": "code",
            "metadata": {
                "id": "i9uQdc2NNHf1",
                "outputId": "5751772b-d53e-4293-873b-68758c856cc1",
                "colab": {
                    "base_uri": "https://localhost:8080/",
                    "height": 34
                }
            },
            "source": [
                "x, y = tup\n",
                "print(x, y)"
            ],
            "execution_count": 31,
            "outputs": [
                {
                    "output_type": "stream",
                    "text": [
                        "0 1\n"
                    ],
                    "name": "stdout"
                }
            ]
        },
        {
            "cell_type": "markdown",
            "metadata": {
                "id": "N47r_W10NHf3"
            },
            "source": [
                "En faisant l&#39;emballage et le d\u00e9ballage en m\u00eame temps, nous pouvons **initialiser plusieurs variables en une seule commande**\u00a0:\n"
            ]
        },
        {
            "cell_type": "code",
            "metadata": {
                "id": "iHDD22AINHf4",
                "outputId": "95f040ef-3c9f-4cd9-a286-22f2fda4e3f4",
                "colab": {
                    "base_uri": "https://localhost:8080/",
                    "height": 34
                }
            },
            "source": [
                "x, y = 0, 1\n",
                "print(x, y)"
            ],
            "execution_count": 32,
            "outputs": [
                {
                    "output_type": "stream",
                    "text": [
                        "0 1\n"
                    ],
                    "name": "stdout"
                }
            ]
        },
        {
            "cell_type": "markdown",
            "metadata": {
                "id": "qrsO4qRINHf6"
            },
            "source": [
                "### Dictionnaires\n",
                "\n",
                "Les dictionnaires sont tr\u00e8s diff\u00e9rents des listes et des tuples. Ce sont des structures de donn\u00e9es **mutables**, **mapping**. Cela signifie que les dictionnaires contiennent des \u00e9l\u00e9ments constitu\u00e9s d&#39;un mappage **cl\u00e9** \u00e0 une **valeur**, et que nous pouvons modifier les dictionnaires existants. Voici votre premier :\n"
            ]
        },
        {
            "cell_type": "code",
            "metadata": {
                "id": "rJW31I6aNHf7",
                "outputId": "0c2b70b3-c984-4f0d-c242-ff8978e1827c",
                "colab": {
                    "base_uri": "https://localhost:8080/",
                    "height": 34
                }
            },
            "source": [
                "data = {\n",
                "    'x': 1,\n",
                "    'y': 2\n",
                "}\n",
                "\n",
                "data"
            ],
            "execution_count": 33,
            "outputs": [
                {
                    "output_type": "execute_result",
                    "data": {
                        "text/plain": [
                            "{'x': 1, 'y': 2}"
                        ]
                    },
                    "metadata": {
                        "tags": []
                    },
                    "execution_count": 33
                }
            ]
        },
        {
            "cell_type": "markdown",
            "metadata": {
                "id": "3NaUkxLgNHf-"
            },
            "source": [
                "On peut ajouter des \u00e9l\u00e9ments (ou modifier la valeur des cl\u00e9s existantes !) comme ceci :\n"
            ]
        },
        {
            "cell_type": "code",
            "metadata": {
                "id": "-oRmFoXONHf-",
                "outputId": "12595ba3-e968-4eed-dea5-cd0aac2c2ab6",
                "colab": {
                    "base_uri": "https://localhost:8080/",
                    "height": 34
                }
            },
            "source": [
                "data['x'] = 0\n",
                "data['z'] = 3\n",
                "data"
            ],
            "execution_count": 34,
            "outputs": [
                {
                    "output_type": "execute_result",
                    "data": {
                        "text/plain": [
                            "{'x': 0, 'y': 2, 'z': 3}"
                        ]
                    },
                    "metadata": {
                        "tags": []
                    },
                    "execution_count": 34
                }
            ]
        },
        {
            "cell_type": "markdown",
            "metadata": {
                "id": "65Cex1vBNHgA"
            },
            "source": [
                "Et nous pouvons acc\u00e9der \u00e0 la valeur d&#39;une cl\u00e9 comme celle-ci\u00a0:\n"
            ]
        },
        {
            "cell_type": "code",
            "metadata": {
                "id": "FRjFgYyDNHgA",
                "outputId": "8f0d789d-8969-42c6-b49c-e3678d24f4da",
                "colab": {
                    "base_uri": "https://localhost:8080/",
                    "height": 34
                }
            },
            "source": [
                "data['x']"
            ],
            "execution_count": 35,
            "outputs": [
                {
                    "output_type": "execute_result",
                    "data": {
                        "text/plain": [
                            "0"
                        ]
                    },
                    "metadata": {
                        "tags": []
                    },
                    "execution_count": 35
                }
            ]
        },
        {
            "cell_type": "markdown",
            "metadata": {
                "id": "6H5JLjZtNHgE"
            },
            "source": [
                "Les programmeurs Python utilisent souvent des dictionnaires (ou des listes de dictionnaires) pour garder une trace des informations. Par exemple, pour un annuaire t\u00e9l\u00e9phonique\u00a0:\n"
            ]
        },
        {
            "cell_type": "code",
            "metadata": {
                "id": "_WzxTE_PNHgE",
                "outputId": "ca5a7616-593c-4eb4-feed-cdd2a64b660c",
                "colab": {
                    "base_uri": "https://localhost:8080/",
                    "height": 69
                }
            },
            "source": [
                "[\n",
                "    {'first_name':'john',\n",
                "     'last_name':'smith',\n",
                "     'phone': 1234567 \n",
                "    },\n",
                "    {'first_name':'john',\n",
                "     'last_name':'goodman',\n",
                "     'phone': 7654321    \n",
                "    },\n",
                "    {'first_name':'will',\n",
                "     'last_name':'smith',\n",
                "     'phone': 1234851,     \n",
                "    } \n",
                "]"
            ],
            "execution_count": 36,
            "outputs": [
                {
                    "output_type": "execute_result",
                    "data": {
                        "text/plain": [
                            "[{'first_name': 'john', 'last_name': 'smith', 'phone': 1234567},\n",
                            " {'first_name': 'john', 'last_name': 'goodman', 'phone': 7654321},\n",
                            " {'first_name': 'will', 'last_name': 'smith', 'phone': 1234851}]"
                        ]
                    },
                    "metadata": {
                        "tags": []
                    },
                    "execution_count": 36
                }
            ]
        },
        {
            "cell_type": "markdown",
            "metadata": {
                "id": "_6Psh7-qNHgU"
            },
            "source": [
                "### Liste ou dictionnaire\u00a0?\n"
            ]
        },
        {
            "cell_type": "markdown",
            "metadata": {
                "id": "kHcLCHjtNHgV"
            },
            "source": [
                "Au d\u00e9but, d\u00e9cider quel conteneur utiliser peut ne pas \u00eatre facile. Gardez donc \u00e0 l&#39;esprit les faits suivants :\n",
                "\n",
                "**Listes:**\n",
                "\n",
                "* s\u00e9quentiel, signifiant que les \u00e9l\u00e9ments sont dispos\u00e9s dans un ordre donn\u00e9 ;\n",
                "* peut \u00eatre tri\u00e9;\n",
                "* fournir un acc\u00e8s tr\u00e8s rapide \u00e0 un \u00e9l\u00e9ment lorsque son indice est connu, avec une complexit\u00e9 O(1)\n",
                "* v\u00e9rifier si un \u00e9l\u00e9ment est dans une liste est de complexit\u00e9 O(n), donc le temps n\u00e9cessaire \u00e9volue lin\u00e9airement avec le nombre d&#39;\u00e9l\u00e9ments dans la liste\n",
                "\n",
                "**Dictionnaires\u00a0:**\n",
                "\n",
                "* fournir un acc\u00e8s tr\u00e8s rapide \u00e0 un \u00e9l\u00e9ment lorsque sa cl\u00e9 est connue, avec une complexit\u00e9 O(1)\n",
                "* v\u00e9rifier si une cl\u00e9 est dans le dictionnaire est de complexit\u00e9 O(1).\n",
                "* pour python &lt; 3.6, les dictionnaires sont intrins\u00e8quement non tri\u00e9s. Pour python 3.6, l&#39;ordre d&#39;insertion des \u00e9l\u00e9ments est conserv\u00e9 dans *certaines* impl\u00e9mentations de python. Pour python &gt;= 3.7, l&#39;ordre d&#39;insertion est toujours conserv\u00e9.\n",
                "---\n",
                "\n",
                "*Exercer*\n",
                "\n",
                "Dans les cas suivants, utiliseriez-vous une liste, un dictionnaire, une liste de tuples ? Si vous utilisez une liste, quels \u00e9l\u00e9ments stockeriez-vous\u00a0? Si vous utilisez un dictionnaire, quelle cl\u00e9 et valeur stockeriez-vous\u00a0?\n",
                "\n",
                "* tracer (x,y) des points de donn\u00e9es. Dans quelle structure de donn\u00e9es stockeriez-vous vos points avant de tracer\u00a0?\n",
                "* un d\u00e9tecteur a 32 canaux, et mesure une valeur dans chaque canal lorsque la mesure est d\u00e9clench\u00e9e. Quelle structure de donn\u00e9es utiliseriez-vous pour stocker les mesures\u00a0?\n",
                "* certains canaux sont mauvais et doivent \u00eatre masqu\u00e9s. O\u00f9 stockeriez-vous les mauvaises cha\u00eenes\u00a0?\n",
                "* chaque valeur doit \u00eatre calibr\u00e9e par un facteur qui d\u00e9pend du canal. O\u00f9 stockeriez-vous les facteurs d&#39;\u00e9talonnage\u00a0?\n",
                "* consid\u00e9rer l&#39;annuaire t\u00e9l\u00e9phonique ci-dessus. Quelle serait la complexit\u00e9 pour trouver l&#39;information pour une personne donn\u00e9e ? Comment am\u00e9lioreriez-vous le r\u00e9pertoire pour rendre la recherche tr\u00e8s rapide\u00a0?\n",
                "\n",
                "---\n"
            ]
        },
        {
            "cell_type": "markdown",
            "metadata": {
                "id": "GHI6zBrPNHgW"
            },
            "source": [
                "## Le zen de python\n",
                "\n",
                "Python est un langage extr\u00eamement flexible.\n",
                "\n",
                "Par exemple, vous pouvez opter pour une programmation orient\u00e9e objet ou enti\u00e8rement fonctionnelle, ou opter pour une approche hybride. Et si vous d\u00e9cidez de faire de la programmation orient\u00e9e objet, par exemple, il y a plusieurs fa\u00e7ons de le faire...\n",
                "\n",
                "En fait, lorsque vous aurez besoin de faire quelque chose avec python, vous constaterez certainement que le plus difficile est de choisir comment le faire.\n",
                "\n",
                "En cas de doute, suivez le Zen of Python ([PEP20](https://www.python.org/dev/peps/pep-0020/))\u00a0:\n",
                "\n",
                "* Beau vaut mieux que laid.\n",
                "* Explicite vaut mieux qu&#39;implicite.\n",
                "* Simple vaut mieux que complexe.\n",
                "* Complexe vaut mieux que compliqu\u00e9.\n",
                "* Plat est mieux que imbriqu\u00e9.\n",
                "* Clairsem\u00e9 vaut mieux que dense.\n",
                "* La lisibilit\u00e9 compte.\n",
                "* Les cas sp\u00e9ciaux ne sont pas assez sp\u00e9ciaux pour enfreindre les r\u00e8gles.\n",
                "* Bien que la praticit\u00e9 bat la puret\u00e9.\n",
                "* Les erreurs ne doivent jamais passer en silence.\n",
                "* Sauf si explicitement r\u00e9duit au silence.\n",
                "* Face \u00e0 l&#39;ambigu\u00eft\u00e9, refusez la tentation de deviner.\n",
                "* Il devrait y avoir une - et de pr\u00e9f\u00e9rence une seule - mani\u00e8re \u00e9vidente de le faire.\n",
                "* Bien que cela ne soit pas \u00e9vident au d\u00e9but, \u00e0 moins que vous ne soyez n\u00e9erlandais.\n",
                "* Mieux vaut maintenant que jamais.\n",
                "* Bien que jamais ne soit souvent mieux que *en ce moment*.\n",
                "* Si la mise en \u0153uvre est difficile \u00e0 expliquer, c&#39;est une mauvaise id\u00e9e.\n",
                "* Si la mise en \u0153uvre est facile \u00e0 expliquer, cela peut \u00eatre une bonne id\u00e9e.\n",
                "* Les espaces de noms sont une excellente id\u00e9e - faisons-en plus\u00a0!\n",
                "\n",
                "Et au fur et \u00e0 mesure du style, suivez [PEP8!](https://www.python.org/dev/peps/pep-0008/).\n"
            ]
        }
    ]
}