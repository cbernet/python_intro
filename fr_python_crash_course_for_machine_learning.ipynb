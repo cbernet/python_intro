{
  "nbformat": 4,
  "nbformat_minor": 0,
  "metadata": {
    "kernelspec": {
      "display_name": "Python 3",
      "language": "python",
      "name": "python3"
    },
    "language_info": {
      "codemirror_mode": {
        "name": "ipython",
        "version": 3
      },
      "file_extension": ".py",
      "mimetype": "text/x-python",
      "name": "python",
      "nbconvert_exporter": "python",
      "pygments_lexer": "ipython3",
      "version": "3.7.6"
    },
    "colab": {
      "name": "01_python_crash_course_for_machine_learning.ipynb",
      "provenance": []
    }
  },
  "cells": [
    {
      "cell_type": "markdown",
      "metadata": {
        "id": "oIgu9xLsNHdB"
      },
      "source": [
        "## Comment obtenir de l'aide ?\n",
        "\n",
        "Il est impossible de couvrir l'intégralité de python dans cette courte introduction, et beaucoup de sujets ne seront donc pas abordés. \n",
        "\n",
        "Par exemple, nous vous expliquerons ce qu'est une liste, mais ne vous expliquerons pas comment la trier.\n",
        "\n",
        "Et, au bout de quelques jours, vous aurez probablement oublié certains des concepts ou commandes spécifiques expliqués ici.\n",
        "\n",
        "C'est tout à fait normal, et ce n'est pas un problème. Ne vous inquiétez pas pour ça !\n",
        "\n",
        "Mais il est essentiel que vous sachiez comment trouver plus d'informations sur python lorsque vous en avez besoin.\n",
        "\n",
        "La communauté python est extrêmement vaste, et la meilleure source d'information est donc Google. Si vous tapez simplement **python doc sort list** sur Google, vous obtiendrez votre réponse en quelques secondes.\n",
        "\n",
        "De manière générale, la [documentation python](https://docs.python.org/fr/3.8/) est très bonne, alors assurez-vous de l'utiliser.\n",
        "\n",
        "Et si vous voulez aller plus loin après ce cours accéléré, vous pouvez commencer par le [tutoriel python] (https://docs.python.org/fr/3.8/tutorial/index.html). Vous y passerez un jour ou deux, mais cela en vaut vraiment la peine.\n",
        "\n"
      ]
    },
    {
      "cell_type": "markdown",
      "metadata": {
        "id": "5unYTFTCNHdD"
      },
      "source": [
        "## Variables et objets\n",
        "\n",
        "Vous avez probablement entendu parler de la programmation orientée objet, et cela peut vous sembler compliqué.\n",
        "\n",
        "Ne vous inquiétez pas, nous n'allons pas en faire dans ce cours. \n",
        "\n",
        "Mais nous passerons notre temps à utiliser des objets, car en python, tout est un objet. Un entier, une chaîne, une liste de valeurs et même une fonction : toutes ces choses sont des objets.\n",
        "\n",
        "Commençons par regarder un entier. Avec la fonction intégrée `id`, nous pouvons obtenir l'identifiant unique associé à cet objet entier :\n"
      ]
    },
    {
      "cell_type": "code",
      "metadata": {
        "id": "Nt5TqQEWNHdF",
        "colab": {
          "base_uri": "https://localhost:8080/"
        },
        "outputId": "22b4e877-014b-4b74-d800-7786ff062ebc"
      },
      "source": [
        "id(1)"
      ],
      "execution_count": 1,
      "outputs": [
        {
          "output_type": "execute_result",
          "data": {
            "text/plain": [
              "94719625988608"
            ]
          },
          "metadata": {
            "tags": []
          },
          "execution_count": 1
        }
      ]
    },
    {
      "cell_type": "markdown",
      "metadata": {
        "id": "y-J--BjZNHdT"
      },
      "source": [
        "Et avec la fonction `type`, nous pouvons obtenir le type de l'objet :\n"
      ]
    },
    {
      "cell_type": "code",
      "metadata": {
        "id": "mqhW5p1wNHdU",
        "colab": {
          "base_uri": "https://localhost:8080/"
        },
        "outputId": "cc6b5a6b-6d89-4779-f3ca-e15d9eb87f93"
      },
      "source": [
        "type(1)"
      ],
      "execution_count": 2,
      "outputs": [
        {
          "output_type": "execute_result",
          "data": {
            "text/plain": [
              "int"
            ]
          },
          "metadata": {
            "tags": []
          },
          "execution_count": 2
        }
      ]
    },
    {
      "cell_type": "markdown",
      "metadata": {
        "id": "L88CtZQTNHdb"
      },
      "source": [
        "Définissons maintenant une variable `a`, affectons-lui la valeur 1, et affichons-la :\n"
      ]
    },
    {
      "cell_type": "code",
      "metadata": {
        "id": "SDpCdZhmNHdd",
        "colab": {
          "base_uri": "https://localhost:8080/"
        },
        "outputId": "d111a0b2-84c9-4666-e158-9c0b226266c1"
      },
      "source": [
        "a = 1\n",
        "print(a)"
      ],
      "execution_count": 3,
      "outputs": [
        {
          "output_type": "stream",
          "text": [
            "1\n"
          ],
          "name": "stdout"
        }
      ]
    },
    {
      "cell_type": "markdown",
      "metadata": {
        "id": "AKEt5XwXNHdj"
      },
      "source": [
        "Dans un notebook jupyter, comme nous l'avons fait ci-dessus, appeler print n'est pas toujours nécessaire pour imprimer la valeur d'un objet. A la fin d'une cellule, il suffit d'évaluer l'objet comme ceci :\n"
      ]
    },
    {
      "cell_type": "code",
      "metadata": {
        "id": "uPS5-SDJNHdk",
        "colab": {
          "base_uri": "https://localhost:8080/"
        },
        "outputId": "52dfc7cf-e57a-434e-c4b4-9299ff3c504c"
      },
      "source": [
        "b = 2\n",
        "b\n",
        "a"
      ],
      "execution_count": 4,
      "outputs": [
        {
          "output_type": "execute_result",
          "data": {
            "text/plain": [
              "1"
            ]
          },
          "metadata": {
            "tags": []
          },
          "execution_count": 4
        }
      ]
    },
    {
      "cell_type": "markdown",
      "metadata": {
        "id": "GPoNk5QLNHdr"
      },
      "source": [
        "Mais dans un script python, ou si vous n'êtes pas à la fin d'une cellule du notebook, vous devrez utiliser `print`.\n",
        "\n",
        "Vous avez peut-être remarqué une grande différence par rapport aux autres langages, lorsque nous avons défini la variable « a » : nous n'avons pas eu à déclarer le type de la variable. En C++, par exemple, on taperait `int a = 1;`\n",
        "\n",
        "En python, le type d'une variable se déduit du type de l'objet qui lui est affecté, ici un entier. Donc `a` est de type `int` :\n"
      ]
    },
    {
      "cell_type": "code",
      "metadata": {
        "id": "X9MTZzhMNHds",
        "colab": {
          "base_uri": "https://localhost:8080/"
        },
        "outputId": "e76a4897-720a-45c4-a07e-3e122ad4f4a1"
      },
      "source": [
        "type(a)"
      ],
      "execution_count": 5,
      "outputs": [
        {
          "output_type": "execute_result",
          "data": {
            "text/plain": [
              "int"
            ]
          },
          "metadata": {
            "tags": []
          },
          "execution_count": 5
        }
      ]
    },
    {
      "cell_type": "markdown",
      "metadata": {
        "id": "3dPUZusQNHd0"
      },
      "source": [
        "Vérifions maintenant l'identifiant unique de `a` :\n",
        "\n"
      ]
    },
    {
      "cell_type": "code",
      "metadata": {
        "id": "11pov8AkNHd0",
        "colab": {
          "base_uri": "https://localhost:8080/"
        },
        "outputId": "f58ecfda-010e-42cf-ae58-39add1665424"
      },
      "source": [
        "id(a)"
      ],
      "execution_count": 6,
      "outputs": [
        {
          "output_type": "execute_result",
          "data": {
            "text/plain": [
              "94719625988608"
            ]
          },
          "metadata": {
            "tags": []
          },
          "execution_count": 6
        }
      ]
    },
    {
      "cell_type": "markdown",
      "metadata": {
        "id": "xJ7xWBDrNHd6"
      },
      "source": [
        "C'est l'identifiant de 1 ! Et c'est parce que `a` et `1` correspondent exactement au même objet en mémoire.\n",
        "\n",
        "----\n",
        "\n",
        "*Exercice:*\n",
        "\n",
        "Considérez ce code :\n",
        "\n",
        "```\n",
        "b = 1\n",
        "c = b\n",
        "```\n",
        "\n",
        "Pouvez-vous deviner quels seront les identifiants de « b » et « c » ?\n",
        "Vérifiez votre hypothèse dans la cellule ci-dessous :\n"
      ]
    },
    {
      "cell_type": "code",
      "metadata": {
        "id": "L5wby0s9NHd7"
      },
      "source": [
        "# write your code, and execute the cell with shift+enter"
      ],
      "execution_count": null,
      "outputs": []
    },
    {
      "cell_type": "markdown",
      "metadata": {
        "id": "l0Gav1vcNHeB"
      },
      "source": [
        "----\n"
      ]
    },
    {
      "cell_type": "markdown",
      "metadata": {
        "id": "yCzI7SyeNHeC"
      },
      "source": [
        "**Important:**\n",
        "\n",
        "En python, les variables sont appelées \"noms\" (\"names\"). \n",
        "\n",
        "Et le processus d'attribution d'une valeur à une variable est appelé « liaison de nom » (\"name binding\"). En d'autres termes, vous pouvez voir une variable comme une étiquette attachée à un objet.\n",
        "\n",
        "Lorsque nous faisons `a=1`, nous attachons l'étiquette `a` à l'entier `1`. Si vous attachez une autre étiquette à `1`, le même objet porte maintenant deux étiquettes. Lorsque nous procédons comme suit, nous déplaçons simplement l'étiquette `a` de `1` à `2` :\n"
      ]
    },
    {
      "cell_type": "code",
      "metadata": {
        "id": "-05ih5XFNHeD"
      },
      "source": [
        "a = 1 \n",
        "a = 2"
      ],
      "execution_count": null,
      "outputs": []
    },
    {
      "cell_type": "markdown",
      "metadata": {
        "id": "MY1muCp4NHeI"
      },
      "source": [
        "**Même si ça semble évident, ne l'oubliez pas, car cela peut conduire à de nombreux malentendus, comme nous le verrons plus tard, dans la section sur les boucles.**\n"
      ]
    },
    {
      "cell_type": "markdown",
      "metadata": {
        "id": "RWH3PO1HNHeJ"
      },
      "source": [
        "## Conditions\n",
        "\n",
        "Très souvent, vous devrez prendre des décisions dans vos programmes, en fonction de la situation. Voici un exemple.\n"
      ]
    },
    {
      "cell_type": "code",
      "metadata": {
        "id": "vnJh1I7LNHeL",
        "colab": {
          "base_uri": "https://localhost:8080/"
        },
        "outputId": "80fa41e2-765c-4dda-da61-7ae72dd99e5e"
      },
      "source": [
        "do_great_the_world = True\n",
        "if do_great_the_world: \n",
        "    print('hello_world')\n",
        "else: \n",
        "    print('get lost')"
      ],
      "execution_count": 7,
      "outputs": [
        {
          "output_type": "stream",
          "text": [
            "hello_world\n"
          ],
          "name": "stdout"
        }
      ]
    },
    {
      "cell_type": "markdown",
      "metadata": {
        "id": "608NF_GHNHeR"
      },
      "source": [
        "Transformez maintenant `do_great_the_world` en `False` et réexécutez la cellule. Ça y est, vous savez faire de l'exécution conditionnelle.\n"
      ]
    },
    {
      "cell_type": "markdown",
      "metadata": {
        "id": "N5GCnxPvNHeS"
      },
      "source": [
        "## À propos de l'indentation du code\n",
        "\n",
        "En python, les indentations sont importantes, et ne sont pas seulement là pour rendre le code lisible et joli. Lorsque vous indentez le code (utilisez simplement la tabulation pour cela), vous spécifiez que vous créez un contexte imbriqué. Par exemple, dans le code ci-dessus, la ligne `print('hello_world')` est &quot;sous&quot; la condition if et ne sera exécutée que si `do_great_the_world` est vrai.\n",
        "\n",
        "Dans la plupart des autres langages, cependant, les contextes sont entourés de séparateurs, comme '{}' en C++. Les personnes venant de ces autres langages n'aiment souvent pas être obligées de mettre en retrait. \n",
        "\n",
        "Mais si vous vous lancez dans python, vous vous rendrez compte que :\n",
        "\n",
        "* ne mettre aucun séparateur permet une saisie plus rapide et plus facile\n",
        "* si les gens n'indentent pas, le code ne fonctionnera pas, vous n'aurez donc plus à perdre de temps à essayer de comprendre le code non indenté d'autres personnes.\n",
        "* Les éditeurs de texte et en particulier les IDE rendent très facile et naturel l'indentation : souvent, l'éditeur indentera automatiquement, et sinon il vous suffit d'appuyer sur la tabulation (ou sur shift+tab pour revenir en arrière) pour indenter le bloc de texte sélectionné. \n"
      ]
    },
    {
      "cell_type": "markdown",
      "metadata": {
        "id": "Lfodf-39NHeT"
      },
      "source": [
        "## Boucles\n",
        "\n",
        "Les boucles permettent de répéter plusieurs fois une opération. C'est généralement à cela que servent les programmes, nous devons donc apprendre à le faire.\n",
        "\n",
        "Tout d'abord, nous devons définir quelque chose sur lequel nous pouvons boucler, c'est à dire un *itérable*. Une *liste* est un itérable, et en voici une :\n",
        "\n"
      ]
    },
    {
      "cell_type": "code",
      "metadata": {
        "id": "TCcamyG4NHeU",
        "colab": {
          "base_uri": "https://localhost:8080/"
        },
        "outputId": "8b4eb338-a924-49a2-f6e1-a81544fb8ab3"
      },
      "source": [
        "a = [1, 2, 3, 4]\n",
        "print(a)"
      ],
      "execution_count": 8,
      "outputs": [
        {
          "output_type": "stream",
          "text": [
            "[1, 2, 3, 4]\n"
          ],
          "name": "stdout"
        }
      ]
    },
    {
      "cell_type": "markdown",
      "metadata": {
        "id": "XU4347GoNHeb"
      },
      "source": [
        "Notez comme la fonction d'impression s'adapte à l'objet imprimé. Vous pouvez l'essayer sur n'importe quel type d'objet, et vous obtiendrez généralement un bon résultat.\n",
        "\n",
        "Maintenant, écrivons une boucle pour calculer les carrés de toutes les valeurs de la liste, et pour sommer ces carrés :\n"
      ]
    },
    {
      "cell_type": "code",
      "metadata": {
        "id": "lpHzJhcxNHec",
        "colab": {
          "base_uri": "https://localhost:8080/"
        },
        "outputId": "9f3485d5-e3df-4b25-8bd6-76e00bde369f"
      },
      "source": [
        "squares = []\n",
        "sumsq = 0\n",
        "for x in a: \n",
        "    x2 = x**2\n",
        "    squares.append(x2)\n",
        "    sumsq += x2\n",
        "print(squares)\n",
        "print(sumsq)"
      ],
      "execution_count": 9,
      "outputs": [
        {
          "output_type": "stream",
          "text": [
            "[1, 4, 9, 16]\n",
            "30\n"
          ],
          "name": "stdout"
        }
      ]
    },
    {
      "cell_type": "markdown",
      "metadata": {
        "id": "yv8RxiSCNHeh"
      },
      "source": [
        "Ce que vous savez à ce stade sur les boucles est probablement suffisant dans la plupart des programmes, mais nous allons jeter un œil à quelques raccourcis syntaxiques.\n",
        "\n",
        "Vous pouvez boucler de manière très compacte en utilisant les compréhensions de listes : \n"
      ]
    },
    {
      "cell_type": "code",
      "metadata": {
        "id": "SyG5Bc8SNHei",
        "colab": {
          "base_uri": "https://localhost:8080/"
        },
        "outputId": "3733454a-cd66-4fb0-a6da-a95da1149401"
      },
      "source": [
        "squares = [x**2 for x in a]\n",
        "squares"
      ],
      "execution_count": 10,
      "outputs": [
        {
          "output_type": "execute_result",
          "data": {
            "text/plain": [
              "[1, 4, 9, 16]"
            ]
          },
          "metadata": {
            "tags": []
          },
          "execution_count": 10
        }
      ]
    },
    {
      "cell_type": "markdown",
      "metadata": {
        "id": "pTsap3BzNHem"
      },
      "source": [
        "Cela peut être pratique, et vous rencontrerez très souvent ce genre de constructions. Mais n'en abusez pas. Les débutants ont souvent tendance à utiliser plusieurs compréhensions de liste pour calculer différentes valeurs à partir du même itérable, par exemple :\n"
      ]
    },
    {
      "cell_type": "code",
      "metadata": {
        "id": "ZHZmCfHmNHen",
        "colab": {
          "base_uri": "https://localhost:8080/",
          "height": 52
        },
        "outputId": "eb909de8-5e88-4ae1-d1f3-ac643705a205"
      },
      "source": [
        "squares = [x**2 for x in a]\n",
        "cubes = [x**3 for x in a]\n",
        "print(squares)\n",
        "print(cubes)"
      ],
      "execution_count": null,
      "outputs": [
        {
          "output_type": "stream",
          "text": [
            "[1, 4, 9, 16]\n",
            "[1, 8, 27, 64]\n"
          ],
          "name": "stdout"
        }
      ]
    },
    {
      "cell_type": "markdown",
      "metadata": {
        "id": "iLagCovONHer"
      },
      "source": [
        "**Mais ce n'est ni élégant ni efficace. Si vous devez calculer plusieurs choses à partir du même itérable, utilisez une construction de boucle standard pour économiser du temps CPU et faire plus pro.**\n"
      ]
    },
    {
      "cell_type": "markdown",
      "metadata": {
        "id": "oPfDiX96NHev"
      },
      "source": [
        "Souvent, vous devez obtenir les valeurs de l'itérable, ainsi que l'index auquel la valeur est stockée. Pour cela, utilisez `enumerate` :\n"
      ]
    },
    {
      "cell_type": "code",
      "metadata": {
        "id": "7fHdSJf9NHew",
        "colab": {
          "base_uri": "https://localhost:8080/"
        },
        "outputId": "80d28a0d-6ac7-4b39-cedf-d27600512c9d"
      },
      "source": [
        "for i, x in enumerate(a): \n",
        "    print(i, x)"
      ],
      "execution_count": 11,
      "outputs": [
        {
          "output_type": "stream",
          "text": [
            "0 1\n",
            "1 2\n",
            "2 3\n",
            "3 4\n"
          ],
          "name": "stdout"
        }
      ]
    },
    {
      "cell_type": "markdown",
      "metadata": {
        "id": "1-lEQVLrNHe0"
      },
      "source": [
        "---\n",
        "\n",
        "**Exercice**\n",
        "\n",
        "Revenons à la liaison de noms dans le contexte des boucles. Dans le code ci-dessous, on boucle sur une liste, et on essaie d'ajouter 1 à tous les éléments de la liste, mais ça ne marche pas... comprenez-vous pourquoi ?\n"
      ]
    },
    {
      "cell_type": "code",
      "metadata": {
        "id": "_F58RAq6NHe1",
        "colab": {
          "base_uri": "https://localhost:8080/"
        },
        "outputId": "9d43bfa6-5077-408f-e6c0-67e43650663b"
      },
      "source": [
        "lst = list(range(5))\n",
        "print(lst)\n",
        "for x in lst:\n",
        "    x += 1\n",
        "print(lst)"
      ],
      "execution_count": 12,
      "outputs": [
        {
          "output_type": "stream",
          "text": [
            "[0, 1, 2, 3, 4]\n",
            "[0, 1, 2, 3, 4]\n"
          ],
          "name": "stdout"
        }
      ]
    },
    {
      "cell_type": "markdown",
      "metadata": {
        "id": "WSE_fl3HNHe5"
      },
      "source": [
        "---\n"
      ]
    },
    {
      "cell_type": "markdown",
      "metadata": {
        "id": "MjjLzSz2NHe6"
      },
      "source": [
        "## Entrée et sortie de base\n",
        "\n",
        "Pour la science des données, et surtout si les données commencent à devenir volumineuses, nous utiliserons des bibliothèques spécifiques pour lire les fichiers de données.\n",
        "\n",
        "Vous verrez ça plus tard lorsque vous commencerez à utiliser des bibliothèques de science des données telles que `numpy` ou `pandas`.\n",
        "\n",
        "Ici, vous apprendrez simplement à lire et à écrire des fichiers texte de base.\n",
        "\n",
        "Écrivez dans un fichier texte en faisant :\n"
      ]
    },
    {
      "cell_type": "code",
      "metadata": {
        "id": "-9m5PRsgNHe7"
      },
      "source": [
        "a = [1, 2, 3, 4]\n",
        "fname = 'myfile.txt'\n",
        "# 'w' means that the file is opened in write mode\n",
        "with open(fname, 'w') as out_file: \n",
        "    for i in a: \n",
        "        # we convert our integers to strings, \n",
        "        # and we write one integer per line\n",
        "        # note that we need to add a newline \n",
        "        # character manually to the string,\n",
        "        # which just contains the number\n",
        "        out_file.write(str(i) + '\\n')"
      ],
      "execution_count": 13,
      "outputs": []
    },
    {
      "cell_type": "markdown",
      "metadata": {
        "id": "TcHEm2w0NHe_"
      },
      "source": [
        "Vous pouvez vérifier le contenu du fichier avec une fonction shell (le `!` informe le notebook jupyter qu'il s'agit d'une fonction shell) :\n"
      ]
    },
    {
      "cell_type": "code",
      "metadata": {
        "id": "BWx6T9A6NHe_",
        "colab": {
          "base_uri": "https://localhost:8080/"
        },
        "outputId": "1a122027-e6d2-498c-e98c-6df0239f9692"
      },
      "source": [
        "! cat myfile.txt"
      ],
      "execution_count": 14,
      "outputs": [
        {
          "output_type": "stream",
          "text": [
            "1\n",
            "2\n",
            "3\n",
            "4\n"
          ],
          "name": "stdout"
        }
      ]
    },
    {
      "cell_type": "markdown",
      "metadata": {
        "id": "e9lcfJRhNHfD"
      },
      "source": [
        "Et maintenant vous pouvez relire le fichier :\n"
      ]
    },
    {
      "cell_type": "code",
      "metadata": {
        "id": "4SyslknQNHfE",
        "colab": {
          "base_uri": "https://localhost:8080/"
        },
        "outputId": "88bcb9a8-7bc8-43a0-fa76-205df6e9c36b"
      },
      "source": [
        "with open(fname) as in_file: \n",
        "    for line in in_file: \n",
        "        # we remove the trailing '\\n':\n",
        "        line = line.strip()\n",
        "        print(line)"
      ],
      "execution_count": 15,
      "outputs": [
        {
          "output_type": "stream",
          "text": [
            "1\n",
            "2\n",
            "3\n",
            "4\n"
          ],
          "name": "stdout"
        }
      ]
    },
    {
      "cell_type": "markdown",
      "metadata": {
        "id": "T7PFZrlONHfI"
      },
      "source": [
        "Dans le cas de l'écriture et de la lecture, nous avons utilisé l'instruction `with`. Cette instruction garantit que le fichier n'est actif que dans le contexte de `with`. Lorsque le programme sort du contexte, le fichier se ferme automatiquement.\n",
        "\n",
        "Il est important de s'assurer que les fichiers sont fermés lorsqu'ils ne sont plus nécessaires, donc :\n",
        "\n",
        "**Toujours utiliser l'instruction with pour ouvrir les fichiers !**\n"
      ]
    },
    {
      "cell_type": "markdown",
      "metadata": {
        "id": "hIMAfQYQNHfJ"
      },
      "source": [
        "## Les fonctions\n",
        "\n",
        "Voici une fonction basique, qui ne prend aucun argument (elle n'a pas de paramètres) :\n"
      ]
    },
    {
      "cell_type": "code",
      "metadata": {
        "id": "UmgbQY6GNHfK",
        "colab": {
          "base_uri": "https://localhost:8080/"
        },
        "outputId": "3de85e6b-1fe9-4b95-e240-d4e295d81bb2"
      },
      "source": [
        "def say_hello():\n",
        "    print('hello world!')\n",
        "    \n",
        "say_hello()"
      ],
      "execution_count": 16,
      "outputs": [
        {
          "output_type": "stream",
          "text": [
            "hello world!\n"
          ],
          "name": "stdout"
        }
      ]
    },
    {
      "cell_type": "markdown",
      "metadata": {
        "id": "pI9GWTJfNHfO"
      },
      "source": [
        "Pour ajouter des paramètres, il suffit de les spécifier dans la définition de la fonction :\n"
      ]
    },
    {
      "cell_type": "code",
      "metadata": {
        "id": "-MZHHOqONHfP",
        "colab": {
          "base_uri": "https://localhost:8080/"
        },
        "outputId": "6c4d50fb-6ba3-43d7-ccb2-786a308a6d62"
      },
      "source": [
        "def say_hello(somebody):\n",
        "    print(f'hello {somebody}')\n",
        "    \n",
        "say_hello('world')\n",
        "say_hello('colin')"
      ],
      "execution_count": 17,
      "outputs": [
        {
          "output_type": "stream",
          "text": [
            "hello world\n",
            "hello colin\n"
          ],
          "name": "stdout"
        }
      ]
    },
    {
      "cell_type": "markdown",
      "metadata": {
        "id": "znZZtI--NHfT"
      },
      "source": [
        "Vous pouvez ajouter n'importe quel paramètre dont vous avez besoin, en les séparant par des virgules :\n"
      ]
    },
    {
      "cell_type": "code",
      "metadata": {
        "id": "2MVC4dw6NHfU",
        "colab": {
          "base_uri": "https://localhost:8080/"
        },
        "outputId": "5ce2f316-b550-4304-ddb6-813fa6f6e77f"
      },
      "source": [
        "def say_hello(a, b): \n",
        "    all_people = f'{a} and {b}'\n",
        "    print(f'hello {all_people}')\n",
        "    \n",
        "say_hello('asterix', 'obelix')"
      ],
      "execution_count": 19,
      "outputs": [
        {
          "output_type": "stream",
          "text": [
            "hello asterix and obelix\n"
          ],
          "name": "stdout"
        }
      ]
    },
    {
      "cell_type": "markdown",
      "metadata": {
        "id": "go1RawcTNHfX"
      },
      "source": [
        "Les fonctions peuvent également renvoyer des objets. Souvent un seul objet (peut-être une liste) ou un tuple d'objets. Pour ce faire, utilisez l'instruction return :\n"
      ]
    },
    {
      "cell_type": "code",
      "metadata": {
        "id": "dzn5uMXtNHfY",
        "colab": {
          "base_uri": "https://localhost:8080/"
        },
        "outputId": "856023f7-e527-4b37-dcd2-cf49cbfea804"
      },
      "source": [
        "def square(x):\n",
        "    return x**2\n",
        "\n",
        "square(2)"
      ],
      "execution_count": 20,
      "outputs": [
        {
          "output_type": "execute_result",
          "data": {
            "text/plain": [
              "4"
            ]
          },
          "metadata": {
            "tags": []
          },
          "execution_count": 20
        }
      ]
    },
    {
      "cell_type": "code",
      "metadata": {
        "id": "KtSOJu_KNHfc",
        "colab": {
          "base_uri": "https://localhost:8080/"
        },
        "outputId": "4c7a6d93-23eb-46a7-87eb-a99a3e30743b"
      },
      "source": [
        "import random\n",
        "\n",
        "def random_point():\n",
        "    return random.random(), random.random()\n",
        "\n",
        "random_point()"
      ],
      "execution_count": 21,
      "outputs": [
        {
          "output_type": "execute_result",
          "data": {
            "text/plain": [
              "(0.7366457555082949, 0.6557379764330106)"
            ]
          },
          "metadata": {
            "tags": []
          },
          "execution_count": 21
        }
      ]
    },
    {
      "cell_type": "markdown",
      "metadata": {
        "id": "FIqIrpMsNHfg"
      },
      "source": [
        "Vous pouvez définir des valeurs par défaut pour les arguments, comme ceci :\n"
      ]
    },
    {
      "cell_type": "code",
      "metadata": {
        "id": "z7pLuBq7NHfg",
        "colab": {
          "base_uri": "https://localhost:8080/"
        },
        "outputId": "3ef88dee-0a4e-4f96-89f7-189a98181a82"
      },
      "source": [
        "def say_hello(a='world'):\n",
        "    print('hello {}'.format(a))\n",
        "\n",
        "say_hello('colin')\n",
        "say_hello()"
      ],
      "execution_count": 22,
      "outputs": [
        {
          "output_type": "stream",
          "text": [
            "hello colin\n",
            "hello world\n"
          ],
          "name": "stdout"
        }
      ]
    },
    {
      "cell_type": "markdown",
      "metadata": {
        "id": "RpBjMJLSNHfj"
      },
      "source": [
        "Enfin, les fonctions peuvent soit prendre des arguments positionnels soit des arguments par mots-clefs. Les arguments par mots-clefs doivent être fournis après tous les arguments positionnels. Par example:\n"
      ]
    },
    {
      "cell_type": "code",
      "metadata": {
        "id": "jfuhp476NHfk",
        "colab": {
          "base_uri": "https://localhost:8080/"
        },
        "outputId": "20c4ad9a-d1da-4c83-cd02-8ecb6ef0c3f4"
      },
      "source": [
        "def say_hello(greeting, person='laurel', another_person='hardy'):\n",
        "    print('{greeting} {person} and {another}'.format(\n",
        "        greeting=greeting,\n",
        "        person=person,\n",
        "        another=another_person\n",
        "        )\n",
        "    )\n",
        "    \n",
        "say_hello('hi', another_person='colin')"
      ],
      "execution_count": 23,
      "outputs": [
        {
          "output_type": "stream",
          "text": [
            "hi laurel and colin\n"
          ],
          "name": "stdout"
        }
      ]
    },
    {
      "cell_type": "markdown",
      "metadata": {
        "id": "l47uq1pKNHfn"
      },
      "source": [
        "Dans cet exemple, `hi` est un argument positionnel et `person` est un argument par mot-clef.\n",
        "\n",
        "Bien entendu, les arguments positionnels sont à donner dans le bon ordre ! \n",
        "\n",
        "Les arguments par mots-clés sont intéressants car \n",
        "\n",
        "* ils permettent de spécifier uniquement certains des arguments qui ont une valeur par défaut.\n",
        "* ils sont plus explicites : de l'extérieur de la fonction, on comprend à quoi sert l'argument ;  \n"
      ]
    },
    {
      "cell_type": "markdown",
      "metadata": {
        "id": "qwE0kufRNHfn"
      },
      "source": [
        "## Structures de données python\n"
      ]
    },
    {
      "cell_type": "markdown",
      "metadata": {
        "id": "6vzhCLIcNHfo"
      },
      "source": [
        "### Listes\n",
        "\n",
        "La structure de données la plus utilisée en python est certainement la liste.\n",
        "\n",
        "Dans l'exemple suivant, nous illustrons quelques opérations de liste très courantes :\n"
      ]
    },
    {
      "cell_type": "code",
      "metadata": {
        "id": "k-q6Q-jMNHfp",
        "colab": {
          "base_uri": "https://localhost:8080/"
        },
        "outputId": "6f34cecc-d76b-4675-f24e-fa9d6965a374"
      },
      "source": [
        "# create the list, using square brackets\n",
        "data = ['a', 0, 1, 'b']\n",
        "# append a single element at the end\n",
        "data.append('c')\n",
        "# extend the list with the contents of another list \n",
        "data.extend([2, 3])\n",
        "# print the list length\n",
        "print('data size', len(data))\n",
        "# iterate on the list\n",
        "for elem in data: \n",
        "    print(elem)"
      ],
      "execution_count": 24,
      "outputs": [
        {
          "output_type": "stream",
          "text": [
            "data size 7\n",
            "a\n",
            "0\n",
            "1\n",
            "b\n",
            "c\n",
            "2\n",
            "3\n"
          ],
          "name": "stdout"
        }
      ]
    },
    {
      "cell_type": "markdown",
      "metadata": {
        "id": "ExQjOKxgNHfs"
      },
      "source": [
        "### Tuples\n",
        "\n",
        "Les tuples sont très similaires aux listes. La différence entre les deux est que les listes sont **mutables**, tandis que les tuples sont **immuables**. Cela signifie que nous pouvons modifier une liste (comme nous l'avons fait lorsque nous avons ajouté des éléments à notre liste de données ci-dessus), mais nous ne pouvons pas modifier un tuple.\n",
        "\n",
        "Dans l'exemple suivant, nous créons un tuple, l'imprimons et essayons d'y ajouter des éléments :  \n"
      ]
    },
    {
      "cell_type": "code",
      "metadata": {
        "id": "LWgBR2TrNHfs",
        "colab": {
          "base_uri": "https://localhost:8080/",
          "height": 215
        },
        "outputId": "48f33754-527b-492d-c7bb-138208b7926e"
      },
      "source": [
        "# create a tuple, using parentheses\n",
        "tup = (0, 1)\n",
        "print('length:', len(tup), 'elements:', tup)\n",
        "tup.append(2)"
      ],
      "execution_count": 25,
      "outputs": [
        {
          "output_type": "stream",
          "text": [
            "length: 2 elements: (0, 1)\n"
          ],
          "name": "stdout"
        },
        {
          "output_type": "error",
          "ename": "AttributeError",
          "evalue": "ignored",
          "traceback": [
            "\u001b[0;31m---------------------------------------------------------------------------\u001b[0m",
            "\u001b[0;31mAttributeError\u001b[0m                            Traceback (most recent call last)",
            "\u001b[0;32m<ipython-input-25-c72b34954c76>\u001b[0m in \u001b[0;36m<module>\u001b[0;34m()\u001b[0m\n\u001b[1;32m      2\u001b[0m \u001b[0mtup\u001b[0m \u001b[0;34m=\u001b[0m \u001b[0;34m(\u001b[0m\u001b[0;36m0\u001b[0m\u001b[0;34m,\u001b[0m \u001b[0;36m1\u001b[0m\u001b[0;34m)\u001b[0m\u001b[0;34m\u001b[0m\u001b[0;34m\u001b[0m\u001b[0m\n\u001b[1;32m      3\u001b[0m \u001b[0mprint\u001b[0m\u001b[0;34m(\u001b[0m\u001b[0;34m'length:'\u001b[0m\u001b[0;34m,\u001b[0m \u001b[0mlen\u001b[0m\u001b[0;34m(\u001b[0m\u001b[0mtup\u001b[0m\u001b[0;34m)\u001b[0m\u001b[0;34m,\u001b[0m \u001b[0;34m'elements:'\u001b[0m\u001b[0;34m,\u001b[0m \u001b[0mtup\u001b[0m\u001b[0;34m)\u001b[0m\u001b[0;34m\u001b[0m\u001b[0;34m\u001b[0m\u001b[0m\n\u001b[0;32m----> 4\u001b[0;31m \u001b[0mtup\u001b[0m\u001b[0;34m.\u001b[0m\u001b[0mappend\u001b[0m\u001b[0;34m(\u001b[0m\u001b[0;36m2\u001b[0m\u001b[0;34m)\u001b[0m\u001b[0;34m\u001b[0m\u001b[0;34m\u001b[0m\u001b[0m\n\u001b[0m",
            "\u001b[0;31mAttributeError\u001b[0m: 'tuple' object has no attribute 'append'"
          ]
        }
      ]
    },
    {
      "cell_type": "markdown",
      "metadata": {
        "id": "FQYpdkzONHfw"
      },
      "source": [
        "Bien sûr, cela échoue car le tuple est immuable. Cela peut sembler être un gros inconvénient des tuples. \n",
        "\n",
        "Mais ce n'est pas le cas ! Ce serait trop long d'expliquer pourquoi, et je me contenterai de vous donner une recommandation :\n",
        "\n",
        "**si vous devez définir une séquence qui ne doit pas ou ne sera pas modifiée, utilisez un tuple.**\n",
        "\n",
        "Cela facilitera le débogage de votre code et le rendra plus efficace en termes de mémoire.\n",
        "\n",
        "Enfin, un mot sur l'affectation des tuples. Il est possible de créer un tuple en empaquetant des valeurs comme nous l'avons fait ci-dessus. Et en fait on peut omettre les parenthèses :\n"
      ]
    },
    {
      "cell_type": "code",
      "metadata": {
        "id": "hkGYWttFNHfx",
        "colab": {
          "base_uri": "https://localhost:8080/"
        },
        "outputId": "626fd2c3-432a-4be6-e620-9989cdcef858"
      },
      "source": [
        "tup = 0, 1\n",
        "tup"
      ],
      "execution_count": 26,
      "outputs": [
        {
          "output_type": "execute_result",
          "data": {
            "text/plain": [
              "(0, 1)"
            ]
          },
          "metadata": {
            "tags": []
          },
          "execution_count": 26
        }
      ]
    },
    {
      "cell_type": "markdown",
      "metadata": {
        "id": "kcOe51b2NHf0"
      },
      "source": [
        "Et nous pouvons aussi déballer le tuple :\n"
      ]
    },
    {
      "cell_type": "code",
      "metadata": {
        "id": "i9uQdc2NNHf1",
        "colab": {
          "base_uri": "https://localhost:8080/"
        },
        "outputId": "dbc3d0a6-f25e-4d11-ceb4-21b060b1a6da"
      },
      "source": [
        "x, y = tup\n",
        "print(x, y)"
      ],
      "execution_count": 27,
      "outputs": [
        {
          "output_type": "stream",
          "text": [
            "0 1\n"
          ],
          "name": "stdout"
        }
      ]
    },
    {
      "cell_type": "markdown",
      "metadata": {
        "id": "N47r_W10NHf3"
      },
      "source": [
        "En faisant l'empaquetage et le déballage en même temps, nous pouvons **initialiser plusieurs variables en une seule commande** :\n"
      ]
    },
    {
      "cell_type": "code",
      "metadata": {
        "id": "iHDD22AINHf4",
        "colab": {
          "base_uri": "https://localhost:8080/"
        },
        "outputId": "a69b6aca-b5ac-4798-eaee-27c58dccdee4"
      },
      "source": [
        "x, y = 0, 1\n",
        "print(x, y)"
      ],
      "execution_count": 28,
      "outputs": [
        {
          "output_type": "stream",
          "text": [
            "0 1\n"
          ],
          "name": "stdout"
        }
      ]
    },
    {
      "cell_type": "markdown",
      "metadata": {
        "id": "qrsO4qRINHf6"
      },
      "source": [
        "### Dictionnaires\n",
        "\n",
        "Les dictionnaires sont très différents des listes et des tuples. Ce sont des structures de données **mutables** et **mappables**. Cela signifie que les dictionnaires contiennent des éléments constitués d'un mappage **clé** / **valeur**, et que nous pouvons modifier les dictionnaires existants. \n",
        "\n",
        "En voici un : "
      ]
    },
    {
      "cell_type": "code",
      "metadata": {
        "id": "rJW31I6aNHf7",
        "colab": {
          "base_uri": "https://localhost:8080/"
        },
        "outputId": "a501cab5-eb83-4930-fbfc-39d685b39262"
      },
      "source": [
        "data = {\n",
        "    'x': 1,\n",
        "    'y': 2\n",
        "}\n",
        "\n",
        "data"
      ],
      "execution_count": 29,
      "outputs": [
        {
          "output_type": "execute_result",
          "data": {
            "text/plain": [
              "{'x': 1, 'y': 2}"
            ]
          },
          "metadata": {
            "tags": []
          },
          "execution_count": 29
        }
      ]
    },
    {
      "cell_type": "markdown",
      "metadata": {
        "id": "3NaUkxLgNHf-"
      },
      "source": [
        "On peut ajouter des éléments (ou modifier la valeur des clés existantes !) comme ceci :\n"
      ]
    },
    {
      "cell_type": "code",
      "metadata": {
        "id": "-oRmFoXONHf-",
        "colab": {
          "base_uri": "https://localhost:8080/"
        },
        "outputId": "dcac78e5-b0de-476f-d5d2-bb4d995c27a3"
      },
      "source": [
        "data['x'] = 0\n",
        "data['z'] = 3\n",
        "data"
      ],
      "execution_count": 30,
      "outputs": [
        {
          "output_type": "execute_result",
          "data": {
            "text/plain": [
              "{'x': 0, 'y': 2, 'z': 3}"
            ]
          },
          "metadata": {
            "tags": []
          },
          "execution_count": 30
        }
      ]
    },
    {
      "cell_type": "markdown",
      "metadata": {
        "id": "65Cex1vBNHgA"
      },
      "source": [
        "Et nous pouvons accéder à la valeur d'une clé comme ça :\n"
      ]
    },
    {
      "cell_type": "code",
      "metadata": {
        "id": "FRjFgYyDNHgA",
        "colab": {
          "base_uri": "https://localhost:8080/"
        },
        "outputId": "844ef20e-805b-4dde-d1aa-6269f5694378"
      },
      "source": [
        "data['x']"
      ],
      "execution_count": 31,
      "outputs": [
        {
          "output_type": "execute_result",
          "data": {
            "text/plain": [
              "0"
            ]
          },
          "metadata": {
            "tags": []
          },
          "execution_count": 31
        }
      ]
    },
    {
      "cell_type": "markdown",
      "metadata": {
        "id": "6H5JLjZtNHgE"
      },
      "source": [
        "Les programmeurs Python utilisent souvent des dictionnaires (ou des listes de dictionnaires) pour garder une trace de leurs données. Par exemple, pour un annuaire téléphonique :\n"
      ]
    },
    {
      "cell_type": "code",
      "metadata": {
        "id": "_WzxTE_PNHgE",
        "colab": {
          "base_uri": "https://localhost:8080/"
        },
        "outputId": "9cab7b55-a182-4fd4-c037-3d51543d7e99"
      },
      "source": [
        "[\n",
        "    {'first_name':'john',\n",
        "     'last_name':'smith',\n",
        "     'phone': 1234567 \n",
        "    },\n",
        "    {'first_name':'john',\n",
        "     'last_name':'goodman',\n",
        "     'phone': 7654321    \n",
        "    },\n",
        "    {'first_name':'will',\n",
        "     'last_name':'smith',\n",
        "     'phone': 1234851,     \n",
        "    } \n",
        "]"
      ],
      "execution_count": 32,
      "outputs": [
        {
          "output_type": "execute_result",
          "data": {
            "text/plain": [
              "[{'first_name': 'john', 'last_name': 'smith', 'phone': 1234567},\n",
              " {'first_name': 'john', 'last_name': 'goodman', 'phone': 7654321},\n",
              " {'first_name': 'will', 'last_name': 'smith', 'phone': 1234851}]"
            ]
          },
          "metadata": {
            "tags": []
          },
          "execution_count": 32
        }
      ]
    },
    {
      "cell_type": "markdown",
      "metadata": {
        "id": "_6Psh7-qNHgU"
      },
      "source": [
        "### Liste ou dictionnaire ?\n"
      ]
    },
    {
      "cell_type": "markdown",
      "metadata": {
        "id": "kHcLCHjtNHgV"
      },
      "source": [
        "Au début, décider quel conteneur utiliser peut ne pas être facile. Gardez donc à l'esprit les faits suivants :\n",
        "\n",
        "**Listes:**\n",
        "\n",
        "* séquentiel, signifiant que les éléments sont disposés dans un ordre donné ; \n",
        "* peut être trié ;\n",
        "* fournir un accès très rapide à un élément lorsque son indice est connu, avec une complexité O(1)\n",
        "* vérifier si un élément est dans une liste est de complexité O(n), donc le temps nécessaire évolue linéairement avec le nombre d'éléments dans la liste\n",
        "\n",
        "**Dictionnaires :**\n",
        "\n",
        "* fournir un accès très rapide à un élément lorsque sa clé est connue, avec une complexité O(1)\n",
        "* vérifier si une clé est dans le dictionnaire est de complexité O(1).\n",
        "* pour python &lt; 3.6, les dictionnaires sont intrinsèquement non triés. Pour python 3.6, l'ordre d'insertion des éléments est conservé dans *certaines* implémentations de python. Pour python &gt;= 3.7, l'ordre d'insertion est toujours conservé.\n",
        "---\n",
        "\n",
        "**Exercice**\n",
        "\n",
        "Dans les cas suivants, utiliseriez-vous une liste, un dictionnaire, une liste de tuples ? Si vous utilisez une liste, quels éléments stockeriez-vous ? Si vous utilisez un dictionnaire, quelle clé et valeur stockeriez-vous ?\n",
        "\n",
        "* tracer des points de données (x, y). Dans quelle structure de données stockeriez-vous vos points avant de tracer ?\n",
        "* considérer l'annuaire téléphonique ci-dessus. Quelle serait la complexité pour trouver l'information pour une personne donnée ? Comment amélioreriez-vous le répertoire pour rendre la recherche très rapide ?\n",
        "\n",
        "---\n"
      ]
    },
    {
      "cell_type": "markdown",
      "metadata": {
        "id": "GHI6zBrPNHgW"
      },
      "source": [
        "## Le zen de python\n",
        "\n",
        "Python est un langage extrêmement flexible.\n",
        "\n",
        "Par exemple, vous pouvez opter pour une programmation orientée objet ou entièrement fonctionnelle, ou opter pour une approche hybride. Et si vous décidez de faire de la programmation orientée objet, par exemple, il y a plusieurs façons de le faire...\n",
        "\n",
        "En fait, lorsque vous aurez besoin de faire quelque chose avec python, vous constaterez certainement que le plus difficile est de choisir comment le faire.\n",
        "\n",
        "En cas de doute, suivez le Zen of Python ([PEP20](https://www.python.org/dev/peps/pep-0020/)) :\n",
        "\n",
        "* Beau vaut mieux que laid.\n",
        "* Explicite vaut mieux qu'implicite.\n",
        "* Simple vaut mieux que complexe.\n",
        "* Complexe vaut mieux que compliqué.\n",
        "* Plat est mieux que imbriqué.\n",
        "* Clairsemé vaut mieux que dense.\n",
        "* La lisibilité compte.\n",
        "* Les cas spéciaux ne sont pas assez spéciaux pour enfreindre les règles.\n",
        "* Bien que la praticité bat la pureté.\n",
        "* Les erreurs ne doivent jamais passer en silence.\n",
        "* Sauf si explicitement réduit au silence.\n",
        "* Face à l'ambiguïté, refusez la tentation de deviner.\n",
        "* Il devrait y avoir une - et de préférence une seule - manière évidente de le faire.\n",
        "* Bien que cela ne soit pas évident au début, à moins que vous ne soyez néerlandais.\n",
        "* Mieux vaut maintenant que jamais.\n",
        "* Bien que jamais ne soit souvent mieux que *en ce moment*.\n",
        "* Si la mise en œuvre est difficile à expliquer, c'est une mauvaise idée.\n",
        "* Si la mise en œuvre est facile à expliquer, cela peut être une bonne idée.\n",
        "* Les espaces de noms sont une excellente idée - faisons-en plus !\n",
        "\n",
        "Et pour ce qui est du style du code, suivez les recommendations de [PEP8!](https://www.python.org/dev/peps/pep-0008/).\n"
      ]
    }
  ]
}