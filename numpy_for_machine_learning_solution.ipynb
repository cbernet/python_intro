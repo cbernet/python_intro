{
  "nbformat": 4,
  "nbformat_minor": 0,
  "metadata": {
    "kernelspec": {
      "display_name": "Python 3",
      "language": "python",
      "name": "python3"
    },
    "language_info": {
      "codemirror_mode": {
        "name": "ipython",
        "version": 3
      },
      "file_extension": ".py",
      "mimetype": "text/x-python",
      "name": "python",
      "nbconvert_exporter": "python",
      "pygments_lexer": "ipython3",
      "version": "3.7.6"
    },
    "colab": {
      "name": "02_numpy_for_machine_learning.ipynb",
      "provenance": [],
      "include_colab_link": true
    }
  },
  "cells": [
    {
      "cell_type": "markdown",
      "metadata": {
        "id": "view-in-github",
        "colab_type": "text"
      },
      "source": [
        "<a href=\"https://colab.research.google.com/github/cbernet/introduction_machine_learning/blob/master/notebooks/python_crash_course/02_numpy_for_machine_learning_solution.ipynb\" target=\"_parent\"><img src=\"https://colab.research.google.com/assets/colab-badge.svg\" alt=\"Open In Colab\"/></a>"
      ]
    },
    {
      "cell_type": "markdown",
      "metadata": {
        "id": "7idtvcdjcsw5"
      },
      "source": [
        "Die-hard C++ or Fortran users among physicists often say that python is too slow. \n",
        "\n",
        "True, python is an interpreted language and it is slow.\n",
        "\n",
        "Even python advocates like me realize it, but we think that the (lack of) speed of python is not really an issue, e.g. because:\n",
        "\n",
        "* The time spent computing is balanced by a much smaller development time;\n",
        "* Profiling is easy, which means that one can find the parts of the code that are slow, optimize them, and even write them in faster languages so that they can be compiled and used from python;\n",
        "\n",
        "And most importantly: \n",
        "\n",
        "* Some python tools like numpy are as fast as plain C. \n",
        "\n",
        "In this tutorial, you will understand what is numpy and why it's fast, and learn just what's needed about numpy for the usual machine learning operations. \n",
        "\n",
        "At the end, you will work on practical, real-life numpy operations, typically encountered in machine-learning projects.\n"
      ]
    },
    {
      "cell_type": "markdown",
      "metadata": {
        "id": "-03uMtjjcsw8"
      },
      "source": [
        "## Installation\n",
        "\n",
        "Numpy is the core of scientific python, so it's installed as a dependency for most of the scientific python packages. For example, you will get it if you install scikit-learn, matplotlib, or Keras. Also, numpy is installed by default on the usual platforms as a service for jupyter notebooks, such as Google Colab or FloydHub. \n",
        "\n",
        "If you don't have it, you can install it with [Anaconda](https://thedatafrog.com/en/install-anaconda-data-science-python/), by doing: \n",
        "\n",
        "```\n",
        "conda install numpy\n",
        "```\n",
        "\n",
        "Then, traditionally, numpy is imported in the following way:"
      ]
    },
    {
      "cell_type": "code",
      "metadata": {
        "id": "HkO3PMkUcsw-"
      },
      "source": [
        "import numpy as np"
      ],
      "execution_count": 85,
      "outputs": []
    },
    {
      "cell_type": "markdown",
      "metadata": {
        "id": "OS032kc4csxM"
      },
      "source": [
        "Please keep importing as `np`, it will make your code clearer to you and other people."
      ]
    },
    {
      "cell_type": "markdown",
      "metadata": {
        "id": "-JIXDFKhcsxN"
      },
      "source": [
        "## The numpy array : Why is it fast? \n",
        "\n",
        "The main purpose of numpy is to provide a very efficient data structure called the numpy array, and the tools to manipulate such arrays. \n",
        "\n",
        "Why is the numpy array so fast? \n",
        "\n",
        "Because, under the hood, arrays are processed with compiled code, optimized for the CPU. In particular, numpy operations are parallel as they use [SIMD](https://en.wikipedia.org/wiki/SIMD) (Single Operation Multiple Data). \n",
        "\n",
        "To see how fast numpy is, we can time it. \n",
        "\n",
        "Let us create a large list with one million integers, and a numpy array from this list: "
      ]
    },
    {
      "cell_type": "code",
      "metadata": {
        "id": "M5huXRD0csxP",
        "outputId": "2172493a-357c-4999-a634-0e328010d4b6",
        "colab": {
          "base_uri": "https://localhost:8080/",
          "height": 34
        }
      },
      "source": [
        "lst = range(1000000)\n",
        "arr = np.array(lst)\n",
        "arr"
      ],
      "execution_count": 86,
      "outputs": [
        {
          "output_type": "execute_result",
          "data": {
            "text/plain": [
              "array([     0,      1,      2, ..., 999997, 999998, 999999])"
            ]
          },
          "metadata": {
            "tags": []
          },
          "execution_count": 86
        }
      ]
    },
    {
      "cell_type": "markdown",
      "metadata": {
        "id": "kBMEnZ0LcsxY"
      },
      "source": [
        "Now let's compute the square of all integers, and see how much time it takes. "
      ]
    },
    {
      "cell_type": "markdown",
      "metadata": {
        "id": "S_qV6Zb3csxZ"
      },
      "source": [
        "We start by the list: "
      ]
    },
    {
      "cell_type": "code",
      "metadata": {
        "id": "KvhgND0mcsxb",
        "outputId": "781d3e87-c7a0-435c-9b97-dc1195f7c675",
        "colab": {
          "base_uri": "https://localhost:8080/",
          "height": 34
        }
      },
      "source": [
        "%timeit squares = [x**2 for x in lst]"
      ],
      "execution_count": 87,
      "outputs": [
        {
          "output_type": "stream",
          "text": [
            "1 loop, best of 3: 307 ms per loop\n"
          ],
          "name": "stdout"
        }
      ]
    },
    {
      "cell_type": "markdown",
      "metadata": {
        "id": "AhQG6NUjcsxh"
      },
      "source": [
        "And we do the same for the array:"
      ]
    },
    {
      "cell_type": "code",
      "metadata": {
        "id": "jd8tUTancsxi",
        "outputId": "d5ac8d2d-0376-4161-9447-dd9b87e426f1",
        "colab": {
          "base_uri": "https://localhost:8080/",
          "height": 34
        }
      },
      "source": [
        "%timeit squares = arr**2"
      ],
      "execution_count": 88,
      "outputs": [
        {
          "output_type": "stream",
          "text": [
            "100 loops, best of 3: 2.87 ms per loop\n"
          ],
          "name": "stdout"
        }
      ]
    },
    {
      "cell_type": "markdown",
      "metadata": {
        "id": "l8iSvYRZcsxp"
      },
      "source": [
        "As you can see, this is more than 300 times faster. \n",
        "\n",
        "We can in principle loop on the numpy array like this:"
      ]
    },
    {
      "cell_type": "code",
      "metadata": {
        "id": "cGNJnHwpcsxq",
        "outputId": "939281c1-4b14-4ac9-f4ca-c41ab8714ed0",
        "colab": {
          "base_uri": "https://localhost:8080/",
          "height": 34
        }
      },
      "source": [
        "%timeit squares = [x**2 for x in arr]"
      ],
      "execution_count": 89,
      "outputs": [
        {
          "output_type": "stream",
          "text": [
            "1 loop, best of 3: 330 ms per loop\n"
          ],
          "name": "stdout"
        }
      ]
    },
    {
      "cell_type": "markdown",
      "metadata": {
        "id": "eTAmJ5D-csxx"
      },
      "source": [
        "But then, we completely lose the benefits of numpy! Indeed, when we do `arr**2` we use the square function of numpy, which is intrinsically parallel. When we loop, we process the elements one by one with basic python. So: \n",
        "\n",
        "**Never ever loop on a numpy array! You'll be tempted to do so, but there should be no exception!**"
      ]
    },
    {
      "cell_type": "markdown",
      "metadata": {
        "id": "2PhXTlUNcsxy"
      },
      "source": [
        "## Numpy array data types\n",
        "\n",
        "We have seen that numpy arrays are processed by compiled code with SIMD. \n",
        "\n",
        "For this to work, the elements in a numpy array must be: \n",
        "\n",
        "* of a basic type, e.g. integers or floats. The full range of possibilities is given on [this page](https://docs.scipy.org/doc/numpy/reference/arrays.dtypes.html);\n",
        "* of the same type, so that they have the same size, e.g. 64 bits floats, or 16 bits integers.\n",
        "\n",
        "On the contrary, python lists can contain heterogeneous objects of any type. \n",
        "\n",
        "Here are a few ways to create numpy arrays with different types:"
      ]
    },
    {
      "cell_type": "code",
      "metadata": {
        "id": "Z63IZJDicsxy",
        "outputId": "bfa548b9-78f6-4455-a3c8-e71568473ee0",
        "colab": {
          "base_uri": "https://localhost:8080/",
          "height": 86
        }
      },
      "source": [
        "from sys import getsizeof as sizeof\n",
        "\n",
        "# numpy guesses that it should use integers\n",
        "x = np.array([0, 1, 2])\n",
        "print(x.dtype)\n",
        "# or floats: \n",
        "x = np.array([0., 1., 2.])\n",
        "print(x.dtype)\n",
        "# here we specify a python compatible type,\n",
        "# interpreted by numpy as int64\n",
        "x = np.array([0., 1., 2.], dtype=int)\n",
        "print(x.dtype)\n",
        "# here we specify that we want 8 bits integers\n",
        "x = np.array([0, 1, 2], dtype=np.int8)\n",
        "print(x.dtype)"
      ],
      "execution_count": 90,
      "outputs": [
        {
          "output_type": "stream",
          "text": [
            "int64\n",
            "float64\n",
            "int64\n",
            "int8\n"
          ],
          "name": "stdout"
        }
      ]
    },
    {
      "cell_type": "markdown",
      "metadata": {
        "id": "kQtFLhP8csx4"
      },
      "source": [
        "This makes it easy to estimate the size of a numpy array in memory, to see if you're going to blow up your computer before you actually do. \n",
        "\n",
        "---\n",
        "\n",
        "*Exercise*\n",
        "\n",
        "For example, let's consider a sample of 1000 images, each with 200x200 pixels, and 3 color channels per pixel. \n",
        "The color index ranges from 0 to 255, and can thus be encoded as an 8 bit integer. \n",
        "\n",
        "Assuming you store the data of all images in a single numpy array, what would be its size in memory in GB? \n",
        "\n",
        "--- "
      ]
    },
    {
      "cell_type": "markdown",
      "metadata": {
        "id": "5N5_IP7Fc9aZ"
      },
      "source": [
        "**answer** : 0.1 GB"
      ]
    },
    {
      "cell_type": "code",
      "metadata": {
        "id": "m4wuaibIdAtZ",
        "outputId": "6809d9ef-d047-4134-bcd8-ff42667d8e02",
        "colab": {
          "base_uri": "https://localhost:8080/",
          "height": 34
        }
      },
      "source": [
        "nbits = 1000 * 200**2 * 3 * 8\n",
        "gbytes = nbits / 1024**3 / 8 \n",
        "print(gbytes)"
      ],
      "execution_count": 91,
      "outputs": [
        {
          "output_type": "stream",
          "text": [
            "0.11175870895385742\n"
          ],
          "name": "stdout"
        }
      ]
    },
    {
      "cell_type": "markdown",
      "metadata": {
        "id": "s4fiR76Ccsx4"
      },
      "source": [
        "## Numpy element wise operations\n",
        "\n",
        "I call element wise operations all the operations that affect the array elements, but preserve the array shape.\n",
        "\n",
        "All the usual operators are implemented in numpy, for arrays. For example: "
      ]
    },
    {
      "cell_type": "code",
      "metadata": {
        "id": "DdQW4Rxrcsx5",
        "outputId": "82695e52-f2af-4e66-b238-4c98620d8bcb",
        "colab": {
          "base_uri": "https://localhost:8080/",
          "height": 34
        }
      },
      "source": [
        "x = np.array(range(5))\n",
        "x**2"
      ],
      "execution_count": 92,
      "outputs": [
        {
          "output_type": "execute_result",
          "data": {
            "text/plain": [
              "array([ 0,  1,  4,  9, 16])"
            ]
          },
          "metadata": {
            "tags": []
          },
          "execution_count": 92
        }
      ]
    },
    {
      "cell_type": "markdown",
      "metadata": {
        "id": "OMCfCi5Qcsx_"
      },
      "source": [
        "Note that these operators, in numpy, are element wise:"
      ]
    },
    {
      "cell_type": "code",
      "metadata": {
        "id": "Hi2STqa8csyA",
        "outputId": "5975cdc3-4996-4aa0-fc3e-717bad8a8e04",
        "colab": {
          "base_uri": "https://localhost:8080/",
          "height": 34
        }
      },
      "source": [
        "x+1"
      ],
      "execution_count": 93,
      "outputs": [
        {
          "output_type": "execute_result",
          "data": {
            "text/plain": [
              "array([1, 2, 3, 4, 5])"
            ]
          },
          "metadata": {
            "tags": []
          },
          "execution_count": 93
        }
      ]
    },
    {
      "cell_type": "markdown",
      "metadata": {
        "id": "MZxiox61csyG"
      },
      "source": [
        "The element-wise equivalents of the functions in the python `math` package are available directly from the `numpy` package, with the same name, e.g.:"
      ]
    },
    {
      "cell_type": "code",
      "metadata": {
        "id": "5FCK8sEtcsyH",
        "outputId": "1c4f026a-35ae-4c99-e208-e3295eda7526",
        "colab": {
          "base_uri": "https://localhost:8080/",
          "height": 34
        }
      },
      "source": [
        "np.exp(x)"
      ],
      "execution_count": 94,
      "outputs": [
        {
          "output_type": "execute_result",
          "data": {
            "text/plain": [
              "array([ 1.        ,  2.71828183,  7.3890561 , 20.08553692, 54.59815003])"
            ]
          },
          "metadata": {
            "tags": []
          },
          "execution_count": 94
        }
      ]
    },
    {
      "cell_type": "markdown",
      "metadata": {
        "id": "vTO-lGRZcsyM"
      },
      "source": [
        "Finally, binary operators are available: "
      ]
    },
    {
      "cell_type": "code",
      "metadata": {
        "id": "hbKGAo0ycsyM",
        "outputId": "60cc2131-d57b-411b-aef7-3debd09eeda4",
        "colab": {
          "base_uri": "https://localhost:8080/",
          "height": 34
        }
      },
      "source": [
        "x = np.array([0, 1, 2])\n",
        "y = np.array([1, 2, 3])\n",
        "x+y"
      ],
      "execution_count": 95,
      "outputs": [
        {
          "output_type": "execute_result",
          "data": {
            "text/plain": [
              "array([1, 3, 5])"
            ]
          },
          "metadata": {
            "tags": []
          },
          "execution_count": 95
        }
      ]
    },
    {
      "cell_type": "code",
      "metadata": {
        "id": "oIB_BUzjcsyU",
        "outputId": "c040037d-7d7c-4db1-89fe-719ccb643fb1",
        "colab": {
          "base_uri": "https://localhost:8080/",
          "height": 34
        }
      },
      "source": [
        "x*y"
      ],
      "execution_count": 96,
      "outputs": [
        {
          "output_type": "execute_result",
          "data": {
            "text/plain": [
              "array([0, 2, 6])"
            ]
          },
          "metadata": {
            "tags": []
          },
          "execution_count": 96
        }
      ]
    },
    {
      "cell_type": "markdown",
      "metadata": {
        "id": "LaNT5qsTcsyZ"
      },
      "source": [
        "## Numpy array shape\n",
        "\n",
        "So far, we have only seen arrays with a single dimension. But often, more dimensions are used. \n",
        "\n",
        "Multidimensional arrays can be created from a list of lists, e.g.:"
      ]
    },
    {
      "cell_type": "code",
      "metadata": {
        "id": "bmoUyjnIcsyZ",
        "outputId": "efddafed-8a9d-4e3e-f68e-e32fd277982f",
        "colab": {
          "base_uri": "https://localhost:8080/",
          "height": 69
        }
      },
      "source": [
        "x = np.array([[0, 1], [2, 3], [4,5]])\n",
        "x"
      ],
      "execution_count": 97,
      "outputs": [
        {
          "output_type": "execute_result",
          "data": {
            "text/plain": [
              "array([[0, 1],\n",
              "       [2, 3],\n",
              "       [4, 5]])"
            ]
          },
          "metadata": {
            "tags": []
          },
          "execution_count": 97
        }
      ]
    },
    {
      "cell_type": "markdown",
      "metadata": {
        "id": "swZFE4Cmcsyf"
      },
      "source": [
        "The shape attribute gives us the length of each dimension: "
      ]
    },
    {
      "cell_type": "code",
      "metadata": {
        "id": "BDYRruNncsyf",
        "outputId": "6494ee8d-3478-4a41-b6b7-72f4852f2970",
        "colab": {
          "base_uri": "https://localhost:8080/",
          "height": 34
        }
      },
      "source": [
        "x.shape"
      ],
      "execution_count": 98,
      "outputs": [
        {
          "output_type": "execute_result",
          "data": {
            "text/plain": [
              "(3, 2)"
            ]
          },
          "metadata": {
            "tags": []
          },
          "execution_count": 98
        }
      ]
    },
    {
      "cell_type": "markdown",
      "metadata": {
        "id": "u4sqZ4WOcsyk"
      },
      "source": [
        "In this case, we have 3 rows of 2 numbers. The first dimension is the outermost dimension, and the second one the innermost dimension. \n",
        "\n",
        "Let's take the example of a 2x2 pixels image, with 3 color channels (red, blue, green) in each pixel:"
      ]
    },
    {
      "cell_type": "code",
      "metadata": {
        "id": "hVyg_jvYcsyk",
        "outputId": "01855755-6605-4d4e-edb7-4b99a713641b",
        "colab": {
          "base_uri": "https://localhost:8080/",
          "height": 121
        }
      },
      "source": [
        "x = np.array(\n",
        "    [\n",
        "        [ [1,2,3], [4,5,6], ],\n",
        "        [ [7,8,9], [10,11,12]]\n",
        "    ]\n",
        ")\n",
        "print(x)\n",
        "print(x.shape)"
      ],
      "execution_count": 99,
      "outputs": [
        {
          "output_type": "stream",
          "text": [
            "[[[ 1  2  3]\n",
            "  [ 4  5  6]]\n",
            "\n",
            " [[ 7  8  9]\n",
            "  [10 11 12]]]\n",
            "(2, 2, 3)\n"
          ],
          "name": "stdout"
        }
      ]
    },
    {
      "cell_type": "markdown",
      "metadata": {
        "id": "TsqK5-sucsyo"
      },
      "source": [
        "To visualize numpy arrays more easily, I often think of the innermost dimension separately. For example, here, we have a 2x2 pixel array, with a sub-array of size 3 in each pixel.\n",
        "\n",
        "And as a final example, let's consider a \"column vector\": "
      ]
    },
    {
      "cell_type": "code",
      "metadata": {
        "id": "sAvb24eTcsyq",
        "outputId": "26fc52b1-94ed-4407-f33e-f7c758a17e7d",
        "colab": {
          "base_uri": "https://localhost:8080/",
          "height": 104
        }
      },
      "source": [
        "x = np.array([\n",
        "    [0],\n",
        "    [1],\n",
        "    [2], \n",
        "    [3]\n",
        "])\n",
        "print(x)\n",
        "print(x.shape)"
      ],
      "execution_count": 100,
      "outputs": [
        {
          "output_type": "stream",
          "text": [
            "[[0]\n",
            " [1]\n",
            " [2]\n",
            " [3]]\n",
            "(4, 1)\n"
          ],
          "name": "stdout"
        }
      ]
    },
    {
      "cell_type": "markdown",
      "metadata": {
        "id": "4HVDhJHZcsyu"
      },
      "source": [
        "As you can see, the \"column vector\" has two dimensions, which may be counterintuitive. There is a single number (a scalar) on the innermost dimension."
      ]
    },
    {
      "cell_type": "markdown",
      "metadata": {
        "id": "g6oMmTXJcsyv"
      },
      "source": [
        "\n",
        "Please note that in numpy, a dimension can also be called an \"axis\". \n",
        "\n",
        "Very often, numpy arrays of a given shape are built by initializing all elements to a fixed number, or a random number. For example:"
      ]
    },
    {
      "cell_type": "code",
      "metadata": {
        "id": "_U_hE4Cycsyy",
        "outputId": "5f671401-1399-4f6b-8586-9a5c2a427327",
        "colab": {
          "base_uri": "https://localhost:8080/",
          "height": 52
        }
      },
      "source": [
        "np.zeros((2,3))"
      ],
      "execution_count": 101,
      "outputs": [
        {
          "output_type": "execute_result",
          "data": {
            "text/plain": [
              "array([[0., 0., 0.],\n",
              "       [0., 0., 0.]])"
            ]
          },
          "metadata": {
            "tags": []
          },
          "execution_count": 101
        }
      ]
    },
    {
      "cell_type": "code",
      "metadata": {
        "id": "dtOGs3S6csy1",
        "outputId": "c46a76bb-3668-4d82-930a-b9e6d0c0fc84",
        "colab": {
          "base_uri": "https://localhost:8080/",
          "height": 34
        }
      },
      "source": [
        "np.ones(3)"
      ],
      "execution_count": 102,
      "outputs": [
        {
          "output_type": "execute_result",
          "data": {
            "text/plain": [
              "array([1., 1., 1.])"
            ]
          },
          "metadata": {
            "tags": []
          },
          "execution_count": 102
        }
      ]
    },
    {
      "cell_type": "code",
      "metadata": {
        "id": "gIzwi_Incsy6",
        "outputId": "26b7d827-a778-4fe5-bb63-c162ab89bdd5",
        "colab": {
          "base_uri": "https://localhost:8080/",
          "height": 86
        }
      },
      "source": [
        "np.ones_like(x)"
      ],
      "execution_count": 103,
      "outputs": [
        {
          "output_type": "execute_result",
          "data": {
            "text/plain": [
              "array([[1],\n",
              "       [1],\n",
              "       [1],\n",
              "       [1]])"
            ]
          },
          "metadata": {
            "tags": []
          },
          "execution_count": 103
        }
      ]
    },
    {
      "cell_type": "code",
      "metadata": {
        "id": "VJhStQlAcsy-",
        "outputId": "98382f75-ccaf-41bf-dba4-cf969bc03e5d",
        "colab": {
          "base_uri": "https://localhost:8080/",
          "height": 52
        }
      },
      "source": [
        "np.random.rand(2,2)"
      ],
      "execution_count": 104,
      "outputs": [
        {
          "output_type": "execute_result",
          "data": {
            "text/plain": [
              "array([[0.83656477, 0.01235059],\n",
              "       [0.64045123, 0.09117495]])"
            ]
          },
          "metadata": {
            "tags": []
          },
          "execution_count": 104
        }
      ]
    },
    {
      "cell_type": "markdown",
      "metadata": {
        "id": "f3fGf8SbcszC"
      },
      "source": [
        "Many more [random sampling tools](https://docs.scipy.org/doc/numpy-1.16.0/reference/routines.random.html) are available. "
      ]
    },
    {
      "cell_type": "markdown",
      "metadata": {
        "id": "Yt6mpA3ccszE"
      },
      "source": [
        "## Numpy array indexing"
      ]
    },
    {
      "cell_type": "markdown",
      "metadata": {
        "id": "-H7DMgzOcszF"
      },
      "source": [
        "### Basic indexing"
      ]
    },
    {
      "cell_type": "markdown",
      "metadata": {
        "id": "4HrJUSXmcszG"
      },
      "source": [
        "Here is a 1D array: "
      ]
    },
    {
      "cell_type": "code",
      "metadata": {
        "id": "1Cn_hgz9cszG",
        "outputId": "da722926-06d1-4530-fd78-19a8a3570031",
        "colab": {
          "base_uri": "https://localhost:8080/",
          "height": 34
        }
      },
      "source": [
        "x = np.arange(10) + 1\n",
        "x"
      ],
      "execution_count": 105,
      "outputs": [
        {
          "output_type": "execute_result",
          "data": {
            "text/plain": [
              "array([ 1,  2,  3,  4,  5,  6,  7,  8,  9, 10])"
            ]
          },
          "metadata": {
            "tags": []
          },
          "execution_count": 105
        }
      ]
    },
    {
      "cell_type": "markdown",
      "metadata": {
        "id": "BQpxzql4cszL"
      },
      "source": [
        "Elements can be accessed directly, using their index in the array (the index starts at 0):"
      ]
    },
    {
      "cell_type": "code",
      "metadata": {
        "scrolled": true,
        "id": "Cd_SmwtOcszL",
        "outputId": "ba0de659-7b3c-42f6-8a81-027505eb9f7b",
        "colab": {
          "base_uri": "https://localhost:8080/",
          "height": 34
        }
      },
      "source": [
        "x[1]"
      ],
      "execution_count": 106,
      "outputs": [
        {
          "output_type": "execute_result",
          "data": {
            "text/plain": [
              "2"
            ]
          },
          "metadata": {
            "tags": []
          },
          "execution_count": 106
        }
      ]
    },
    {
      "cell_type": "markdown",
      "metadata": {
        "id": "prjjKGZScszQ"
      },
      "source": [
        "And, as usual in python sequences, negative arrays start from the end: "
      ]
    },
    {
      "cell_type": "code",
      "metadata": {
        "id": "T9o76WcwcszR",
        "outputId": "f9edecd3-f612-4583-b322-211e10a4e8fa",
        "colab": {
          "base_uri": "https://localhost:8080/",
          "height": 34
        }
      },
      "source": [
        "x[-2]"
      ],
      "execution_count": 107,
      "outputs": [
        {
          "output_type": "execute_result",
          "data": {
            "text/plain": [
              "9"
            ]
          },
          "metadata": {
            "tags": []
          },
          "execution_count": 107
        }
      ]
    },
    {
      "cell_type": "markdown",
      "metadata": {
        "id": "d8FTTyxVcszU"
      },
      "source": [
        "The array can be modified in place: "
      ]
    },
    {
      "cell_type": "code",
      "metadata": {
        "id": "c_ERGnoccszV",
        "outputId": "0cda548b-0fd5-49ca-cc75-5ccbb1b29256",
        "colab": {
          "base_uri": "https://localhost:8080/",
          "height": 69
        }
      },
      "source": [
        "print(id(x))\n",
        "x[1] = 0\n",
        "print(id(x))\n",
        "print(x)"
      ],
      "execution_count": 108,
      "outputs": [
        {
          "output_type": "stream",
          "text": [
            "140100337914304\n",
            "140100337914304\n",
            "[ 1  0  3  4  5  6  7  8  9 10]\n"
          ],
          "name": "stdout"
        }
      ]
    },
    {
      "cell_type": "markdown",
      "metadata": {
        "id": "srV-yXNncszZ"
      },
      "source": [
        "For multidimensional arrays, basic indexing is done by specifying a comma separated list of indices: "
      ]
    },
    {
      "cell_type": "code",
      "metadata": {
        "id": "K_pmc9lgcsza",
        "outputId": "2d1496f9-644e-4326-e235-8477b6b3ce6e",
        "colab": {
          "base_uri": "https://localhost:8080/",
          "height": 52
        }
      },
      "source": [
        "x = np.zeros((2,3))\n",
        "x[0,1] = 1\n",
        "x"
      ],
      "execution_count": 109,
      "outputs": [
        {
          "output_type": "execute_result",
          "data": {
            "text/plain": [
              "array([[0., 1., 0.],\n",
              "       [0., 0., 0.]])"
            ]
          },
          "metadata": {
            "tags": []
          },
          "execution_count": 109
        }
      ]
    },
    {
      "cell_type": "markdown",
      "metadata": {
        "id": "Y8mcThuLcszd"
      },
      "source": [
        "### Selection with boolean indexing\n",
        "\n",
        "Indexing can be used to select array elements according to a mask. \n",
        "\n",
        "Let's create our 1D array again:"
      ]
    },
    {
      "cell_type": "code",
      "metadata": {
        "id": "mN5AMrbQcszd",
        "outputId": "7ae7561b-6cc4-4bf8-e042-046f0cc6d54a",
        "colab": {
          "base_uri": "https://localhost:8080/",
          "height": 34
        }
      },
      "source": [
        "x = np.arange(10) + 1\n",
        "x"
      ],
      "execution_count": 110,
      "outputs": [
        {
          "output_type": "execute_result",
          "data": {
            "text/plain": [
              "array([ 1,  2,  3,  4,  5,  6,  7,  8,  9, 10])"
            ]
          },
          "metadata": {
            "tags": []
          },
          "execution_count": 110
        }
      ]
    },
    {
      "cell_type": "markdown",
      "metadata": {
        "id": "8iKjporncszi"
      },
      "source": [
        "To create a mask, we evaluate a boolean expression for each element in the array. For example, to find all even numbers: "
      ]
    },
    {
      "cell_type": "code",
      "metadata": {
        "id": "xmHPBjKkcszi",
        "outputId": "80d88e80-ed32-4ee5-ae98-d105ec918592",
        "colab": {
          "base_uri": "https://localhost:8080/",
          "height": 52
        }
      },
      "source": [
        "x%2 == 0"
      ],
      "execution_count": 111,
      "outputs": [
        {
          "output_type": "execute_result",
          "data": {
            "text/plain": [
              "array([False,  True, False,  True, False,  True, False,  True, False,\n",
              "        True])"
            ]
          },
          "metadata": {
            "tags": []
          },
          "execution_count": 111
        }
      ]
    },
    {
      "cell_type": "markdown",
      "metadata": {
        "id": "LCEo4Zc4cszm"
      },
      "source": [
        "What does this expression mean? \n",
        "\n",
        "Since `x` is a numpy array, `x%2` is a numpy element-wise operation that evaluates `%2` on all elements of the array, and returns a new array with the results: "
      ]
    },
    {
      "cell_type": "code",
      "metadata": {
        "id": "jn8SXYKecszm",
        "outputId": "76bf6653-4ee0-46a7-cd5d-cfbc46ddcbe9",
        "colab": {
          "base_uri": "https://localhost:8080/",
          "height": 34
        }
      },
      "source": [
        "xmod = x%2\n",
        "xmod"
      ],
      "execution_count": 112,
      "outputs": [
        {
          "output_type": "execute_result",
          "data": {
            "text/plain": [
              "array([1, 0, 1, 0, 1, 0, 1, 0, 1, 0])"
            ]
          },
          "metadata": {
            "tags": []
          },
          "execution_count": 112
        }
      ]
    },
    {
      "cell_type": "markdown",
      "metadata": {
        "id": "5EhYDFWxcszp"
      },
      "source": [
        "Then, we select even numbers by asking the modulo to be equal to zero. Again, the `==` operator is applied to a numpy array, so it is an element-wise operation:  "
      ]
    },
    {
      "cell_type": "code",
      "metadata": {
        "id": "6RqsxYGDcszq",
        "outputId": "b094cc42-3a47-4d6b-c3c1-4817d8e206da",
        "colab": {
          "base_uri": "https://localhost:8080/",
          "height": 52
        }
      },
      "source": [
        "mask = (xmod == 0)\n",
        "mask"
      ],
      "execution_count": 113,
      "outputs": [
        {
          "output_type": "execute_result",
          "data": {
            "text/plain": [
              "array([False,  True, False,  True, False,  True, False,  True, False,\n",
              "        True])"
            ]
          },
          "metadata": {
            "tags": []
          },
          "execution_count": 113
        }
      ]
    },
    {
      "cell_type": "markdown",
      "metadata": {
        "id": "Dm05loiNcszu"
      },
      "source": [
        "With this mask, we select even numbers and return a new array: "
      ]
    },
    {
      "cell_type": "code",
      "metadata": {
        "id": "E05U6HxDcszv",
        "outputId": "6e941e49-1dff-4a70-8651-b6965820b914",
        "colab": {
          "base_uri": "https://localhost:8080/",
          "height": 34
        }
      },
      "source": [
        "x[mask]"
      ],
      "execution_count": 114,
      "outputs": [
        {
          "output_type": "execute_result",
          "data": {
            "text/plain": [
              "array([ 2,  4,  6,  8, 10])"
            ]
          },
          "metadata": {
            "tags": []
          },
          "execution_count": 114
        }
      ]
    },
    {
      "cell_type": "markdown",
      "metadata": {
        "id": "jFOhq7_4cszz"
      },
      "source": [
        "In fact, the new array is a view on the original array. **The data is not copied.**\n",
        "\n",
        "It is possible to invert the mask: "
      ]
    },
    {
      "cell_type": "code",
      "metadata": {
        "id": "mcV0RNvwcszz",
        "outputId": "132ec917-5ccd-47b9-ebeb-10e1ac1584b4",
        "colab": {
          "base_uri": "https://localhost:8080/",
          "height": 34
        }
      },
      "source": [
        "x[~mask]"
      ],
      "execution_count": 115,
      "outputs": [
        {
          "output_type": "execute_result",
          "data": {
            "text/plain": [
              "array([1, 3, 5, 7, 9])"
            ]
          },
          "metadata": {
            "tags": []
          },
          "execution_count": 115
        }
      ]
    },
    {
      "cell_type": "markdown",
      "metadata": {
        "id": "H7aD7r5Gcsz3"
      },
      "source": [
        "And of course it's possible to build masks on the fly, which is what is typically done: "
      ]
    },
    {
      "cell_type": "code",
      "metadata": {
        "id": "mdklAFFpcsz3",
        "outputId": "1dcf4486-6abf-494a-ba1d-aaa32d7bb6b5",
        "colab": {
          "base_uri": "https://localhost:8080/",
          "height": 34
        }
      },
      "source": [
        "x[x%2==0]"
      ],
      "execution_count": 116,
      "outputs": [
        {
          "output_type": "execute_result",
          "data": {
            "text/plain": [
              "array([ 2,  4,  6,  8, 10])"
            ]
          },
          "metadata": {
            "tags": []
          },
          "execution_count": 116
        }
      ]
    },
    {
      "cell_type": "markdown",
      "metadata": {
        "id": "7fLBu96scsz6"
      },
      "source": [
        "**In python data science, boolean indexing is used extensively to select data by applying thresholds on chosen variables.** "
      ]
    },
    {
      "cell_type": "markdown",
      "metadata": {
        "id": "qm9bNbADcsz7"
      },
      "source": [
        "### Slicing"
      ]
    },
    {
      "cell_type": "markdown",
      "metadata": {
        "id": "cxlMNt7wcsz7"
      },
      "source": [
        "In basic python, a slice is defined as a tuple, `start,stop,step`. It allows to select a sequence of elements in a sequence (which, by essence in python, is 1D): "
      ]
    },
    {
      "cell_type": "code",
      "metadata": {
        "id": "LXJUv708csz8",
        "outputId": "a17c25a1-5afd-4f12-9d26-e72019340068",
        "colab": {
          "base_uri": "https://localhost:8080/",
          "height": 52
        }
      },
      "source": [
        "lst = list(range(1, 10))\n",
        "print(lst)\n",
        "lst[1::2]"
      ],
      "execution_count": 117,
      "outputs": [
        {
          "output_type": "stream",
          "text": [
            "[1, 2, 3, 4, 5, 6, 7, 8, 9]\n"
          ],
          "name": "stdout"
        },
        {
          "output_type": "execute_result",
          "data": {
            "text/plain": [
              "[2, 4, 6, 8]"
            ]
          },
          "metadata": {
            "tags": []
          },
          "execution_count": 117
        }
      ]
    },
    {
      "cell_type": "markdown",
      "metadata": {
        "id": "veOCbXc-cs0A"
      },
      "source": [
        "We selected elements: \n",
        "\n",
        "* starting at index 1 (value 2);\n",
        "* stopping after the end of the list, as `stop` is not specified. At this stage, the last element, 9, is included;\n",
        "* in steps of 2. So 9 does not appear. "
      ]
    },
    {
      "cell_type": "markdown",
      "metadata": {
        "id": "kkrtKZwtcs0A"
      },
      "source": [
        "---\n",
        "\n",
        "*Exercise:*\n",
        "\n",
        "Play with the slice definition in the cell above. Try to: \n",
        "\n",
        "* select all odd numbers with a slice \n",
        "* select all numbers larger or equal to 5\n",
        "* select all even numbers between 2 and 6\n",
        "\n",
        "---"
      ]
    },
    {
      "cell_type": "markdown",
      "metadata": {
        "id": "lFKANOLUeFsa"
      },
      "source": [
        "**Answers**: "
      ]
    },
    {
      "cell_type": "code",
      "metadata": {
        "id": "L_6l_aRoeH1w",
        "outputId": "3a06939e-b904-4ede-eb4b-217b38079c4e",
        "colab": {
          "base_uri": "https://localhost:8080/",
          "height": 34
        }
      },
      "source": [
        "lst[::2]"
      ],
      "execution_count": 120,
      "outputs": [
        {
          "output_type": "execute_result",
          "data": {
            "text/plain": [
              "[1, 3, 5, 7, 9]"
            ]
          },
          "metadata": {
            "tags": []
          },
          "execution_count": 120
        }
      ]
    },
    {
      "cell_type": "code",
      "metadata": {
        "id": "kxskBYYkeQbm",
        "outputId": "a59d77cd-3472-4993-c954-2e85dd85b79c",
        "colab": {
          "base_uri": "https://localhost:8080/",
          "height": 34
        }
      },
      "source": [
        "lst[4:]"
      ],
      "execution_count": 122,
      "outputs": [
        {
          "output_type": "execute_result",
          "data": {
            "text/plain": [
              "[5, 6, 7, 8, 9]"
            ]
          },
          "metadata": {
            "tags": []
          },
          "execution_count": 122
        }
      ]
    },
    {
      "cell_type": "code",
      "metadata": {
        "id": "SaDPOIP9eWXo",
        "outputId": "971bb595-1f62-4850-faaf-5947107a6c59",
        "colab": {
          "base_uri": "https://localhost:8080/",
          "height": 34
        }
      },
      "source": [
        "lst[1:6:2]"
      ],
      "execution_count": 123,
      "outputs": [
        {
          "output_type": "execute_result",
          "data": {
            "text/plain": [
              "[2, 4, 6]"
            ]
          },
          "metadata": {
            "tags": []
          },
          "execution_count": 123
        }
      ]
    },
    {
      "cell_type": "markdown",
      "metadata": {
        "id": "kHUXqyMPcs0B"
      },
      "source": [
        "In the example above, we decided not to specify stop. This is possible for all fields: "
      ]
    },
    {
      "cell_type": "code",
      "metadata": {
        "id": "mubyPL1zcs0B",
        "outputId": "d22adeb2-7396-448e-e796-a901765320d3"
      },
      "source": [
        "print( lst[:5:] )\n",
        "print( lst[::2] )\n",
        "print( lst[3::] )\n",
        "print( lst[::] )"
      ],
      "execution_count": null,
      "outputs": [
        {
          "output_type": "stream",
          "text": [
            "[1, 2, 3, 4, 5]\n",
            "[1, 3, 5, 7, 9]\n",
            "[4, 5, 6, 7, 8, 9]\n",
            "[1, 2, 3, 4, 5, 6, 7, 8, 9]\n"
          ],
          "name": "stdout"
        }
      ]
    },
    {
      "cell_type": "markdown",
      "metadata": {
        "id": "9t-Jn0d5cs0F"
      },
      "source": [
        "The notation for these can and should be simplified to: "
      ]
    },
    {
      "cell_type": "code",
      "metadata": {
        "id": "syBdiyIYcs0F",
        "outputId": "9823fea3-299b-4b45-fe51-d11d67ffca65"
      },
      "source": [
        "print( lst[:5] )\n",
        "print( lst[::2] )\n",
        "print( lst[3:] )\n",
        "print( lst[:] )"
      ],
      "execution_count": null,
      "outputs": [
        {
          "output_type": "stream",
          "text": [
            "[1, 2, 3, 4, 5]\n",
            "[1, 3, 5, 7, 9]\n",
            "[4, 5, 6, 7, 8, 9]\n",
            "[1, 2, 3, 4, 5, 6, 7, 8, 9]\n"
          ],
          "name": "stdout"
        }
      ]
    },
    {
      "cell_type": "markdown",
      "metadata": {
        "id": "8jMGdyVUcs0I"
      },
      "source": [
        "---\n",
        "\n",
        "*Exercise:*\n",
        "\n",
        "Could you simplify these expressions further by removing more colons? What would happen if you do? Test your hypotheses in the above cell.\n",
        "\n",
        "---"
      ]
    },
    {
      "cell_type": "markdown",
      "metadata": {
        "id": "P__GOsqfelC6"
      },
      "source": [
        "**Answer:**\n",
        "\n",
        "No way to simplify further. For example, if we remove a colon to `lst[:5]`, it becomes `lst[5]`, so it's not the same thing at all. The first notation returns the first 5 elements, while the second one returns the sixth element:"
      ]
    },
    {
      "cell_type": "code",
      "metadata": {
        "id": "Qp8n5Sf0fyOP",
        "outputId": "d5df05c4-3ded-438c-d0bf-cdb887d170e8",
        "colab": {
          "base_uri": "https://localhost:8080/",
          "height": 34
        }
      },
      "source": [
        "lst[5]"
      ],
      "execution_count": 124,
      "outputs": [
        {
          "output_type": "execute_result",
          "data": {
            "text/plain": [
              "6"
            ]
          },
          "metadata": {
            "tags": []
          },
          "execution_count": 124
        }
      ]
    },
    {
      "cell_type": "markdown",
      "metadata": {
        "id": "wtMUjWDqcs0J"
      },
      "source": [
        "Numpy slicing is a simple generalization of python slicing to multiple dimensions. To test it, we create a 2D matrix with 4 lines and 5 columns. For this, we use the reshape method that will be discussed in the next section: "
      ]
    },
    {
      "cell_type": "code",
      "metadata": {
        "id": "WXAiu7JBcs0J",
        "outputId": "a11a1336-fbd1-4305-febc-c83f3d083941",
        "colab": {
          "base_uri": "https://localhost:8080/",
          "height": 86
        }
      },
      "source": [
        "x = np.arange(20).reshape(4,5)\n",
        "x"
      ],
      "execution_count": 125,
      "outputs": [
        {
          "output_type": "execute_result",
          "data": {
            "text/plain": [
              "array([[ 0,  1,  2,  3,  4],\n",
              "       [ 5,  6,  7,  8,  9],\n",
              "       [10, 11, 12, 13, 14],\n",
              "       [15, 16, 17, 18, 19]])"
            ]
          },
          "metadata": {
            "tags": []
          },
          "execution_count": 125
        }
      ]
    },
    {
      "cell_type": "markdown",
      "metadata": {
        "id": "3JERSOFHcs0M"
      },
      "source": [
        "We can now use the slice notation on any field of the multidimensional index. Here are a few example: \n",
        "\n",
        "* select the second column: "
      ]
    },
    {
      "cell_type": "code",
      "metadata": {
        "id": "g-bdvdfRcs0N",
        "outputId": "3fff7f4d-6c13-4346-b69d-aaf73ccf718a",
        "colab": {
          "base_uri": "https://localhost:8080/",
          "height": 34
        }
      },
      "source": [
        "x[:, 1]"
      ],
      "execution_count": 126,
      "outputs": [
        {
          "output_type": "execute_result",
          "data": {
            "text/plain": [
              "array([ 1,  6, 11, 16])"
            ]
          },
          "metadata": {
            "tags": []
          },
          "execution_count": 126
        }
      ]
    },
    {
      "cell_type": "markdown",
      "metadata": {
        "id": "R2ILlXhGcs0Q"
      },
      "source": [
        "* select the first two columns: "
      ]
    },
    {
      "cell_type": "code",
      "metadata": {
        "id": "f7ys2fVpcs0R",
        "outputId": "0e46dde5-4c0b-4388-c7fd-6793ad5a5ccb",
        "colab": {
          "base_uri": "https://localhost:8080/",
          "height": 86
        }
      },
      "source": [
        "x[:, :2]"
      ],
      "execution_count": 127,
      "outputs": [
        {
          "output_type": "execute_result",
          "data": {
            "text/plain": [
              "array([[ 0,  1],\n",
              "       [ 5,  6],\n",
              "       [10, 11],\n",
              "       [15, 16]])"
            ]
          },
          "metadata": {
            "tags": []
          },
          "execution_count": 127
        }
      ]
    },
    {
      "cell_type": "markdown",
      "metadata": {
        "id": "UNFzwClXcs0V"
      },
      "source": [
        "* select columns in steps of 2: "
      ]
    },
    {
      "cell_type": "code",
      "metadata": {
        "id": "n2j6T7qVcs0V",
        "outputId": "879e288a-0080-4814-af16-ab9e07db953f",
        "colab": {
          "base_uri": "https://localhost:8080/",
          "height": 86
        }
      },
      "source": [
        "x[:, ::2]"
      ],
      "execution_count": 128,
      "outputs": [
        {
          "output_type": "execute_result",
          "data": {
            "text/plain": [
              "array([[ 0,  2,  4],\n",
              "       [ 5,  7,  9],\n",
              "       [10, 12, 14],\n",
              "       [15, 17, 19]])"
            ]
          },
          "metadata": {
            "tags": []
          },
          "execution_count": 128
        }
      ]
    },
    {
      "cell_type": "markdown",
      "metadata": {
        "id": "BhU43n4Kcs0X"
      },
      "source": [
        "* reverse column order, by specifying a -1 step on the last dimension:"
      ]
    },
    {
      "cell_type": "code",
      "metadata": {
        "id": "tlAHWmbUcs0Y",
        "outputId": "2cf79c4b-ccbf-4358-d442-2d1c76d6e952",
        "colab": {
          "base_uri": "https://localhost:8080/",
          "height": 86
        }
      },
      "source": [
        "x[:, ::-1]"
      ],
      "execution_count": 129,
      "outputs": [
        {
          "output_type": "execute_result",
          "data": {
            "text/plain": [
              "array([[ 4,  3,  2,  1,  0],\n",
              "       [ 9,  8,  7,  6,  5],\n",
              "       [14, 13, 12, 11, 10],\n",
              "       [19, 18, 17, 16, 15]])"
            ]
          },
          "metadata": {
            "tags": []
          },
          "execution_count": 129
        }
      ]
    },
    {
      "cell_type": "markdown",
      "metadata": {
        "id": "_vQQFaSBcs0b"
      },
      "source": [
        "In the previous examples, we have been working on the last dimension, while preserving the first dimension. For this, we needed to add a `:` as first indexing item to request a loop on the first dimension. \n",
        "\n",
        "But this can become painful when there are more than 2 dimensions. For example, consider this 3D array: "
      ]
    },
    {
      "cell_type": "code",
      "metadata": {
        "id": "1db9pk03cs0c",
        "outputId": "d2ec0f99-c554-452c-96df-7e115bab0c0b",
        "colab": {
          "base_uri": "https://localhost:8080/",
          "height": 104
        }
      },
      "source": [
        "y = np.arange(8).reshape((2,2,2))\n",
        "y"
      ],
      "execution_count": 130,
      "outputs": [
        {
          "output_type": "execute_result",
          "data": {
            "text/plain": [
              "array([[[0, 1],\n",
              "        [2, 3]],\n",
              "\n",
              "       [[4, 5],\n",
              "        [6, 7]]])"
            ]
          },
          "metadata": {
            "tags": []
          },
          "execution_count": 130
        }
      ]
    },
    {
      "cell_type": "markdown",
      "metadata": {
        "id": "NdGDpUJscs0f"
      },
      "source": [
        "It's a 2x2x2 cube. If you want to select the first elements along the last dimension, you can either do: "
      ]
    },
    {
      "cell_type": "code",
      "metadata": {
        "id": "PBmKcVfqcs0g",
        "outputId": "8e704494-bb8c-47db-9e4a-692a4a5b81fa",
        "colab": {
          "base_uri": "https://localhost:8080/",
          "height": 52
        }
      },
      "source": [
        "y[:,:,0]"
      ],
      "execution_count": 131,
      "outputs": [
        {
          "output_type": "execute_result",
          "data": {
            "text/plain": [
              "array([[0, 2],\n",
              "       [4, 6]])"
            ]
          },
          "metadata": {
            "tags": []
          },
          "execution_count": 131
        }
      ]
    },
    {
      "cell_type": "markdown",
      "metadata": {
        "id": "88EMM2Shcs0j"
      },
      "source": [
        "Or use the **ellipsis** notation: "
      ]
    },
    {
      "cell_type": "code",
      "metadata": {
        "id": "7dpfJB8scs0j",
        "outputId": "69cf6e16-c19c-4ac9-dfd3-c9db8e44afd1",
        "colab": {
          "base_uri": "https://localhost:8080/",
          "height": 52
        }
      },
      "source": [
        "y[...,0]"
      ],
      "execution_count": 132,
      "outputs": [
        {
          "output_type": "execute_result",
          "data": {
            "text/plain": [
              "array([[0, 2],\n",
              "       [4, 6]])"
            ]
          },
          "metadata": {
            "tags": []
          },
          "execution_count": 132
        }
      ]
    },
    {
      "cell_type": "markdown",
      "metadata": {
        "id": "OPmfsF-Xcs0n"
      },
      "source": [
        "The ellipsis adds as many `:` as missing dimensions in the indexing statement. In this way, you don't need to keep track of the number of dimensions, and you type less. But most importantly, your code becomes independent of the number of dimensions in the array. For example in this case, `y[...,0]` selects the first elements along the last dimension whatever the dimension of y:  "
      ]
    },
    {
      "cell_type": "code",
      "metadata": {
        "id": "zkb1CRhgcs0n",
        "outputId": "8efbd969-26c1-42c2-bd0b-de023a2a4d9d",
        "colab": {
          "base_uri": "https://localhost:8080/",
          "height": 69
        }
      },
      "source": [
        "y = np.arange(8).reshape(2,4)\n",
        "print(y)\n",
        "print(y[...,0])"
      ],
      "execution_count": 133,
      "outputs": [
        {
          "output_type": "stream",
          "text": [
            "[[0 1 2 3]\n",
            " [4 5 6 7]]\n",
            "[0 4]\n"
          ],
          "name": "stdout"
        }
      ]
    },
    {
      "cell_type": "markdown",
      "metadata": {
        "id": "jmFcomhacs0q"
      },
      "source": [
        "## Numpy array reshaping \n",
        "\n",
        "Reshaping an array consists in re-organizing the array data into a new array with a different shape.\n",
        "\n",
        "First, reshaping makes it possible to easily create an array with a given shape, as we have done before: "
      ]
    },
    {
      "cell_type": "code",
      "metadata": {
        "id": "qWedIuA9cs0q",
        "outputId": "7deb3f32-655e-42db-aba0-c5e2eb8ce90e",
        "colab": {
          "base_uri": "https://localhost:8080/",
          "height": 86
        }
      },
      "source": [
        "x = np.arange(20).reshape(4,5)\n",
        "x"
      ],
      "execution_count": 134,
      "outputs": [
        {
          "output_type": "execute_result",
          "data": {
            "text/plain": [
              "array([[ 0,  1,  2,  3,  4],\n",
              "       [ 5,  6,  7,  8,  9],\n",
              "       [10, 11, 12, 13, 14],\n",
              "       [15, 16, 17, 18, 19]])"
            ]
          },
          "metadata": {
            "tags": []
          },
          "execution_count": 134
        }
      ]
    },
    {
      "cell_type": "markdown",
      "metadata": {
        "id": "lsgYDpaZcs0-"
      },
      "source": [
        "We created a flat 1D array with integers ranging from 0 to 19, and immediately reshaped it to a 2D array with shape `(4,5)`. \n",
        "\n",
        "### Making an array one-dimensional \n",
        "\n",
        "Often, one needs to flatten an array. This can be done in several ways: \n",
        "\n",
        "* flatten: "
      ]
    },
    {
      "cell_type": "code",
      "metadata": {
        "id": "qKU4oUgfcs0_",
        "outputId": "901d0634-cdbf-4352-f758-1b0239ccb8c0",
        "colab": {
          "base_uri": "https://localhost:8080/",
          "height": 52
        }
      },
      "source": [
        "y = x.flatten()\n",
        "y"
      ],
      "execution_count": 135,
      "outputs": [
        {
          "output_type": "execute_result",
          "data": {
            "text/plain": [
              "array([ 0,  1,  2,  3,  4,  5,  6,  7,  8,  9, 10, 11, 12, 13, 14, 15, 16,\n",
              "       17, 18, 19])"
            ]
          },
          "metadata": {
            "tags": []
          },
          "execution_count": 135
        }
      ]
    },
    {
      "cell_type": "markdown",
      "metadata": {
        "id": "pP-43En5cs1C"
      },
      "source": [
        "* ravel: "
      ]
    },
    {
      "cell_type": "code",
      "metadata": {
        "id": "DzpzKjHNcs1C",
        "outputId": "3c153610-6a5d-439a-fdf3-e7b91b27db30",
        "colab": {
          "base_uri": "https://localhost:8080/",
          "height": 52
        }
      },
      "source": [
        "x.ravel()"
      ],
      "execution_count": 136,
      "outputs": [
        {
          "output_type": "execute_result",
          "data": {
            "text/plain": [
              "array([ 0,  1,  2,  3,  4,  5,  6,  7,  8,  9, 10, 11, 12, 13, 14, 15, 16,\n",
              "       17, 18, 19])"
            ]
          },
          "metadata": {
            "tags": []
          },
          "execution_count": 136
        }
      ]
    },
    {
      "cell_type": "markdown",
      "metadata": {
        "id": "5nssemgpcs1F"
      },
      "source": [
        "* reshape: "
      ]
    },
    {
      "cell_type": "code",
      "metadata": {
        "id": "dsZAqRlrcs1G",
        "outputId": "f59614ee-9fa2-4472-bf3d-dab2e449660a",
        "colab": {
          "base_uri": "https://localhost:8080/",
          "height": 52
        }
      },
      "source": [
        "x.reshape(-1)"
      ],
      "execution_count": 137,
      "outputs": [
        {
          "output_type": "execute_result",
          "data": {
            "text/plain": [
              "array([ 0,  1,  2,  3,  4,  5,  6,  7,  8,  9, 10, 11, 12, 13, 14, 15, 16,\n",
              "       17, 18, 19])"
            ]
          },
          "metadata": {
            "tags": []
          },
          "execution_count": 137
        }
      ]
    },
    {
      "cell_type": "markdown",
      "metadata": {
        "id": "sHRb16zucs1I"
      },
      "source": [
        "The output is the same, so what's the difference between flatten, ravel, and reshape? \n",
        "\n",
        "First, flatten always returns a copy of the array.\n",
        "\n",
        "On the other hand, ravel attempts to return a view on the original array, and only copies the data when it's needed. \n",
        "This means that if you modify the output of ravel, you might modify the original array. Also, it means that you should use ravel on very big arrays to save memory, and that ravel will generally be faster than flatten. \n",
        "\n",
        "reshape is a more flexible function as you can reshape to anything. Just like ravel, it returns a view and only performs a copy when necessary. I suggest to use either flatten or ravel when you want to flatten an array, to make your code more explicit. "
      ]
    },
    {
      "cell_type": "markdown",
      "metadata": {
        "id": "DAxdFgymcs1I"
      },
      "source": [
        "### Turn a 1D array into a \"column\" 1D array\n",
        "\n",
        "This means that we want to turn an array of shape `(N,)` into an array of shape `(N,1)`. Let's consider an array of shape `(5,)` : "
      ]
    },
    {
      "cell_type": "code",
      "metadata": {
        "id": "rqkHo8nccs1I",
        "outputId": "c97f954e-61b0-4227-a059-9cc5ca1a1e6e",
        "colab": {
          "base_uri": "https://localhost:8080/",
          "height": 52
        }
      },
      "source": [
        "y = np.arange(5)\n",
        "print(y)\n",
        "print(y.shape)"
      ],
      "execution_count": 138,
      "outputs": [
        {
          "output_type": "stream",
          "text": [
            "[0 1 2 3 4]\n",
            "(5,)\n"
          ],
          "name": "stdout"
        }
      ]
    },
    {
      "cell_type": "markdown",
      "metadata": {
        "id": "lGFg71HAcs1L"
      },
      "source": [
        "We turn it into a columnar array of shape (20,1) with the `c_` attribute (note that it's not a function!)"
      ]
    },
    {
      "cell_type": "code",
      "metadata": {
        "id": "CniyyQJecs1L",
        "outputId": "fe35cada-d41f-4705-a77c-8c1c71f46fed",
        "colab": {
          "base_uri": "https://localhost:8080/",
          "height": 121
        }
      },
      "source": [
        "coly = np.c_[y]\n",
        "print(coly)\n",
        "print(coly.shape)"
      ],
      "execution_count": 139,
      "outputs": [
        {
          "output_type": "stream",
          "text": [
            "[[0]\n",
            " [1]\n",
            " [2]\n",
            " [3]\n",
            " [4]]\n",
            "(5, 1)\n"
          ],
          "name": "stdout"
        }
      ]
    },
    {
      "cell_type": "markdown",
      "metadata": {
        "id": "oBidDEKYcs1O"
      },
      "source": [
        "## Practical numpy examples in machine learning\n",
        "\n",
        "You should know enough about numpy to deal with most numpy operations encountered in machine learning projects. \n",
        "\n",
        "We will now work on real-life examples so that you can hone your numpy skills!"
      ]
    },
    {
      "cell_type": "markdown",
      "metadata": {
        "id": "2PDvmzTXcs1P"
      },
      "source": [
        "### Label management  \n",
        "\n",
        "Let's consider a practical supervised machine learning example, the classification of dog and cat pictures. \n",
        "The machine is presented with examples so that it can learn. Each example consists in: \n",
        "\n",
        "* example data, here an image of a dog or a cat\n",
        "* a target or label, e.g. 0 for dog and 1 for cat\n",
        "\n",
        "When presented a cat image, the machine will output a value between 0 and 1. We'll compare this value to the target, and update the machine parameters so that next time, it can get closer to the solution. \n",
        "\n",
        "The training dataset (the set of examples used for training) is typically stored in numpy arrays. For example, one could use two numpy arrays: \n",
        "\n",
        "* An array of shape `(10000, 200, 200, 3)` for the images, assuming we have 10000 color pictures of 200x200 pixels.\n",
        "* An array of shape `(10000,)` or of shape `(10000, 1)` for the targets. \n",
        "\n",
        "The exact structure of the dataset will depend on where you get it or how you build it, and sometimes you will have to change this structure to provide the dataset to the machine, depending on how the machine is implemented.  \n",
        "\n",
        "As a practical case, let's use the simplified MNIST handwritten digit dataset included in the scikit-learn machine learning package. We first load the dataset: "
      ]
    },
    {
      "cell_type": "code",
      "metadata": {
        "id": "VWUpG0FLcs1P"
      },
      "source": [
        "from sklearn import datasets\n",
        "digits = datasets.load_digits()"
      ],
      "execution_count": 140,
      "outputs": []
    },
    {
      "cell_type": "markdown",
      "metadata": {
        "id": "RJwjR_bmcs1S"
      },
      "source": [
        "We get some object called `digits`. We can use the `type` and `dir` built-in functions to see what it is: "
      ]
    },
    {
      "cell_type": "code",
      "metadata": {
        "id": "eY9RMksGcs1S",
        "outputId": "2e3ebe75-df80-4eea-b719-c454a79ba9c1",
        "colab": {
          "base_uri": "https://localhost:8080/",
          "height": 52
        }
      },
      "source": [
        "print( type(digits) ) \n",
        "print( dir(digits) )"
      ],
      "execution_count": 141,
      "outputs": [
        {
          "output_type": "stream",
          "text": [
            "<class 'sklearn.utils.Bunch'>\n",
            "['DESCR', 'data', 'images', 'target', 'target_names']\n"
          ],
          "name": "stdout"
        }
      ]
    },
    {
      "cell_type": "markdown",
      "metadata": {
        "id": "lH6ZdjFvcs1U"
      },
      "source": [
        "Ok, `Bunch` is some unknown class in scikit-learn, but its attributes have rather explicit names. Let's print some more information: "
      ]
    },
    {
      "cell_type": "code",
      "metadata": {
        "id": "E5zRp_xqcs1V",
        "outputId": "170f6e49-ba27-4a9b-d09d-005f7d0527f3",
        "colab": {
          "base_uri": "https://localhost:8080/",
          "height": 52
        }
      },
      "source": [
        "print( type(digits.images) )\n",
        "print( type(digits.target) )"
      ],
      "execution_count": 142,
      "outputs": [
        {
          "output_type": "stream",
          "text": [
            "<class 'numpy.ndarray'>\n",
            "<class 'numpy.ndarray'>\n"
          ],
          "name": "stdout"
        }
      ]
    },
    {
      "cell_type": "markdown",
      "metadata": {
        "id": "ioSa9isfcs1X"
      },
      "source": [
        "Two numpy arrays! You should start to feel at home. Let's print their shape:"
      ]
    },
    {
      "cell_type": "code",
      "metadata": {
        "id": "ZUmFbCJ2cs1X",
        "outputId": "030d226d-11e2-406a-fc1a-9a84ca0782cd",
        "colab": {
          "base_uri": "https://localhost:8080/",
          "height": 52
        }
      },
      "source": [
        "print( digits.images.shape )\n",
        "print( digits.target.shape )"
      ],
      "execution_count": 143,
      "outputs": [
        {
          "output_type": "stream",
          "text": [
            "(1797, 8, 8)\n",
            "(1797,)\n"
          ],
          "name": "stdout"
        }
      ]
    },
    {
      "cell_type": "markdown",
      "metadata": {
        "id": "CvUGt92Qcs1a"
      },
      "source": [
        "---\n",
        "\n",
        "*Exercises*"
      ]
    },
    {
      "cell_type": "markdown",
      "metadata": {
        "id": "rEeSy305cs1a"
      },
      "source": [
        "1. How many examples do you have? What is the size of the images in pixels? Are they color or black and white images? \n",
        "2. Print the first image and the first label"
      ]
    },
    {
      "cell_type": "markdown",
      "metadata": {
        "id": "9ycWCoj0kSK2"
      },
      "source": [
        "**Answers**: \n",
        "\n",
        "1. We have 1797 examples. Each image has 8x8=64 pixels. There is only one value for each pixel, so these are black and white images.\n",
        "2. The first image is a zero:"
      ]
    },
    {
      "cell_type": "code",
      "metadata": {
        "id": "XfdXyEE9cs1b",
        "outputId": "c0d984ba-9457-4b76-bdba-c2048d2903dc",
        "colab": {
          "base_uri": "https://localhost:8080/",
          "height": 156
        }
      },
      "source": [
        "print(digits.images[0])"
      ],
      "execution_count": 144,
      "outputs": [
        {
          "output_type": "stream",
          "text": [
            "[[ 0.  0.  5. 13.  9.  1.  0.  0.]\n",
            " [ 0.  0. 13. 15. 10. 15.  5.  0.]\n",
            " [ 0.  3. 15.  2.  0. 11.  8.  0.]\n",
            " [ 0.  4. 12.  0.  0.  8.  8.  0.]\n",
            " [ 0.  5.  8.  0.  0.  9.  8.  0.]\n",
            " [ 0.  4. 11.  0.  1. 12.  7.  0.]\n",
            " [ 0.  2. 14.  5. 10. 12.  0.  0.]\n",
            " [ 0.  0.  6. 13. 10.  0.  0.  0.]]\n"
          ],
          "name": "stdout"
        }
      ]
    },
    {
      "cell_type": "code",
      "metadata": {
        "id": "_8nGCxhUkkYO",
        "outputId": "1da494f5-e9cc-4548-8dbe-401a9669ce9f",
        "colab": {
          "base_uri": "https://localhost:8080/",
          "height": 34
        }
      },
      "source": [
        "print(digits.target[0])"
      ],
      "execution_count": 145,
      "outputs": [
        {
          "output_type": "stream",
          "text": [
            "0\n"
          ],
          "name": "stdout"
        }
      ]
    },
    {
      "cell_type": "markdown",
      "metadata": {
        "id": "ITHJr-Kucs1d"
      },
      "source": [
        "3. Scikit-learn machines expect a 1D array of labels, such as the one we have here. But Keras+Tensorflow expects a columnar array of labels. Convert the array of labels into an array suitable for Keras+Tensorflow:"
      ]
    },
    {
      "cell_type": "markdown",
      "metadata": {
        "id": "Z4ggEpleku3G"
      },
      "source": [
        "**Answer**: \n",
        "\n",
        "Two possibilities: "
      ]
    },
    {
      "cell_type": "code",
      "metadata": {
        "id": "tB4Smwfik1Fk",
        "outputId": "b03be58c-80be-4c10-ecdc-747ef45f6df3",
        "colab": {
          "base_uri": "https://localhost:8080/",
          "height": 139
        }
      },
      "source": [
        "np.c_[digits.target]"
      ],
      "execution_count": 147,
      "outputs": [
        {
          "output_type": "execute_result",
          "data": {
            "text/plain": [
              "array([[0],\n",
              "       [1],\n",
              "       [2],\n",
              "       ...,\n",
              "       [8],\n",
              "       [9],\n",
              "       [8]])"
            ]
          },
          "metadata": {
            "tags": []
          },
          "execution_count": 147
        }
      ]
    },
    {
      "cell_type": "code",
      "metadata": {
        "id": "YaCcYhI_cs1e",
        "outputId": "84a911df-1899-4dad-d9f4-fca0d47d3b67",
        "colab": {
          "base_uri": "https://localhost:8080/",
          "height": 139
        }
      },
      "source": [
        "digits.target[:, np.newaxis]"
      ],
      "execution_count": 146,
      "outputs": [
        {
          "output_type": "execute_result",
          "data": {
            "text/plain": [
              "array([[0],\n",
              "       [1],\n",
              "       [2],\n",
              "       ...,\n",
              "       [8],\n",
              "       [9],\n",
              "       [8]])"
            ]
          },
          "metadata": {
            "tags": []
          },
          "execution_count": 146
        }
      ]
    },
    {
      "cell_type": "markdown",
      "metadata": {
        "id": "2AVaO5t-cs1g"
      },
      "source": [
        "---"
      ]
    },
    {
      "cell_type": "markdown",
      "metadata": {
        "id": "YWADA8U-cs1g"
      },
      "source": [
        "### Accuracy calculation\n",
        "\n",
        "Accuracy is a measure of performance for classification algorithms. It is defined the probability to misclassify an example and calculated as \n",
        "\n",
        "$$\n",
        "a = 1 - \\frac{M}{N}, \n",
        "$$\n",
        "\n",
        "where $N$ is the total number of examples, and $M$ the number of misclassified examples.\n",
        "\n",
        "After training, the accuracy is computed on a test dataset separate from the training dataset. In practice, the whole test dataset is sent as a numpy array to the machine, which produces a numpy array containing the results of the evaluation for each example in the test dataset. The accuracy is then computed from this output and the labels for the test dataset. \n",
        "\n",
        "Let us assume we're still working on the MNIST handwritten digits dataset and that the test dataset contains 10 examples, with the following labels: "
      ]
    },
    {
      "cell_type": "code",
      "metadata": {
        "id": "Plj_j9Zycs1h",
        "outputId": "5767fdf3-11c8-40a2-ba24-83c9a5bcfc94",
        "colab": {
          "base_uri": "https://localhost:8080/",
          "height": 34
        }
      },
      "source": [
        "true_labels = [0, 1, 2, 3, 4, 5, 6, 7, 8, 9]\n",
        "true_labels"
      ],
      "execution_count": 156,
      "outputs": [
        {
          "output_type": "execute_result",
          "data": {
            "text/plain": [
              "[0, 1, 2, 3, 4, 5, 6, 7, 8, 9]"
            ]
          },
          "metadata": {
            "tags": []
          },
          "execution_count": 156
        }
      ]
    },
    {
      "cell_type": "markdown",
      "metadata": {
        "id": "CkwPkUKtcs1n"
      },
      "source": [
        "And let's assume that the output of our machine for these 10 examples is:"
      ]
    },
    {
      "cell_type": "code",
      "metadata": {
        "id": "aNF_CGYPcs1n",
        "outputId": "7ca5315f-36df-416e-c4e4-67b03d72ab6a",
        "colab": {
          "base_uri": "https://localhost:8080/",
          "height": 34
        }
      },
      "source": [
        "results = np.array([0, 1, 2, 8, 4, 5, 6, 7, 8, 9])\n",
        "results"
      ],
      "execution_count": 157,
      "outputs": [
        {
          "output_type": "execute_result",
          "data": {
            "text/plain": [
              "array([0, 1, 2, 8, 4, 5, 6, 7, 8, 9])"
            ]
          },
          "metadata": {
            "tags": []
          },
          "execution_count": 157
        }
      ]
    },
    {
      "cell_type": "markdown",
      "metadata": {
        "id": "q-j6JnENcs1p"
      },
      "source": [
        "--- \n",
        "\n",
        "**Exercise:**\n",
        "\n",
        "Compute the accuracy in per cent. For this, note that you can sum up all entries in a numpy array `x` by doing `x.sum()`. No loop allowed! \n",
        "\n",
        "**Answer:**"
      ]
    },
    {
      "cell_type": "code",
      "metadata": {
        "id": "SAa8N1qpcs1q",
        "outputId": "970795be-3cc8-402f-f3d4-5e34d18f7991",
        "colab": {
          "base_uri": "https://localhost:8080/",
          "height": 34
        }
      },
      "source": [
        "(1-np.sum(results != true_labels)/10.) * 100"
      ],
      "execution_count": 159,
      "outputs": [
        {
          "output_type": "execute_result",
          "data": {
            "text/plain": [
              "90.0"
            ]
          },
          "metadata": {
            "tags": []
          },
          "execution_count": 159
        }
      ]
    },
    {
      "cell_type": "markdown",
      "metadata": {
        "id": "_uwuFrRccs1r"
      },
      "source": [
        "---"
      ]
    },
    {
      "cell_type": "markdown",
      "metadata": {
        "id": "UuuJctxTcs1s"
      },
      "source": [
        "### Rescaling image color levels \n",
        "\n",
        "Neural networks don't work well with big numbers. \n",
        "\n",
        "So usually, the neural network inputs are rescaled to be of the order of unity before being fed to the neural network.\n",
        "\n",
        "Let's consider again the MNIST dataset, that is already loaded in this notebook as `digits`, and here is the first image: \n"
      ]
    },
    {
      "cell_type": "code",
      "metadata": {
        "id": "KTSp_fB_cs1t",
        "outputId": "d92a5ba3-83e1-445d-d031-2f7b0545b19d",
        "colab": {
          "base_uri": "https://localhost:8080/",
          "height": 156
        }
      },
      "source": [
        "digits.images[0]"
      ],
      "execution_count": 160,
      "outputs": [
        {
          "output_type": "execute_result",
          "data": {
            "text/plain": [
              "array([[ 0.,  0.,  5., 13.,  9.,  1.,  0.,  0.],\n",
              "       [ 0.,  0., 13., 15., 10., 15.,  5.,  0.],\n",
              "       [ 0.,  3., 15.,  2.,  0., 11.,  8.,  0.],\n",
              "       [ 0.,  4., 12.,  0.,  0.,  8.,  8.,  0.],\n",
              "       [ 0.,  5.,  8.,  0.,  0.,  9.,  8.,  0.],\n",
              "       [ 0.,  4., 11.,  0.,  1., 12.,  7.,  0.],\n",
              "       [ 0.,  2., 14.,  5., 10., 12.,  0.,  0.],\n",
              "       [ 0.,  0.,  6., 13., 10.,  0.,  0.,  0.]])"
            ]
          },
          "metadata": {
            "tags": []
          },
          "execution_count": 160
        }
      ]
    },
    {
      "cell_type": "markdown",
      "metadata": {
        "id": "5RzpMjJxcs1u"
      },
      "source": [
        "--- \n",
        "\n",
        "**Exercise**\n",
        "\n",
        "1. what is the largest greyscale level that can be found in `digits.images`?\n",
        "2. rescale the dataset so that the largest number is 1. \n",
        "3. check your results\n",
        "\n",
        "No loop allowed! \n",
        "\n",
        "**Answers:**"
      ]
    },
    {
      "cell_type": "code",
      "metadata": {
        "id": "Xnm5toZccs1v",
        "outputId": "3034954c-9145-479a-bc54-e1212faa9b45",
        "colab": {
          "base_uri": "https://localhost:8080/",
          "height": 34
        }
      },
      "source": [
        "np.max(digits.images)"
      ],
      "execution_count": 161,
      "outputs": [
        {
          "output_type": "execute_result",
          "data": {
            "text/plain": [
              "16.0"
            ]
          },
          "metadata": {
            "tags": []
          },
          "execution_count": 161
        }
      ]
    },
    {
      "cell_type": "code",
      "metadata": {
        "id": "7FQEn4N8lv0r",
        "outputId": "93f1cce6-c1c8-4967-e818-17bd27fd4425",
        "colab": {
          "base_uri": "https://localhost:8080/",
          "height": 34
        }
      },
      "source": [
        "rescaled = digits.images / 16\n",
        "np.max(rescaled)"
      ],
      "execution_count": 163,
      "outputs": [
        {
          "output_type": "execute_result",
          "data": {
            "text/plain": [
              "1.0"
            ]
          },
          "metadata": {
            "tags": []
          },
          "execution_count": 163
        }
      ]
    },
    {
      "cell_type": "markdown",
      "metadata": {
        "id": "6mL_TjhWcs1y"
      },
      "source": [
        "---"
      ]
    },
    {
      "cell_type": "markdown",
      "metadata": {
        "id": "phRnk3e3cs1y"
      },
      "source": [
        "### Standardizing neural network inputs\n",
        "\n",
        "We already know that neural networks don't like to deal with large numbers. And it's also not good to have widely different shapes for the distributions of the input variables. \n",
        "\n",
        "So usually, we standardize the input variables. A common choice is to set the mean of each input distribution to 0, and its standard deviation to 1. \n",
        "\n",
        "Let's build a toy dataset with 1000 entries and two input variables following a gaussian probability density function.\n",
        "\n",
        "First, we generate the dataset. \n",
        "\n",
        "For this, we draw a random sample of 1000 events for each variable. Note the large difference in mean and sigma:\n"
      ]
    },
    {
      "cell_type": "code",
      "metadata": {
        "id": "IhtuZck0cs1y"
      },
      "source": [
        "x = np.random.normal(100, 5, 1000)\n",
        "y = np.random.normal(10, 1, 1000)"
      ],
      "execution_count": 164,
      "outputs": []
    },
    {
      "cell_type": "markdown",
      "metadata": {
        "id": "YxBVKldHcs10"
      },
      "source": [
        "Then, we stack the two variables in a single numpy array: "
      ]
    },
    {
      "cell_type": "code",
      "metadata": {
        "id": "7-lJNgcCcs10",
        "outputId": "44bd8fa4-0dc2-4a4e-888d-82b26d6d5da9",
        "colab": {
          "base_uri": "https://localhost:8080/",
          "height": 156
        }
      },
      "source": [
        "dataset = np.c_[x, y]\n",
        "print(dataset.shape)\n",
        "dataset"
      ],
      "execution_count": 165,
      "outputs": [
        {
          "output_type": "stream",
          "text": [
            "(1000, 2)\n"
          ],
          "name": "stdout"
        },
        {
          "output_type": "execute_result",
          "data": {
            "text/plain": [
              "array([[ 95.72883762,  12.1769199 ],\n",
              "       [107.07999097,   9.74554777],\n",
              "       [101.49385895,  11.06108033],\n",
              "       ...,\n",
              "       [102.57764422,   9.85699746],\n",
              "       [105.23824571,   9.90234579],\n",
              "       [108.58447046,  10.84076562]])"
            ]
          },
          "metadata": {
            "tags": []
          },
          "execution_count": 165
        }
      ]
    },
    {
      "cell_type": "markdown",
      "metadata": {
        "id": "fl5JEgKics12"
      },
      "source": [
        "And finally, we check that the mean and standard deviation of each variable is as expected: "
      ]
    },
    {
      "cell_type": "code",
      "metadata": {
        "id": "obnVgeCEcs13",
        "outputId": "006dc6cf-d14f-4d8b-e637-c2b277c3fc84",
        "colab": {
          "base_uri": "https://localhost:8080/",
          "height": 52
        }
      },
      "source": [
        "print(np.mean(dataset, axis=0))\n",
        "print(np.std(dataset, axis=0))"
      ],
      "execution_count": 166,
      "outputs": [
        {
          "output_type": "stream",
          "text": [
            "[99.82819661 10.01263392]\n",
            "[4.86946265 1.01085211]\n"
          ],
          "name": "stdout"
        }
      ]
    },
    {
      "cell_type": "markdown",
      "metadata": {
        "id": "iYujw1k4cs15"
      },
      "source": [
        "By using `axis=0`, we asked for the mean and standard deviation to be computed along the first axis, which is the outermost dimension. Therefore, numpy computed these quantities for both columns separately. \n",
        "\n",
        "Take enough time to think about this, and to understand how you move in the 2D array when you stride the outermost dimension. "
      ]
    },
    {
      "cell_type": "markdown",
      "metadata": {
        "id": "BEejW2v5cs15"
      },
      "source": [
        "---\n",
        "\n",
        "*Exercise*\n",
        "\n",
        "1. Rescale the dataset so that the mean and standard deviation of both variables are set to 0 and 1, respectively. But: \n",
        "\n",
        "   * no loop allowed of course!  \n",
        "   * you're also not allowed to treat the two columns separately to stack them after the fact as we have done above\n",
        "   * only one (short) line of code\n",
        "\n",
        "**Answer:**"
      ]
    },
    {
      "cell_type": "code",
      "metadata": {
        "id": "Mj-EY0uvcs16",
        "outputId": "22f15831-9515-4d03-ff00-4d8f81897981",
        "colab": {
          "base_uri": "https://localhost:8080/",
          "height": 34
        }
      },
      "source": [
        "rescaled = (dataset - np.mean(dataset, axis=0)) / np.std(dataset, axis=0) \n",
        "print(np.mean(rescaled, axis=0), np.std(rescaled, axis=0))"
      ],
      "execution_count": 169,
      "outputs": [
        {
          "output_type": "stream",
          "text": [
            "[-1.44695367e-14  1.85315097e-14] [1. 1.]\n"
          ],
          "name": "stdout"
        }
      ]
    },
    {
      "cell_type": "markdown",
      "metadata": {
        "id": "qnbToAARcs17"
      },
      "source": [
        "2. there is a way to recreate the dataset in one line of code. Check the documentation of [numpy.random.normal](https://docs.scipy.org/doc/numpy-1.15.0/reference/generated/numpy.random.normal.html) and do it: \n",
        "\n",
        "**Answer:**"
      ]
    },
    {
      "cell_type": "code",
      "metadata": {
        "id": "IHNZf_dVcs17",
        "outputId": "e336399f-77c2-4222-a7a8-f8e6119a94a6",
        "colab": {
          "base_uri": "https://localhost:8080/",
          "height": 139
        }
      },
      "source": [
        "np.random.normal((100, 10), (5,1), (1000, 2))"
      ],
      "execution_count": 173,
      "outputs": [
        {
          "output_type": "execute_result",
          "data": {
            "text/plain": [
              "array([[ 98.91565744,   9.64162794],\n",
              "       [ 90.29506409,  10.29653739],\n",
              "       [ 98.83523869,   9.19011217],\n",
              "       ...,\n",
              "       [106.13543262,  11.45251923],\n",
              "       [104.26851285,  10.69301971],\n",
              "       [ 97.50688162,   9.69950924]])"
            ]
          },
          "metadata": {
            "tags": []
          },
          "execution_count": 173
        }
      ]
    },
    {
      "cell_type": "markdown",
      "metadata": {
        "id": "n4FAR50Rcs19"
      },
      "source": [
        "---"
      ]
    },
    {
      "cell_type": "markdown",
      "metadata": {
        "id": "XUysPOzKcs1-"
      },
      "source": [
        "### Changing color scheme from RGB to BGR\n",
        "\n",
        "By convention, TensorFlow considers that the color channels in an image are ordered as red, green, blue (RGB) along the innermost dimension. On the contrary, Caffe, another deep learning library, assumes colors to be in the reverse order (BGR).\n",
        "\n",
        "Let's assume you want to do transfer learning, and that the deep neural network you want to use has been pre-trained with Caffe. But your images are RGB... Obviously, you need to convert your images from RGB to BGR so that the network can make use of its knowledge of colors.  \n",
        "\n",
        "In this exercise, you will find out how to do this on a single image.\n",
        "\n",
        "First, let's load the \"face\" example image: "
      ]
    },
    {
      "cell_type": "code",
      "metadata": {
        "id": "bxPDxdMHcs1-",
        "outputId": "2f96aedc-3498-43d5-922d-a928a4d4a5a9",
        "colab": {
          "base_uri": "https://localhost:8080/",
          "height": 286
        }
      },
      "source": [
        "import scipy.misc\n",
        "import matplotlib.pyplot as plt\n",
        "face = scipy.misc.face()\n",
        "plt.imshow(face)"
      ],
      "execution_count": 174,
      "outputs": [
        {
          "output_type": "execute_result",
          "data": {
            "text/plain": [
              "<matplotlib.image.AxesImage at 0x7f6b99e09470>"
            ]
          },
          "metadata": {
            "tags": []
          },
          "execution_count": 174
        },
        {
          "output_type": "display_data",
          "data": {
            "image/png": "[encoded data removed]",
            "text/plain": [
              "<Figure size 432x288 with 1 Axes>"
            ]
          },
          "metadata": {
            "tags": [],
            "needs_background": "light"
          }
        }
      ]
    },
    {
      "cell_type": "markdown",
      "metadata": {
        "id": "do0Rqc5Mcs2B"
      },
      "source": [
        "---\n",
        "\n",
        "*Exercise* \n",
        "\n",
        "* find out about the number of pixels and colors in this image\n",
        "* make sure that red is the first channel. To do this: \n",
        "    * make a copy of face\n",
        "    * in the copy, set the last two color channels to zero \n",
        "    * display the copy\n",
        "* convert the image to BGR \n",
        "\n",
        "Hint: you will have to make good use of the slice notation. Also, try to use the ellipsis.\n",
        "\n",
        "**Answer:**"
      ]
    },
    {
      "cell_type": "code",
      "metadata": {
        "id": "iWoCb3mDoFq4",
        "outputId": "6aa25ce7-a4ca-4952-c1e9-953ade380613",
        "colab": {
          "base_uri": "https://localhost:8080/",
          "height": 34
        }
      },
      "source": [
        "face.shape"
      ],
      "execution_count": 175,
      "outputs": [
        {
          "output_type": "execute_result",
          "data": {
            "text/plain": [
              "(768, 1024, 3)"
            ]
          },
          "metadata": {
            "tags": []
          },
          "execution_count": 175
        }
      ]
    },
    {
      "cell_type": "markdown",
      "metadata": {
        "id": "oCJct8A4oKlt"
      },
      "source": [
        "So 768x1024 pixels, 3 colors"
      ]
    },
    {
      "cell_type": "code",
      "metadata": {
        "id": "3sEv1eKUoPHp",
        "outputId": "8d86c9cb-5c2f-4eeb-ea23-bdcc11662120",
        "colab": {
          "base_uri": "https://localhost:8080/",
          "height": 286
        }
      },
      "source": [
        "face_copy = np.copy(face)\n",
        "face_copy[... ,1:] = 0\n",
        "plt.imshow(face_copy)"
      ],
      "execution_count": 177,
      "outputs": [
        {
          "output_type": "execute_result",
          "data": {
            "text/plain": [
              "<matplotlib.image.AxesImage at 0x7f6b99d2f278>"
            ]
          },
          "metadata": {
            "tags": []
          },
          "execution_count": 177
        },
        {
          "output_type": "display_data",
          "data": {
            "image/png": "[encoded data removed]",
            "text/plain": [
              "<Figure size 432x288 with 1 Axes>"
            ]
          },
          "metadata": {
            "tags": [],
            "needs_background": "light"
          }
        }
      ]
    },
    {
      "cell_type": "code",
      "metadata": {
        "id": "m0LSvQ-RoaMG",
        "outputId": "8e9c8dcb-4013-4e23-e52a-e4e6987e3757",
        "colab": {
          "base_uri": "https://localhost:8080/",
          "height": 286
        }
      },
      "source": [
        "face_bgr = face[..., ::-1]\n",
        "plt.imshow(face_bgr)"
      ],
      "execution_count": 178,
      "outputs": [
        {
          "output_type": "execute_result",
          "data": {
            "text/plain": [
              "<matplotlib.image.AxesImage at 0x7f6b986cf630>"
            ]
          },
          "metadata": {
            "tags": []
          },
          "execution_count": 178
        },
        {
          "output_type": "display_data",
          "data": {
            "image/png": "[encoded data removed]",
            "text/plain": [
              "<Figure size 432x288 with 1 Axes>"
            ]
          },
          "metadata": {
            "tags": [],
            "needs_background": "light"
          }
        }
      ]
    },
    {
      "cell_type": "markdown",
      "metadata": {
        "id": "E5Wi1P78cs2B"
      },
      "source": [
        "## Conclusion\n",
        "\n",
        "Well done! you're now an experienced numpy user! \n",
        "\n",
        "Your new skills will prove useful, even out of the field of machine learning. \n",
        "\n",
        "Just one word of caution for the future: **Don't reinvent the wheel**. It's highly probable that what you'll need has already been implemented by others using numpy. So don't hesitate to have a look at existing scientific python packages before starting to code. For example: \n",
        "\n",
        "* [scikit-image](https://scikit-image.org/) provides image manipulation tools \n",
        "* [opencv](https://pypi.org/project/opencv-python/) is a full-fledged computer vision library, and comes with many tools as well. \n",
        "* [scikit-learn](https://scikit-learn.org/stable/) has methods for typical array manipulation in machine learning, \n",
        "* [keras](https://keras.io/) provides preprocessing tools if you use Keras+TensorFlow for deep learning\n",
        "* PyTorch also has many preprocessing functions, in the [torchvision](https://pytorch.org/docs/stable/torchvision/transforms.html), [torchaudio](https://pytorch.org/audio/), and [torchtext](https://pytorch.org/text/).\n"
      ]
    }
  ]
}